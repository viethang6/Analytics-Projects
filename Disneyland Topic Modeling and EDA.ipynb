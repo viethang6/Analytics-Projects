{
  "cells": [
    {
      "cell_type": "code",
      "execution_count": null,
      "metadata": {
        "id": "ei_DGZryOBb8"
      },
      "outputs": [],
      "source": [
        "import pandas as pd\n",
        "import numpy as np\n",
        "import matplotlib.pyplot as plt\n",
        "from nltk.corpus import stopwords\n",
        "import re\n",
        "import gc\n",
        "import seaborn as sns\n",
        "from sklearn.decomposition import NMF\n",
        "from sklearn.feature_extraction.text import TfidfVectorizer\n",
        "from copy import deepcopy"
      ]
    },
    {
      "cell_type": "code",
      "execution_count": null,
      "metadata": {
        "id": "957_v8nDS84B",
        "colab": {
          "base_uri": "https://localhost:8080/",
          "height": 1000
        },
        "outputId": "272605fa-03c4-4726-8502-5f1b0f363a50"
      },
      "outputs": [
        {
          "output_type": "stream",
          "name": "stdout",
          "text": [
            "Collecting textacy\n",
            "  Downloading textacy-0.11.0-py3-none-any.whl (200 kB)\n",
            "\u001b[?25l\r\u001b[K     |█▋                              | 10 kB 22.5 MB/s eta 0:00:01\r\u001b[K     |███▎                            | 20 kB 28.2 MB/s eta 0:00:01\r\u001b[K     |█████                           | 30 kB 30.5 MB/s eta 0:00:01\r\u001b[K     |██████▌                         | 40 kB 21.4 MB/s eta 0:00:01\r\u001b[K     |████████▏                       | 51 kB 11.9 MB/s eta 0:00:01\r\u001b[K     |█████████▉                      | 61 kB 13.6 MB/s eta 0:00:01\r\u001b[K     |███████████▌                    | 71 kB 12.1 MB/s eta 0:00:01\r\u001b[K     |█████████████                   | 81 kB 13.0 MB/s eta 0:00:01\r\u001b[K     |██████████████▊                 | 92 kB 14.2 MB/s eta 0:00:01\r\u001b[K     |████████████████▍               | 102 kB 13.1 MB/s eta 0:00:01\r\u001b[K     |██████████████████              | 112 kB 13.1 MB/s eta 0:00:01\r\u001b[K     |███████████████████▋            | 122 kB 13.1 MB/s eta 0:00:01\r\u001b[K     |█████████████████████▎          | 133 kB 13.1 MB/s eta 0:00:01\r\u001b[K     |███████████████████████         | 143 kB 13.1 MB/s eta 0:00:01\r\u001b[K     |████████████████████████▌       | 153 kB 13.1 MB/s eta 0:00:01\r\u001b[K     |██████████████████████████▏     | 163 kB 13.1 MB/s eta 0:00:01\r\u001b[K     |███████████████████████████▉    | 174 kB 13.1 MB/s eta 0:00:01\r\u001b[K     |█████████████████████████████▍  | 184 kB 13.1 MB/s eta 0:00:01\r\u001b[K     |███████████████████████████████ | 194 kB 13.1 MB/s eta 0:00:01\r\u001b[K     |████████████████████████████████| 200 kB 13.1 MB/s \n",
            "\u001b[?25hRequirement already satisfied: scipy>=0.17.0 in /usr/local/lib/python3.7/dist-packages (from textacy) (1.4.1)\n",
            "Collecting spacy>=3.0.0\n",
            "  Downloading spacy-3.3.0-cp37-cp37m-manylinux_2_17_x86_64.manylinux2014_x86_64.whl (6.2 MB)\n",
            "\u001b[K     |████████████████████████████████| 6.2 MB 64.2 MB/s \n",
            "\u001b[?25hCollecting cytoolz>=0.10.1\n",
            "  Downloading cytoolz-0.11.2.tar.gz (481 kB)\n",
            "\u001b[K     |████████████████████████████████| 481 kB 65.8 MB/s \n",
            "\u001b[?25hCollecting jellyfish>=0.8.0\n",
            "  Downloading jellyfish-0.9.0.tar.gz (132 kB)\n",
            "\u001b[K     |████████████████████████████████| 132 kB 66.7 MB/s \n",
            "\u001b[?25hRequirement already satisfied: scikit-learn>=0.19.0 in /usr/local/lib/python3.7/dist-packages (from textacy) (1.0.2)\n",
            "Requirement already satisfied: tqdm>=4.19.6 in /usr/local/lib/python3.7/dist-packages (from textacy) (4.64.0)\n",
            "Requirement already satisfied: cachetools>=4.0.0 in /usr/local/lib/python3.7/dist-packages (from textacy) (4.2.4)\n",
            "Requirement already satisfied: requests>=2.10.0 in /usr/local/lib/python3.7/dist-packages (from textacy) (2.23.0)\n",
            "Requirement already satisfied: networkx>=2.0 in /usr/local/lib/python3.7/dist-packages (from textacy) (2.6.3)\n",
            "Collecting pyphen>=0.10.0\n",
            "  Downloading pyphen-0.12.0-py3-none-any.whl (2.0 MB)\n",
            "\u001b[K     |████████████████████████████████| 2.0 MB 59.1 MB/s \n",
            "\u001b[?25hRequirement already satisfied: joblib>=0.13.0 in /usr/local/lib/python3.7/dist-packages (from textacy) (1.1.0)\n",
            "Requirement already satisfied: numpy>=1.17.0 in /usr/local/lib/python3.7/dist-packages (from textacy) (1.21.6)\n",
            "Requirement already satisfied: toolz>=0.8.0 in /usr/local/lib/python3.7/dist-packages (from cytoolz>=0.10.1->textacy) (0.11.2)\n",
            "Requirement already satisfied: certifi>=2017.4.17 in /usr/local/lib/python3.7/dist-packages (from requests>=2.10.0->textacy) (2021.10.8)\n",
            "Requirement already satisfied: idna<3,>=2.5 in /usr/local/lib/python3.7/dist-packages (from requests>=2.10.0->textacy) (2.10)\n",
            "Requirement already satisfied: chardet<4,>=3.0.2 in /usr/local/lib/python3.7/dist-packages (from requests>=2.10.0->textacy) (3.0.4)\n",
            "Requirement already satisfied: urllib3!=1.25.0,!=1.25.1,<1.26,>=1.21.1 in /usr/local/lib/python3.7/dist-packages (from requests>=2.10.0->textacy) (1.24.3)\n",
            "Requirement already satisfied: threadpoolctl>=2.0.0 in /usr/local/lib/python3.7/dist-packages (from scikit-learn>=0.19.0->textacy) (3.1.0)\n",
            "Collecting srsly<3.0.0,>=2.4.3\n",
            "  Downloading srsly-2.4.3-cp37-cp37m-manylinux_2_17_x86_64.manylinux2014_x86_64.whl (457 kB)\n",
            "\u001b[K     |████████████████████████████████| 457 kB 66.8 MB/s \n",
            "\u001b[?25hCollecting pathy>=0.3.5\n",
            "  Downloading pathy-0.6.1-py3-none-any.whl (42 kB)\n",
            "\u001b[K     |████████████████████████████████| 42 kB 1.4 MB/s \n",
            "\u001b[?25hRequirement already satisfied: setuptools in /usr/local/lib/python3.7/dist-packages (from spacy>=3.0.0->textacy) (57.4.0)\n",
            "Requirement already satisfied: blis<0.8.0,>=0.4.0 in /usr/local/lib/python3.7/dist-packages (from spacy>=3.0.0->textacy) (0.4.1)\n",
            "Collecting thinc<8.1.0,>=8.0.14\n",
            "  Downloading thinc-8.0.15-cp37-cp37m-manylinux_2_17_x86_64.manylinux2014_x86_64.whl (653 kB)\n",
            "\u001b[K     |████████████████████████████████| 653 kB 53.2 MB/s \n",
            "\u001b[?25hCollecting spacy-loggers<2.0.0,>=1.0.0\n",
            "  Downloading spacy_loggers-1.0.2-py3-none-any.whl (7.2 kB)\n",
            "Collecting typer<0.5.0,>=0.3.0\n",
            "  Downloading typer-0.4.1-py3-none-any.whl (27 kB)\n",
            "Collecting pydantic!=1.8,!=1.8.1,<1.9.0,>=1.7.4\n",
            "  Downloading pydantic-1.8.2-cp37-cp37m-manylinux2014_x86_64.whl (10.1 MB)\n",
            "\u001b[K     |████████████████████████████████| 10.1 MB 58.3 MB/s \n",
            "\u001b[?25hRequirement already satisfied: preshed<3.1.0,>=3.0.2 in /usr/local/lib/python3.7/dist-packages (from spacy>=3.0.0->textacy) (3.0.6)\n",
            "Collecting spacy-legacy<3.1.0,>=3.0.9\n",
            "  Downloading spacy_legacy-3.0.9-py2.py3-none-any.whl (20 kB)\n",
            "Requirement already satisfied: packaging>=20.0 in /usr/local/lib/python3.7/dist-packages (from spacy>=3.0.0->textacy) (21.3)\n",
            "Collecting langcodes<4.0.0,>=3.2.0\n",
            "  Downloading langcodes-3.3.0-py3-none-any.whl (181 kB)\n",
            "\u001b[K     |████████████████████████████████| 181 kB 90.6 MB/s \n",
            "\u001b[?25hRequirement already satisfied: murmurhash<1.1.0,>=0.28.0 in /usr/local/lib/python3.7/dist-packages (from spacy>=3.0.0->textacy) (1.0.7)\n",
            "Requirement already satisfied: jinja2 in /usr/local/lib/python3.7/dist-packages (from spacy>=3.0.0->textacy) (2.11.3)\n",
            "Requirement already satisfied: wasabi<1.1.0,>=0.9.1 in /usr/local/lib/python3.7/dist-packages (from spacy>=3.0.0->textacy) (0.9.1)\n",
            "Collecting typing-extensions<4.0.0.0,>=3.7.4\n",
            "  Downloading typing_extensions-3.10.0.2-py3-none-any.whl (26 kB)\n",
            "Collecting catalogue<2.1.0,>=2.0.6\n",
            "  Downloading catalogue-2.0.7-py3-none-any.whl (17 kB)\n",
            "Requirement already satisfied: cymem<2.1.0,>=2.0.2 in /usr/local/lib/python3.7/dist-packages (from spacy>=3.0.0->textacy) (2.0.6)\n",
            "Requirement already satisfied: zipp>=0.5 in /usr/local/lib/python3.7/dist-packages (from catalogue<2.1.0,>=2.0.6->spacy>=3.0.0->textacy) (3.8.0)\n",
            "Requirement already satisfied: pyparsing!=3.0.5,>=2.0.2 in /usr/local/lib/python3.7/dist-packages (from packaging>=20.0->spacy>=3.0.0->textacy) (3.0.8)\n",
            "Collecting smart-open<6.0.0,>=5.0.0\n",
            "  Downloading smart_open-5.2.1-py3-none-any.whl (58 kB)\n",
            "\u001b[K     |████████████████████████████████| 58 kB 5.8 MB/s \n",
            "\u001b[?25hRequirement already satisfied: click<9.0.0,>=7.1.1 in /usr/local/lib/python3.7/dist-packages (from typer<0.5.0,>=0.3.0->spacy>=3.0.0->textacy) (7.1.2)\n",
            "Requirement already satisfied: MarkupSafe>=0.23 in /usr/local/lib/python3.7/dist-packages (from jinja2->spacy>=3.0.0->textacy) (2.0.1)\n",
            "Building wheels for collected packages: cytoolz, jellyfish\n",
            "  Building wheel for cytoolz (setup.py) ... \u001b[?25l\u001b[?25hdone\n",
            "  Created wheel for cytoolz: filename=cytoolz-0.11.2-cp37-cp37m-linux_x86_64.whl size=1230823 sha256=a14c3270a877262a2180ff0de8f386c2bf480dfa5ba48bfe6aec9633be69f32e\n",
            "  Stored in directory: /root/.cache/pip/wheels/38/70/71/ca13ea3d36ccd0b3d0ec7d7a4ca67522048d695b556bba4f59\n",
            "  Building wheel for jellyfish (setup.py) ... \u001b[?25l\u001b[?25hdone\n",
            "  Created wheel for jellyfish: filename=jellyfish-0.9.0-cp37-cp37m-linux_x86_64.whl size=73975 sha256=bec519335b3ff9421743d5a719c236b95217c939df66fe858736d138b21e3841\n",
            "  Stored in directory: /root/.cache/pip/wheels/fe/99/4e/646ce766df0d070b0ef04db27aa11543e2767fda3075aec31b\n",
            "Successfully built cytoolz jellyfish\n",
            "Installing collected packages: typing-extensions, catalogue, typer, srsly, smart-open, pydantic, thinc, spacy-loggers, spacy-legacy, pathy, langcodes, spacy, pyphen, jellyfish, cytoolz, textacy\n",
            "  Attempting uninstall: typing-extensions\n",
            "    Found existing installation: typing-extensions 4.2.0\n",
            "    Uninstalling typing-extensions-4.2.0:\n",
            "      Successfully uninstalled typing-extensions-4.2.0\n",
            "  Attempting uninstall: catalogue\n",
            "    Found existing installation: catalogue 1.0.0\n",
            "    Uninstalling catalogue-1.0.0:\n",
            "      Successfully uninstalled catalogue-1.0.0\n",
            "  Attempting uninstall: srsly\n",
            "    Found existing installation: srsly 1.0.5\n",
            "    Uninstalling srsly-1.0.5:\n",
            "      Successfully uninstalled srsly-1.0.5\n",
            "  Attempting uninstall: smart-open\n",
            "    Found existing installation: smart-open 6.0.0\n",
            "    Uninstalling smart-open-6.0.0:\n",
            "      Successfully uninstalled smart-open-6.0.0\n",
            "  Attempting uninstall: thinc\n",
            "    Found existing installation: thinc 7.4.0\n",
            "    Uninstalling thinc-7.4.0:\n",
            "      Successfully uninstalled thinc-7.4.0\n",
            "  Attempting uninstall: spacy\n",
            "    Found existing installation: spacy 2.2.4\n",
            "    Uninstalling spacy-2.2.4:\n",
            "      Successfully uninstalled spacy-2.2.4\n",
            "\u001b[31mERROR: pip's dependency resolver does not currently take into account all the packages that are installed. This behaviour is the source of the following dependency conflicts.\n",
            "tensorflow 2.8.0 requires tf-estimator-nightly==2.8.0.dev2021122109, which is not installed.\u001b[0m\n",
            "Successfully installed catalogue-2.0.7 cytoolz-0.11.2 jellyfish-0.9.0 langcodes-3.3.0 pathy-0.6.1 pydantic-1.8.2 pyphen-0.12.0 smart-open-5.2.1 spacy-3.3.0 spacy-legacy-3.0.9 spacy-loggers-1.0.2 srsly-2.4.3 textacy-0.11.0 thinc-8.0.15 typer-0.4.1 typing-extensions-3.10.0.2\n"
          ]
        },
        {
          "output_type": "display_data",
          "data": {
            "application/vnd.colab-display-data+json": {
              "pip_warning": {
                "packages": [
                  "typing_extensions"
                ]
              }
            }
          },
          "metadata": {}
        }
      ],
      "source": [
        "#!pip install textacy"
      ]
    },
    {
      "cell_type": "markdown",
      "source": [
        "### Functions"
      ],
      "metadata": {
        "id": "g983SiOAzkjD"
      }
    },
    {
      "cell_type": "code",
      "execution_count": null,
      "metadata": {
        "id": "Kp3_VxJ5uxRi"
      },
      "outputs": [],
      "source": [
        "### Define All functions"
      ]
    },
    {
      "cell_type": "code",
      "source": [
        "### Function to get top documents from each topic after topic modelling (Professor's code)\n",
        "import numpy as np\n",
        "from typing import List\n",
        "\n",
        "def get_top_documents_for_each_topic(W: np.array, documents: List[str], num_docs: int = 5):\n",
        "  sorted_docs = W.argsort(axis=0)[::-1]\n",
        "  top_docs = sorted_docs[:num_docs].T\n",
        "  per_document_totals = W.sum(axis=1)\n",
        "  for topic, top_documents_for_topic in enumerate(top_docs):\n",
        "    print(f\"Topic {topic}\")\n",
        "    for doc in top_documents_for_topic:\n",
        "      score = W[doc][topic]\n",
        "      percent_about_topic = round(score / per_document_totals[doc] * 100, 1)\n",
        "      print(f\"{percent_about_topic}%\", documents[doc])\n",
        "    print(\"=\" * 50)"
      ],
      "metadata": {
        "id": "pxU2QPEdrNCm"
      },
      "execution_count": null,
      "outputs": []
    },
    {
      "cell_type": "code",
      "execution_count": null,
      "metadata": {
        "id": "I1c5LknluxVI"
      },
      "outputs": [],
      "source": [
        "## Function to do TF-IDF Vectorization\n",
        "def vectorizer(df:pd.DataFrame,min_df=0.01,max_df=0.4,ng=(2,2)):\n",
        "  vectorizer = TfidfVectorizer(ngram_range=ng,\\\n",
        "                               min_df=min_df, max_df=max_df, stop_words=\"english\",binary=True)\n",
        "  df_1, df_terms = vectorizer.fit_transform(df.Review_Text), vectorizer.get_feature_names_out()\n",
        "  df_tf_idf = pd.DataFrame(df_1.toarray(), columns=df_terms)\n",
        "  return df_tf_idf"
      ]
    },
    {
      "cell_type": "code",
      "execution_count": null,
      "metadata": {
        "id": "112FOEesuxX9"
      },
      "outputs": [],
      "source": [
        "### Function to get top tokens after topic modelling\n",
        "from typing import List\n",
        "import numpy as np\n",
        "\n",
        "def get_top_tf_idf_tokens_for_topic(H: np.array, feature_names: List[str], num_top_tokens: int = 5):\n",
        "  \"\"\"\n",
        "  Uses the H matrix (K components x M original features) to identify for each\n",
        "  topic the most frequent tokens.\n",
        "  \"\"\"\n",
        "  for topic, vector in enumerate(H):\n",
        "    print(f\"TOPIC {topic}\\n\")\n",
        "    total = vector.sum()\n",
        "    top_scores = vector.argsort()[::-1][:num_top_tokens]\n",
        "    token_names = list(map(lambda idx: feature_names[idx], top_scores))\n",
        "    strengths = list(map(lambda idx: vector[idx] / total, top_scores))\n",
        "    \n",
        "    for strength, token_name in zip(strengths, token_names):\n",
        "      print(f\"\\b{token_name} ({round(strength * 100, 1)}%)\\n\")\n",
        "    print(f\"=\" * 50)"
      ]
    },
    {
      "cell_type": "code",
      "execution_count": null,
      "metadata": {
        "id": "xwdYJtDBuxac"
      },
      "outputs": [],
      "source": [
        "### Function to pre-process document\n",
        "def preprocessing(document):\n",
        "    document = document.lower()\n",
        "    #document = re.sub('[\\.]{2,}',\" \",document)\n",
        "    document = re.sub('[^a-zA-Z0-9\\,\\!\\? \\n]', '', document)\n",
        "    document = re.sub(disney_pattern,'',document)\n",
        "    document = re.sub(christmas_pattern,'christmas',document)\n",
        "    document = re.sub(hong_kong_pattern, 'hongkong', document)\n",
        "    document = re.sub(family_pattern, 'family', document)\n",
        "    document = re.sub(time_pattern, 'time', document)\n",
        "    document = re.sub(ride_pattern, 'ride', document)\n",
        "    document = re.sub(wait_pattern, 'wait', document)\n",
        "    document = re.sub(park_pattern, 'park', document)\n",
        "    document = re.sub(age_pattern, 'age', document)\n",
        "    return document"
      ]
    },
    {
      "cell_type": "code",
      "execution_count": null,
      "metadata": {
        "id": "-UxPriNcvGRG"
      },
      "outputs": [],
      "source": [
        "### Function to plot graphs comparing different Branches\n",
        "def plot_graph(df:pd.DataFrame,graph_title:str, horiz_label:str,ax:int) -> None:\n",
        "  df['Sentiment'].value_counts().plot(kind='bar',ax=ax)\n",
        "  plt.xlabel(horiz_label)\n",
        "  ax.set_title(graph_title)"
      ]
    },
    {
      "cell_type": "code",
      "execution_count": null,
      "metadata": {
        "id": "4e2Yqt26wr_w"
      },
      "outputs": [],
      "source": [
        "### Split dataframe based on sentiment\n",
        "def sentiment_split(df:pd.DataFrame) -> pd.DataFrame:\n",
        "  df_neg = df[df['Rating']<3]\n",
        "  df_pos = df[df['Rating']>=4]\n",
        "  return df_neg,df_pos"
      ]
    },
    {
      "cell_type": "code",
      "execution_count": null,
      "metadata": {
        "id": "WEvdUSllUxBW"
      },
      "outputs": [],
      "source": [
        "## Got code from: https://www.analyticsvidhya.com/blog/2019/08/how-to-remove-stopwords-text-normalization-nltk-spacy-gensim-python/\n",
        "from spacy.lang.en import English\n",
        "def stopword_removal(text:str) ->str:\n",
        "\n",
        "  # Load English tokenizer, tagger, parser, NER and word vectors\n",
        "  nlp = English()\n",
        "\n",
        "\n",
        "  #  \"nlp\" Object is used to create documents with linguistic annotations.\n",
        "  my_doc = nlp(text)\n",
        "\n",
        "  # Create list of word tokens\n",
        "  token_list = []\n",
        "  for token in my_doc:\n",
        "      token_list.append(token.text)\n",
        "\n",
        "  from spacy.lang.en.stop_words import STOP_WORDS\n",
        "\n",
        "  # Create list of word tokens after removing stopwords\n",
        "  filtered_sentence =[] \n",
        "\n",
        "  for word in token_list:\n",
        "      lexeme = nlp.vocab[word]\n",
        "      if lexeme.is_stop == False:\n",
        "          filtered_sentence.append(word) \n",
        "  text_to_return=\" \".join(filtered_sentence)\n",
        "  return text_to_return"
      ]
    },
    {
      "cell_type": "code",
      "execution_count": null,
      "metadata": {
        "id": "yA_O0Y0kPIx4"
      },
      "outputs": [],
      "source": [
        "df = pd.read_csv('DisneylandReviews.csv',encoding = 'latin1')"
      ]
    },
    {
      "cell_type": "code",
      "execution_count": null,
      "metadata": {
        "colab": {
          "base_uri": "https://localhost:8080/",
          "height": 403
        },
        "id": "LuBnUXLcPLu6",
        "outputId": "262407ae-0b30-423e-8bd2-b04331af2850"
      },
      "outputs": [
        {
          "output_type": "execute_result",
          "data": {
            "text/plain": [
              "   Review_ID  Rating Year_Month     Reviewer_Location  \\\n",
              "0  670772142       4     2019-4             Australia   \n",
              "1  670682799       4     2019-5           Philippines   \n",
              "2  670623270       4     2019-4  United Arab Emirates   \n",
              "3  670607911       4     2019-4             Australia   \n",
              "4  670607296       4     2019-4        United Kingdom   \n",
              "5  670591897       3     2019-4             Singapore   \n",
              "6  670585330       5     2019-4                 India   \n",
              "7  670574142       3     2019-3              Malaysia   \n",
              "8  670571027       2     2019-4             Australia   \n",
              "9  670570869       5     2019-3                 India   \n",
              "\n",
              "                                         Review_Text               Branch  \n",
              "0  If you've ever been to Disneyland anywhere you...  Disneyland_HongKong  \n",
              "1  Its been a while since d last time we visit HK...  Disneyland_HongKong  \n",
              "2  Thanks God it wasn   t too hot or too humid wh...  Disneyland_HongKong  \n",
              "3  HK Disneyland is a great compact park. Unfortu...  Disneyland_HongKong  \n",
              "4  the location is not in the city, took around 1...  Disneyland_HongKong  \n",
              "5  Have been to Disney World, Disneyland Anaheim ...  Disneyland_HongKong  \n",
              "6  Great place! Your day will go by and you won't...  Disneyland_HongKong  \n",
              "7  Think of it as an intro to Disney magic for th...  Disneyland_HongKong  \n",
              "8  Feel so let down with this place,the Disneylan...  Disneyland_HongKong  \n",
              "9  I can go on talking about Disneyland. Whatever...  Disneyland_HongKong  "
            ],
            "text/html": [
              "\n",
              "  <div id=\"df-6f44afa5-8ff8-476d-8d4b-33956d477b27\">\n",
              "    <div class=\"colab-df-container\">\n",
              "      <div>\n",
              "<style scoped>\n",
              "    .dataframe tbody tr th:only-of-type {\n",
              "        vertical-align: middle;\n",
              "    }\n",
              "\n",
              "    .dataframe tbody tr th {\n",
              "        vertical-align: top;\n",
              "    }\n",
              "\n",
              "    .dataframe thead th {\n",
              "        text-align: right;\n",
              "    }\n",
              "</style>\n",
              "<table border=\"1\" class=\"dataframe\">\n",
              "  <thead>\n",
              "    <tr style=\"text-align: right;\">\n",
              "      <th></th>\n",
              "      <th>Review_ID</th>\n",
              "      <th>Rating</th>\n",
              "      <th>Year_Month</th>\n",
              "      <th>Reviewer_Location</th>\n",
              "      <th>Review_Text</th>\n",
              "      <th>Branch</th>\n",
              "    </tr>\n",
              "  </thead>\n",
              "  <tbody>\n",
              "    <tr>\n",
              "      <th>0</th>\n",
              "      <td>670772142</td>\n",
              "      <td>4</td>\n",
              "      <td>2019-4</td>\n",
              "      <td>Australia</td>\n",
              "      <td>If you've ever been to Disneyland anywhere you...</td>\n",
              "      <td>Disneyland_HongKong</td>\n",
              "    </tr>\n",
              "    <tr>\n",
              "      <th>1</th>\n",
              "      <td>670682799</td>\n",
              "      <td>4</td>\n",
              "      <td>2019-5</td>\n",
              "      <td>Philippines</td>\n",
              "      <td>Its been a while since d last time we visit HK...</td>\n",
              "      <td>Disneyland_HongKong</td>\n",
              "    </tr>\n",
              "    <tr>\n",
              "      <th>2</th>\n",
              "      <td>670623270</td>\n",
              "      <td>4</td>\n",
              "      <td>2019-4</td>\n",
              "      <td>United Arab Emirates</td>\n",
              "      <td>Thanks God it wasn   t too hot or too humid wh...</td>\n",
              "      <td>Disneyland_HongKong</td>\n",
              "    </tr>\n",
              "    <tr>\n",
              "      <th>3</th>\n",
              "      <td>670607911</td>\n",
              "      <td>4</td>\n",
              "      <td>2019-4</td>\n",
              "      <td>Australia</td>\n",
              "      <td>HK Disneyland is a great compact park. Unfortu...</td>\n",
              "      <td>Disneyland_HongKong</td>\n",
              "    </tr>\n",
              "    <tr>\n",
              "      <th>4</th>\n",
              "      <td>670607296</td>\n",
              "      <td>4</td>\n",
              "      <td>2019-4</td>\n",
              "      <td>United Kingdom</td>\n",
              "      <td>the location is not in the city, took around 1...</td>\n",
              "      <td>Disneyland_HongKong</td>\n",
              "    </tr>\n",
              "    <tr>\n",
              "      <th>5</th>\n",
              "      <td>670591897</td>\n",
              "      <td>3</td>\n",
              "      <td>2019-4</td>\n",
              "      <td>Singapore</td>\n",
              "      <td>Have been to Disney World, Disneyland Anaheim ...</td>\n",
              "      <td>Disneyland_HongKong</td>\n",
              "    </tr>\n",
              "    <tr>\n",
              "      <th>6</th>\n",
              "      <td>670585330</td>\n",
              "      <td>5</td>\n",
              "      <td>2019-4</td>\n",
              "      <td>India</td>\n",
              "      <td>Great place! Your day will go by and you won't...</td>\n",
              "      <td>Disneyland_HongKong</td>\n",
              "    </tr>\n",
              "    <tr>\n",
              "      <th>7</th>\n",
              "      <td>670574142</td>\n",
              "      <td>3</td>\n",
              "      <td>2019-3</td>\n",
              "      <td>Malaysia</td>\n",
              "      <td>Think of it as an intro to Disney magic for th...</td>\n",
              "      <td>Disneyland_HongKong</td>\n",
              "    </tr>\n",
              "    <tr>\n",
              "      <th>8</th>\n",
              "      <td>670571027</td>\n",
              "      <td>2</td>\n",
              "      <td>2019-4</td>\n",
              "      <td>Australia</td>\n",
              "      <td>Feel so let down with this place,the Disneylan...</td>\n",
              "      <td>Disneyland_HongKong</td>\n",
              "    </tr>\n",
              "    <tr>\n",
              "      <th>9</th>\n",
              "      <td>670570869</td>\n",
              "      <td>5</td>\n",
              "      <td>2019-3</td>\n",
              "      <td>India</td>\n",
              "      <td>I can go on talking about Disneyland. Whatever...</td>\n",
              "      <td>Disneyland_HongKong</td>\n",
              "    </tr>\n",
              "  </tbody>\n",
              "</table>\n",
              "</div>\n",
              "      <button class=\"colab-df-convert\" onclick=\"convertToInteractive('df-6f44afa5-8ff8-476d-8d4b-33956d477b27')\"\n",
              "              title=\"Convert this dataframe to an interactive table.\"\n",
              "              style=\"display:none;\">\n",
              "        \n",
              "  <svg xmlns=\"http://www.w3.org/2000/svg\" height=\"24px\"viewBox=\"0 0 24 24\"\n",
              "       width=\"24px\">\n",
              "    <path d=\"M0 0h24v24H0V0z\" fill=\"none\"/>\n",
              "    <path d=\"M18.56 5.44l.94 2.06.94-2.06 2.06-.94-2.06-.94-.94-2.06-.94 2.06-2.06.94zm-11 1L8.5 8.5l.94-2.06 2.06-.94-2.06-.94L8.5 2.5l-.94 2.06-2.06.94zm10 10l.94 2.06.94-2.06 2.06-.94-2.06-.94-.94-2.06-.94 2.06-2.06.94z\"/><path d=\"M17.41 7.96l-1.37-1.37c-.4-.4-.92-.59-1.43-.59-.52 0-1.04.2-1.43.59L10.3 9.45l-7.72 7.72c-.78.78-.78 2.05 0 2.83L4 21.41c.39.39.9.59 1.41.59.51 0 1.02-.2 1.41-.59l7.78-7.78 2.81-2.81c.8-.78.8-2.07 0-2.86zM5.41 20L4 18.59l7.72-7.72 1.47 1.35L5.41 20z\"/>\n",
              "  </svg>\n",
              "      </button>\n",
              "      \n",
              "  <style>\n",
              "    .colab-df-container {\n",
              "      display:flex;\n",
              "      flex-wrap:wrap;\n",
              "      gap: 12px;\n",
              "    }\n",
              "\n",
              "    .colab-df-convert {\n",
              "      background-color: #E8F0FE;\n",
              "      border: none;\n",
              "      border-radius: 50%;\n",
              "      cursor: pointer;\n",
              "      display: none;\n",
              "      fill: #1967D2;\n",
              "      height: 32px;\n",
              "      padding: 0 0 0 0;\n",
              "      width: 32px;\n",
              "    }\n",
              "\n",
              "    .colab-df-convert:hover {\n",
              "      background-color: #E2EBFA;\n",
              "      box-shadow: 0px 1px 2px rgba(60, 64, 67, 0.3), 0px 1px 3px 1px rgba(60, 64, 67, 0.15);\n",
              "      fill: #174EA6;\n",
              "    }\n",
              "\n",
              "    [theme=dark] .colab-df-convert {\n",
              "      background-color: #3B4455;\n",
              "      fill: #D2E3FC;\n",
              "    }\n",
              "\n",
              "    [theme=dark] .colab-df-convert:hover {\n",
              "      background-color: #434B5C;\n",
              "      box-shadow: 0px 1px 3px 1px rgba(0, 0, 0, 0.15);\n",
              "      filter: drop-shadow(0px 1px 2px rgba(0, 0, 0, 0.3));\n",
              "      fill: #FFFFFF;\n",
              "    }\n",
              "  </style>\n",
              "\n",
              "      <script>\n",
              "        const buttonEl =\n",
              "          document.querySelector('#df-6f44afa5-8ff8-476d-8d4b-33956d477b27 button.colab-df-convert');\n",
              "        buttonEl.style.display =\n",
              "          google.colab.kernel.accessAllowed ? 'block' : 'none';\n",
              "\n",
              "        async function convertToInteractive(key) {\n",
              "          const element = document.querySelector('#df-6f44afa5-8ff8-476d-8d4b-33956d477b27');\n",
              "          const dataTable =\n",
              "            await google.colab.kernel.invokeFunction('convertToInteractive',\n",
              "                                                     [key], {});\n",
              "          if (!dataTable) return;\n",
              "\n",
              "          const docLinkHtml = 'Like what you see? Visit the ' +\n",
              "            '<a target=\"_blank\" href=https://colab.research.google.com/notebooks/data_table.ipynb>data table notebook</a>'\n",
              "            + ' to learn more about interactive tables.';\n",
              "          element.innerHTML = '';\n",
              "          dataTable['output_type'] = 'display_data';\n",
              "          await google.colab.output.renderOutput(dataTable, element);\n",
              "          const docLink = document.createElement('div');\n",
              "          docLink.innerHTML = docLinkHtml;\n",
              "          element.appendChild(docLink);\n",
              "        }\n",
              "      </script>\n",
              "    </div>\n",
              "  </div>\n",
              "  "
            ]
          },
          "metadata": {},
          "execution_count": 6
        }
      ],
      "source": [
        "df.head(10)"
      ]
    },
    {
      "cell_type": "markdown",
      "source": [
        "### Data Cleaning"
      ],
      "metadata": {
        "id": "h_OXSKcRH19U"
      }
    },
    {
      "cell_type": "code",
      "execution_count": null,
      "metadata": {
        "colab": {
          "base_uri": "https://localhost:8080/"
        },
        "id": "cImc_FI3SqTc",
        "outputId": "c2e07f6e-4b91-4a88-95fb-3de60c87ce51"
      },
      "outputs": [
        {
          "output_type": "execute_result",
          "data": {
            "text/plain": [
              "Review_ID            0.0\n",
              "Rating               0.0\n",
              "Year_Month           0.0\n",
              "Reviewer_Location    0.0\n",
              "Review_Text          0.0\n",
              "Branch               0.0\n",
              "dtype: float64"
            ]
          },
          "metadata": {},
          "execution_count": 7
        }
      ],
      "source": [
        "### Check for missing values in the dataset\n",
        "df.isnull().sum()/len(df)*100"
      ]
    },
    {
      "cell_type": "code",
      "execution_count": null,
      "metadata": {
        "id": "Bhvhb_5taMiU"
      },
      "outputs": [],
      "source": [
        "### Drop duplicate reviews\n",
        "df.drop_duplicates(subset='Review_Text', inplace=True, keep='first')"
      ]
    },
    {
      "cell_type": "code",
      "source": [
        "### Although we do not have NAN values, some fields for Year_Month are populated with 'missing'\n",
        "df[df['Year_Month']=='missing']"
      ],
      "metadata": {
        "colab": {
          "base_uri": "https://localhost:8080/",
          "height": 480
        },
        "id": "IpsqHrgFQRCL",
        "outputId": "202d99f4-368e-411f-c853-2356569361c1"
      },
      "execution_count": null,
      "outputs": [
        {
          "output_type": "execute_result",
          "data": {
            "text/plain": [
              "       Review_ID  Rating Year_Month Reviewer_Location  \\\n",
              "269    647038712       4    missing       Philippines   \n",
              "282    646466731       3    missing         Singapore   \n",
              "622    620580249       3    missing            Canada   \n",
              "5347   318799221       4    missing         Australia   \n",
              "5799   284745152       5    missing       Philippines   \n",
              "...          ...     ...        ...               ...   \n",
              "42651    1765031       5    missing    United Kingdom   \n",
              "42652    1659553       5    missing            Canada   \n",
              "42653    1645894       5    missing      South Africa   \n",
              "42654    1618637       4    missing     United States   \n",
              "42655    1536786       4    missing    United Kingdom   \n",
              "\n",
              "                                             Review_Text               Branch  \n",
              "269    The first thing on our agenda when we finished...  Disneyland_HongKong  \n",
              "282    Brought mum for the first time to Disneyland w...  Disneyland_HongKong  \n",
              "622    I have been to Tokyo and LA Disneyland!I also ...  Disneyland_HongKong  \n",
              "5347   We pre bought tickets at the hotel (same price...  Disneyland_HongKong  \n",
              "5799   Disneyland is indeed the most magical place in...  Disneyland_HongKong  \n",
              "...                                                  ...                  ...  \n",
              "42651  i went to disneyland paris in july 03 and thou...     Disneyland_Paris  \n",
              "42652  2 adults and 1 child of 11 visited Disneyland ...     Disneyland_Paris  \n",
              "42653  My eleven year old daughter and myself went to...     Disneyland_Paris  \n",
              "42654  This hotel, part of the Disneyland Paris compl...     Disneyland_Paris  \n",
              "42655  I went to the Disneyparis resort, in 1996, wit...     Disneyland_Paris  \n",
              "\n",
              "[2610 rows x 6 columns]"
            ],
            "text/html": [
              "\n",
              "  <div id=\"df-7486671b-073a-4fe2-8469-695857c0c643\">\n",
              "    <div class=\"colab-df-container\">\n",
              "      <div>\n",
              "<style scoped>\n",
              "    .dataframe tbody tr th:only-of-type {\n",
              "        vertical-align: middle;\n",
              "    }\n",
              "\n",
              "    .dataframe tbody tr th {\n",
              "        vertical-align: top;\n",
              "    }\n",
              "\n",
              "    .dataframe thead th {\n",
              "        text-align: right;\n",
              "    }\n",
              "</style>\n",
              "<table border=\"1\" class=\"dataframe\">\n",
              "  <thead>\n",
              "    <tr style=\"text-align: right;\">\n",
              "      <th></th>\n",
              "      <th>Review_ID</th>\n",
              "      <th>Rating</th>\n",
              "      <th>Year_Month</th>\n",
              "      <th>Reviewer_Location</th>\n",
              "      <th>Review_Text</th>\n",
              "      <th>Branch</th>\n",
              "    </tr>\n",
              "  </thead>\n",
              "  <tbody>\n",
              "    <tr>\n",
              "      <th>269</th>\n",
              "      <td>647038712</td>\n",
              "      <td>4</td>\n",
              "      <td>missing</td>\n",
              "      <td>Philippines</td>\n",
              "      <td>The first thing on our agenda when we finished...</td>\n",
              "      <td>Disneyland_HongKong</td>\n",
              "    </tr>\n",
              "    <tr>\n",
              "      <th>282</th>\n",
              "      <td>646466731</td>\n",
              "      <td>3</td>\n",
              "      <td>missing</td>\n",
              "      <td>Singapore</td>\n",
              "      <td>Brought mum for the first time to Disneyland w...</td>\n",
              "      <td>Disneyland_HongKong</td>\n",
              "    </tr>\n",
              "    <tr>\n",
              "      <th>622</th>\n",
              "      <td>620580249</td>\n",
              "      <td>3</td>\n",
              "      <td>missing</td>\n",
              "      <td>Canada</td>\n",
              "      <td>I have been to Tokyo and LA Disneyland!I also ...</td>\n",
              "      <td>Disneyland_HongKong</td>\n",
              "    </tr>\n",
              "    <tr>\n",
              "      <th>5347</th>\n",
              "      <td>318799221</td>\n",
              "      <td>4</td>\n",
              "      <td>missing</td>\n",
              "      <td>Australia</td>\n",
              "      <td>We pre bought tickets at the hotel (same price...</td>\n",
              "      <td>Disneyland_HongKong</td>\n",
              "    </tr>\n",
              "    <tr>\n",
              "      <th>5799</th>\n",
              "      <td>284745152</td>\n",
              "      <td>5</td>\n",
              "      <td>missing</td>\n",
              "      <td>Philippines</td>\n",
              "      <td>Disneyland is indeed the most magical place in...</td>\n",
              "      <td>Disneyland_HongKong</td>\n",
              "    </tr>\n",
              "    <tr>\n",
              "      <th>...</th>\n",
              "      <td>...</td>\n",
              "      <td>...</td>\n",
              "      <td>...</td>\n",
              "      <td>...</td>\n",
              "      <td>...</td>\n",
              "      <td>...</td>\n",
              "    </tr>\n",
              "    <tr>\n",
              "      <th>42651</th>\n",
              "      <td>1765031</td>\n",
              "      <td>5</td>\n",
              "      <td>missing</td>\n",
              "      <td>United Kingdom</td>\n",
              "      <td>i went to disneyland paris in july 03 and thou...</td>\n",
              "      <td>Disneyland_Paris</td>\n",
              "    </tr>\n",
              "    <tr>\n",
              "      <th>42652</th>\n",
              "      <td>1659553</td>\n",
              "      <td>5</td>\n",
              "      <td>missing</td>\n",
              "      <td>Canada</td>\n",
              "      <td>2 adults and 1 child of 11 visited Disneyland ...</td>\n",
              "      <td>Disneyland_Paris</td>\n",
              "    </tr>\n",
              "    <tr>\n",
              "      <th>42653</th>\n",
              "      <td>1645894</td>\n",
              "      <td>5</td>\n",
              "      <td>missing</td>\n",
              "      <td>South Africa</td>\n",
              "      <td>My eleven year old daughter and myself went to...</td>\n",
              "      <td>Disneyland_Paris</td>\n",
              "    </tr>\n",
              "    <tr>\n",
              "      <th>42654</th>\n",
              "      <td>1618637</td>\n",
              "      <td>4</td>\n",
              "      <td>missing</td>\n",
              "      <td>United States</td>\n",
              "      <td>This hotel, part of the Disneyland Paris compl...</td>\n",
              "      <td>Disneyland_Paris</td>\n",
              "    </tr>\n",
              "    <tr>\n",
              "      <th>42655</th>\n",
              "      <td>1536786</td>\n",
              "      <td>4</td>\n",
              "      <td>missing</td>\n",
              "      <td>United Kingdom</td>\n",
              "      <td>I went to the Disneyparis resort, in 1996, wit...</td>\n",
              "      <td>Disneyland_Paris</td>\n",
              "    </tr>\n",
              "  </tbody>\n",
              "</table>\n",
              "<p>2610 rows × 6 columns</p>\n",
              "</div>\n",
              "      <button class=\"colab-df-convert\" onclick=\"convertToInteractive('df-7486671b-073a-4fe2-8469-695857c0c643')\"\n",
              "              title=\"Convert this dataframe to an interactive table.\"\n",
              "              style=\"display:none;\">\n",
              "        \n",
              "  <svg xmlns=\"http://www.w3.org/2000/svg\" height=\"24px\"viewBox=\"0 0 24 24\"\n",
              "       width=\"24px\">\n",
              "    <path d=\"M0 0h24v24H0V0z\" fill=\"none\"/>\n",
              "    <path d=\"M18.56 5.44l.94 2.06.94-2.06 2.06-.94-2.06-.94-.94-2.06-.94 2.06-2.06.94zm-11 1L8.5 8.5l.94-2.06 2.06-.94-2.06-.94L8.5 2.5l-.94 2.06-2.06.94zm10 10l.94 2.06.94-2.06 2.06-.94-2.06-.94-.94-2.06-.94 2.06-2.06.94z\"/><path d=\"M17.41 7.96l-1.37-1.37c-.4-.4-.92-.59-1.43-.59-.52 0-1.04.2-1.43.59L10.3 9.45l-7.72 7.72c-.78.78-.78 2.05 0 2.83L4 21.41c.39.39.9.59 1.41.59.51 0 1.02-.2 1.41-.59l7.78-7.78 2.81-2.81c.8-.78.8-2.07 0-2.86zM5.41 20L4 18.59l7.72-7.72 1.47 1.35L5.41 20z\"/>\n",
              "  </svg>\n",
              "      </button>\n",
              "      \n",
              "  <style>\n",
              "    .colab-df-container {\n",
              "      display:flex;\n",
              "      flex-wrap:wrap;\n",
              "      gap: 12px;\n",
              "    }\n",
              "\n",
              "    .colab-df-convert {\n",
              "      background-color: #E8F0FE;\n",
              "      border: none;\n",
              "      border-radius: 50%;\n",
              "      cursor: pointer;\n",
              "      display: none;\n",
              "      fill: #1967D2;\n",
              "      height: 32px;\n",
              "      padding: 0 0 0 0;\n",
              "      width: 32px;\n",
              "    }\n",
              "\n",
              "    .colab-df-convert:hover {\n",
              "      background-color: #E2EBFA;\n",
              "      box-shadow: 0px 1px 2px rgba(60, 64, 67, 0.3), 0px 1px 3px 1px rgba(60, 64, 67, 0.15);\n",
              "      fill: #174EA6;\n",
              "    }\n",
              "\n",
              "    [theme=dark] .colab-df-convert {\n",
              "      background-color: #3B4455;\n",
              "      fill: #D2E3FC;\n",
              "    }\n",
              "\n",
              "    [theme=dark] .colab-df-convert:hover {\n",
              "      background-color: #434B5C;\n",
              "      box-shadow: 0px 1px 3px 1px rgba(0, 0, 0, 0.15);\n",
              "      filter: drop-shadow(0px 1px 2px rgba(0, 0, 0, 0.3));\n",
              "      fill: #FFFFFF;\n",
              "    }\n",
              "  </style>\n",
              "\n",
              "      <script>\n",
              "        const buttonEl =\n",
              "          document.querySelector('#df-7486671b-073a-4fe2-8469-695857c0c643 button.colab-df-convert');\n",
              "        buttonEl.style.display =\n",
              "          google.colab.kernel.accessAllowed ? 'block' : 'none';\n",
              "\n",
              "        async function convertToInteractive(key) {\n",
              "          const element = document.querySelector('#df-7486671b-073a-4fe2-8469-695857c0c643');\n",
              "          const dataTable =\n",
              "            await google.colab.kernel.invokeFunction('convertToInteractive',\n",
              "                                                     [key], {});\n",
              "          if (!dataTable) return;\n",
              "\n",
              "          const docLinkHtml = 'Like what you see? Visit the ' +\n",
              "            '<a target=\"_blank\" href=https://colab.research.google.com/notebooks/data_table.ipynb>data table notebook</a>'\n",
              "            + ' to learn more about interactive tables.';\n",
              "          element.innerHTML = '';\n",
              "          dataTable['output_type'] = 'display_data';\n",
              "          await google.colab.output.renderOutput(dataTable, element);\n",
              "          const docLink = document.createElement('div');\n",
              "          docLink.innerHTML = docLinkHtml;\n",
              "          element.appendChild(docLink);\n",
              "        }\n",
              "      </script>\n",
              "    </div>\n",
              "  </div>\n",
              "  "
            ]
          },
          "metadata": {},
          "execution_count": 9
        }
      ]
    },
    {
      "cell_type": "code",
      "execution_count": null,
      "metadata": {
        "id": "H6n2eiEBQvxV"
      },
      "outputs": [],
      "source": [
        "# Replace 'missing' with np.nan\n",
        "df.loc[df['Year_Month']=='missing','Year_Month']=df.loc[df['Year_Month']==np.nan,'Year_Month']"
      ]
    },
    {
      "cell_type": "code",
      "execution_count": null,
      "metadata": {
        "id": "N8DJYmQlQvzn"
      },
      "outputs": [],
      "source": [
        "### create a temporary dataframe grouped by Branch and get the mode Year_Month for each branch\n",
        "temp=df.groupby('Branch')['Year_Month'].transform(lambda x: x.fillna(x.mode(dropna=True)[0] \\\n",
        "                                                                        if not x.mode(dropna=True).empty else np.nan))"
      ]
    },
    {
      "cell_type": "code",
      "execution_count": null,
      "metadata": {
        "id": "PfH4KyHaQv2C"
      },
      "outputs": [],
      "source": [
        "### Create a dictionary to map the filled values back to original dataframe\n",
        "temp_dict = pd.Series(temp.values,index=temp.index).to_dict()"
      ]
    },
    {
      "cell_type": "code",
      "execution_count": null,
      "metadata": {
        "id": "6rA8Q6AiQv4Z"
      },
      "outputs": [],
      "source": [
        "### Map dictionary with NaN values filled with mode Year_Month to original dataframe\n",
        "df['year_month'] = df.index.map(temp_dict)"
      ]
    },
    {
      "cell_type": "code",
      "execution_count": null,
      "metadata": {
        "id": "Br0EgIEcQ45i"
      },
      "outputs": [],
      "source": [
        "df.drop('Year_Month',axis=1,inplace=True)\n",
        "df.rename({'year_month':\"'Year_Month\"},inplace=True)"
      ]
    },
    {
      "cell_type": "code",
      "execution_count": null,
      "metadata": {
        "id": "mcBycPIRRfGk"
      },
      "outputs": [],
      "source": [
        "### Convert year_month to datetime\n",
        "df['year_month']=pd.to_datetime(df['year_month'],format='%Y-%m')"
      ]
    },
    {
      "cell_type": "code",
      "execution_count": null,
      "metadata": {
        "colab": {
          "base_uri": "https://localhost:8080/"
        },
        "id": "A106L4zkRDA6",
        "outputId": "be99e473-6434-406b-a813-63d0e1815515"
      },
      "outputs": [
        {
          "output_type": "execute_result",
          "data": {
            "text/plain": [
              "650"
            ]
          },
          "metadata": {},
          "execution_count": 16
        }
      ],
      "source": [
        "### Delete temporary dataframe and dictionary\n",
        "del temp_dict,temp\n",
        "gc.collect()"
      ]
    },
    {
      "cell_type": "code",
      "execution_count": null,
      "metadata": {
        "id": "iHzwEbOaD28-"
      },
      "outputs": [],
      "source": [
        "### Split year and month into separate columns to perform EDA, and drop the original column as it is redundant\n",
        "df['Year']= df['year_month'].dt.year\n",
        "df['Month']= df['year_month'].dt.month\n",
        "df.drop('year_month',axis=1,inplace=True)"
      ]
    },
    {
      "cell_type": "code",
      "execution_count": null,
      "metadata": {
        "colab": {
          "base_uri": "https://localhost:8080/",
          "height": 206
        },
        "id": "T90tVuuLD9Ho",
        "outputId": "a1bc9f83-7070-41d3-9b58-43c813c26f27"
      },
      "outputs": [
        {
          "output_type": "execute_result",
          "data": {
            "text/plain": [
              "   Review_ID  Rating     Reviewer_Location  \\\n",
              "0  670772142       4             Australia   \n",
              "1  670682799       4           Philippines   \n",
              "2  670623270       4  United Arab Emirates   \n",
              "3  670607911       4             Australia   \n",
              "4  670607296       4        United Kingdom   \n",
              "\n",
              "                                         Review_Text               Branch  \\\n",
              "0  If you've ever been to Disneyland anywhere you...  Disneyland_HongKong   \n",
              "1  Its been a while since d last time we visit HK...  Disneyland_HongKong   \n",
              "2  Thanks God it wasn   t too hot or too humid wh...  Disneyland_HongKong   \n",
              "3  HK Disneyland is a great compact park. Unfortu...  Disneyland_HongKong   \n",
              "4  the location is not in the city, took around _...  Disneyland_HongKong   \n",
              "\n",
              "  Sentiment  Year  Month  \n",
              "0  Positive  2019      4  \n",
              "1  Positive  2019      5  \n",
              "2  Positive  2019      4  \n",
              "3  Positive  2019      4  \n",
              "4  Positive  2019      4  "
            ],
            "text/html": [
              "\n",
              "  <div id=\"df-be8f92a7-4aba-42c9-a6bb-3254371ffe90\">\n",
              "    <div class=\"colab-df-container\">\n",
              "      <div>\n",
              "<style scoped>\n",
              "    .dataframe tbody tr th:only-of-type {\n",
              "        vertical-align: middle;\n",
              "    }\n",
              "\n",
              "    .dataframe tbody tr th {\n",
              "        vertical-align: top;\n",
              "    }\n",
              "\n",
              "    .dataframe thead th {\n",
              "        text-align: right;\n",
              "    }\n",
              "</style>\n",
              "<table border=\"1\" class=\"dataframe\">\n",
              "  <thead>\n",
              "    <tr style=\"text-align: right;\">\n",
              "      <th></th>\n",
              "      <th>Review_ID</th>\n",
              "      <th>Rating</th>\n",
              "      <th>Reviewer_Location</th>\n",
              "      <th>Review_Text</th>\n",
              "      <th>Branch</th>\n",
              "      <th>Sentiment</th>\n",
              "      <th>Year</th>\n",
              "      <th>Month</th>\n",
              "    </tr>\n",
              "  </thead>\n",
              "  <tbody>\n",
              "    <tr>\n",
              "      <th>0</th>\n",
              "      <td>670772142</td>\n",
              "      <td>4</td>\n",
              "      <td>Australia</td>\n",
              "      <td>If you've ever been to Disneyland anywhere you...</td>\n",
              "      <td>Disneyland_HongKong</td>\n",
              "      <td>Positive</td>\n",
              "      <td>2019</td>\n",
              "      <td>4</td>\n",
              "    </tr>\n",
              "    <tr>\n",
              "      <th>1</th>\n",
              "      <td>670682799</td>\n",
              "      <td>4</td>\n",
              "      <td>Philippines</td>\n",
              "      <td>Its been a while since d last time we visit HK...</td>\n",
              "      <td>Disneyland_HongKong</td>\n",
              "      <td>Positive</td>\n",
              "      <td>2019</td>\n",
              "      <td>5</td>\n",
              "    </tr>\n",
              "    <tr>\n",
              "      <th>2</th>\n",
              "      <td>670623270</td>\n",
              "      <td>4</td>\n",
              "      <td>United Arab Emirates</td>\n",
              "      <td>Thanks God it wasn   t too hot or too humid wh...</td>\n",
              "      <td>Disneyland_HongKong</td>\n",
              "      <td>Positive</td>\n",
              "      <td>2019</td>\n",
              "      <td>4</td>\n",
              "    </tr>\n",
              "    <tr>\n",
              "      <th>3</th>\n",
              "      <td>670607911</td>\n",
              "      <td>4</td>\n",
              "      <td>Australia</td>\n",
              "      <td>HK Disneyland is a great compact park. Unfortu...</td>\n",
              "      <td>Disneyland_HongKong</td>\n",
              "      <td>Positive</td>\n",
              "      <td>2019</td>\n",
              "      <td>4</td>\n",
              "    </tr>\n",
              "    <tr>\n",
              "      <th>4</th>\n",
              "      <td>670607296</td>\n",
              "      <td>4</td>\n",
              "      <td>United Kingdom</td>\n",
              "      <td>the location is not in the city, took around _...</td>\n",
              "      <td>Disneyland_HongKong</td>\n",
              "      <td>Positive</td>\n",
              "      <td>2019</td>\n",
              "      <td>4</td>\n",
              "    </tr>\n",
              "  </tbody>\n",
              "</table>\n",
              "</div>\n",
              "      <button class=\"colab-df-convert\" onclick=\"convertToInteractive('df-be8f92a7-4aba-42c9-a6bb-3254371ffe90')\"\n",
              "              title=\"Convert this dataframe to an interactive table.\"\n",
              "              style=\"display:none;\">\n",
              "        \n",
              "  <svg xmlns=\"http://www.w3.org/2000/svg\" height=\"24px\"viewBox=\"0 0 24 24\"\n",
              "       width=\"24px\">\n",
              "    <path d=\"M0 0h24v24H0V0z\" fill=\"none\"/>\n",
              "    <path d=\"M18.56 5.44l.94 2.06.94-2.06 2.06-.94-2.06-.94-.94-2.06-.94 2.06-2.06.94zm-11 1L8.5 8.5l.94-2.06 2.06-.94-2.06-.94L8.5 2.5l-.94 2.06-2.06.94zm10 10l.94 2.06.94-2.06 2.06-.94-2.06-.94-.94-2.06-.94 2.06-2.06.94z\"/><path d=\"M17.41 7.96l-1.37-1.37c-.4-.4-.92-.59-1.43-.59-.52 0-1.04.2-1.43.59L10.3 9.45l-7.72 7.72c-.78.78-.78 2.05 0 2.83L4 21.41c.39.39.9.59 1.41.59.51 0 1.02-.2 1.41-.59l7.78-7.78 2.81-2.81c.8-.78.8-2.07 0-2.86zM5.41 20L4 18.59l7.72-7.72 1.47 1.35L5.41 20z\"/>\n",
              "  </svg>\n",
              "      </button>\n",
              "      \n",
              "  <style>\n",
              "    .colab-df-container {\n",
              "      display:flex;\n",
              "      flex-wrap:wrap;\n",
              "      gap: 12px;\n",
              "    }\n",
              "\n",
              "    .colab-df-convert {\n",
              "      background-color: #E8F0FE;\n",
              "      border: none;\n",
              "      border-radius: 50%;\n",
              "      cursor: pointer;\n",
              "      display: none;\n",
              "      fill: #1967D2;\n",
              "      height: 32px;\n",
              "      padding: 0 0 0 0;\n",
              "      width: 32px;\n",
              "    }\n",
              "\n",
              "    .colab-df-convert:hover {\n",
              "      background-color: #E2EBFA;\n",
              "      box-shadow: 0px 1px 2px rgba(60, 64, 67, 0.3), 0px 1px 3px 1px rgba(60, 64, 67, 0.15);\n",
              "      fill: #174EA6;\n",
              "    }\n",
              "\n",
              "    [theme=dark] .colab-df-convert {\n",
              "      background-color: #3B4455;\n",
              "      fill: #D2E3FC;\n",
              "    }\n",
              "\n",
              "    [theme=dark] .colab-df-convert:hover {\n",
              "      background-color: #434B5C;\n",
              "      box-shadow: 0px 1px 3px 1px rgba(0, 0, 0, 0.15);\n",
              "      filter: drop-shadow(0px 1px 2px rgba(0, 0, 0, 0.3));\n",
              "      fill: #FFFFFF;\n",
              "    }\n",
              "  </style>\n",
              "\n",
              "      <script>\n",
              "        const buttonEl =\n",
              "          document.querySelector('#df-be8f92a7-4aba-42c9-a6bb-3254371ffe90 button.colab-df-convert');\n",
              "        buttonEl.style.display =\n",
              "          google.colab.kernel.accessAllowed ? 'block' : 'none';\n",
              "\n",
              "        async function convertToInteractive(key) {\n",
              "          const element = document.querySelector('#df-be8f92a7-4aba-42c9-a6bb-3254371ffe90');\n",
              "          const dataTable =\n",
              "            await google.colab.kernel.invokeFunction('convertToInteractive',\n",
              "                                                     [key], {});\n",
              "          if (!dataTable) return;\n",
              "\n",
              "          const docLinkHtml = 'Like what you see? Visit the ' +\n",
              "            '<a target=\"_blank\" href=https://colab.research.google.com/notebooks/data_table.ipynb>data table notebook</a>'\n",
              "            + ' to learn more about interactive tables.';\n",
              "          element.innerHTML = '';\n",
              "          dataTable['output_type'] = 'display_data';\n",
              "          await google.colab.output.renderOutput(dataTable, element);\n",
              "          const docLink = document.createElement('div');\n",
              "          docLink.innerHTML = docLinkHtml;\n",
              "          element.appendChild(docLink);\n",
              "        }\n",
              "      </script>\n",
              "    </div>\n",
              "  </div>\n",
              "  "
            ]
          },
          "metadata": {},
          "execution_count": 33
        }
      ],
      "source": [
        "df.head()"
      ]
    },
    {
      "cell_type": "markdown",
      "source": [
        "### EDA"
      ],
      "metadata": {
        "id": "VqKbIJ5IH7-R"
      }
    },
    {
      "cell_type": "code",
      "execution_count": null,
      "metadata": {
        "colab": {
          "base_uri": "https://localhost:8080/",
          "height": 656
        },
        "id": "ezxsk4XKSIGt",
        "outputId": "d9017b31-6d22-4ecf-8d1c-2d74b2ac819f"
      },
      "outputs": [
        {
          "output_type": "display_data",
          "data": {
            "text/plain": [
              "<Figure size 864x576 with 1 Axes>"
            ],
            "image/png": "[encoded data removed]"
          },
          "metadata": {
            "needs_background": "light"
          }
        }
      ],
      "source": [
        "df.groupby('Branch').count()['Rating'].sort_values().plot(kind='bar',figsize=(12,8))\n",
        "plt.xlabel('Branch',fontsize=20)\n",
        "plt.ylabel('Count',fontsize=20)\n",
        "plt.title('Count of reviews in each Branch', fontsize=20)\n",
        "plt.yticks(fontsize=16)\n",
        "plt.xticks(fontsize=16, rotation = 45)\n",
        "plt.show()"
      ]
    },
    {
      "cell_type": "code",
      "execution_count": null,
      "metadata": {
        "colab": {
          "base_uri": "https://localhost:8080/",
          "height": 532
        },
        "id": "lWLgbKApDvne",
        "outputId": "6c2657ff-6a97-42e1-b29c-99f566464809"
      },
      "outputs": [
        {
          "output_type": "display_data",
          "data": {
            "text/plain": [
              "<Figure size 864x576 with 1 Axes>"
            ],
            "image/png": "[encoded data removed]"
          },
          "metadata": {
            "needs_background": "light"
          }
        }
      ],
      "source": [
        "### Reviews per year for each branch\n",
        "plt.figure(figsize=(12,8))\n",
        "sns.countplot(data=df,x='Year',hue='Branch',palette='tab10');\n",
        "plt.xlabel('Branch',fontsize=20)\n",
        "plt.ylabel('Count',fontsize=20)\n",
        "plt.title('Reviews per year for each branch', fontsize=20)\n",
        "plt.yticks(fontsize=16)\n",
        "plt.xticks(fontsize=16)\n",
        "plt.show()"
      ]
    },
    {
      "cell_type": "code",
      "source": [
        "plt.figure(figsize=(12,8))\n",
        "sns.countplot(data=df,x='Month',hue='Branch',palette='tab10');\n",
        "plt.xlabel('Branch',fontsize=20)\n",
        "plt.ylabel('Count',fontsize=20)\n",
        "plt.title('Reviews per month for each branch', fontsize=20)\n",
        "plt.yticks(fontsize=16)\n",
        "plt.xticks(fontsize=16)\n",
        "plt.show()"
      ],
      "metadata": {
        "colab": {
          "base_uri": "https://localhost:8080/",
          "height": 532
        },
        "id": "g7RlseL-gyhm",
        "outputId": "a291d6d8-bf3a-4e08-f5d8-d54a3435fc07"
      },
      "execution_count": null,
      "outputs": [
        {
          "output_type": "display_data",
          "data": {
            "text/plain": [
              "<Figure size 864x576 with 1 Axes>"
            ],
            "image/png": "[encoded data removed]"
          },
          "metadata": {
            "needs_background": "light"
          }
        }
      ]
    },
    {
      "cell_type": "markdown",
      "metadata": {
        "id": "BUFUpIyJQEx1"
      },
      "source": [
        "### Data Preprocessing"
      ]
    },
    {
      "cell_type": "markdown",
      "metadata": {
        "id": "TNGjaQ51MlBj"
      },
      "source": [
        "#### Stopword Removal"
      ]
    },
    {
      "cell_type": "code",
      "execution_count": null,
      "metadata": {
        "colab": {
          "base_uri": "https://localhost:8080/"
        },
        "id": "2HP91gBtM3ad",
        "outputId": "2d1ab493-18e4-4d2c-e125-ee7914e9fd12"
      },
      "outputs": [
        {
          "output_type": "stream",
          "name": "stdout",
          "text": [
            "Regex for URLs: re.compile('(?:^|(?<![\\\\w/.]))(?:(?:https?://|ftp://|www\\\\d{0,3}\\\\.))(?:\\\\S+(?::\\\\S*)?@)?(?:(?!(?:10|127)(?:\\\\.\\\\d{1,3}){3})(?!(?:169\\\\.254|192\\\\.168)(?:\\\\.\\\\d{1,3}){2})(?!172\\\\.(?:1[6-9]|2\\\\d|3[0-1])(?:\\\\.\\\\d{1, re.IGNORECASE)\n",
            "Regex for short URLs: re.compile('(?:^|(?<![\\\\w/.]))(?:(?:https?://)?)(?:\\\\w-?)*?\\\\w+(?:\\\\.[a-z]{2,12}){1,3}/[^\\\\s.,?!\\'\\\\\"|+]{2,12}(?:$|(?![\\\\w?!+&/]))', re.IGNORECASE)\n",
            "Found the following URLs: ['www.youtube.com', 'www.wanderlustchronicles.com.au', 'www.youtube.com', 'www.youtube.com', 'www.tripadvisor.in', 'www.isitpacked.com', 'www.citystrollerrentals.com', 'www.disneytouristblog.com', 'www.dlandlive.com', 'www.undercovertourist.com', 'www.orbitz.com', 'www.parksavers.com', 'www.cheapdisneylandtickets.info', 'www.citystrollerrentals.com', 'www.facebook.com', 'www.cheapthemeparks.com', 'www.ridemax.com', 'www.mousesavers.com', 'www.ridemax.com', 'www.disneyland.com', 'www.disneyland.com', 'www.citypass.com', 'www.mousesavers.com', 'www.laughingplace.com', 'www.tripadvisor.co.uk', 'www.ethnologue.com', 'www.seetickets.com', 'www.youtube.com', 'www.dlpguide.com', 'www.youtube.com', 'www.dlpguide.com', 'www.disneylandparis.com', 'www.dlpguide.com', 'www.fnactickets.com', 'www.disneylandparis.co.uk', 'www.parkatem.com', 'www.disneylandparis.co.uk', 'www.dlrpmagic.com', 'www.eurostar4agents.com', 'www.disneylandparis.co.uk', 'www.disneylandparis.ie', 'www.ticket.fr', 'www.travelbytez.com', 'www.travelbytez.com', 'www.tripadvisor.co.uk', 'www.tripadvisor.co.uk', 'www.dlrpmagic.com', 'www.irisshuttle.com', 'www.clippersquaytravel.com', 'www.fnactickets.com', 'www.fnactickets.com', 'www.youtube.com', 'www.youtube.com', 'www.disboards.com', 'www.ezyshuttle.com', 'www.dlrpmagic.com', 'www.billetfrancilien.com', 'www.dlpfoodguide.com', 'www.dlrpmagic.comIf', 'www.dlrpmagic.com']\n"
          ]
        }
      ],
      "source": [
        "from typing import List\n",
        "import itertools\n",
        "from textacy.preprocessing.resources import RE_URL\n",
        "from textacy.preprocessing.resources import RE_SHORT_URL\n",
        "print(f\"Regex for URLs: {RE_URL}\")\n",
        "print(f\"Regex for short URLs: {RE_SHORT_URL}\")\n",
        "results: List[List[str]] = df.Review_Text.str.findall(RE_URL).tolist()\n",
        "\n",
        "parsed_urls: List[str] = list(itertools.chain(*results))\n",
        "print(f\"Found the following URLs: {parsed_urls}\")"
      ]
    },
    {
      "cell_type": "code",
      "execution_count": null,
      "metadata": {
        "colab": {
          "base_uri": "https://localhost:8080/"
        },
        "id": "D85iIMkVM3p_",
        "outputId": "de787793-0e71-4764-d765-3d75f67873a4"
      },
      "outputs": [
        {
          "output_type": "execute_result",
          "data": {
            "text/plain": [
              "0        If you've ever been to Disneyland anywhere you...\n",
              "1        Its been a while since d last time we visit HK...\n",
              "2        Thanks God it wasn   t too hot or too humid wh...\n",
              "3        HK Disneyland is a great compact park. Unfortu...\n",
              "4        the location is not in the city, took around _...\n",
              "                               ...                        \n",
              "42651    i went to disneyland paris in july _NUMBER_ an...\n",
              "42652    _NUMBER_ adults and _NUMBER_ child of _NUMBER_...\n",
              "42653    My eleven year old daughter and myself went to...\n",
              "42654    This hotel, part of the Disneyland Paris compl...\n",
              "42655    I went to the Disneyparis resort, in _NUMBER_,...\n",
              "Name: Review_Text, Length: 42632, dtype: object"
            ]
          },
          "metadata": {},
          "execution_count": 16
        }
      ],
      "source": [
        "from textacy.preprocessing.replace import urls, hashtags, numbers, emails, emojis, currency_symbols\n",
        "df[\"Review_Text\"] = df.Review_Text.\\\n",
        "  apply(urls).\\\n",
        "  apply(hashtags).\\\n",
        "  apply(numbers).\\\n",
        "  apply(currency_symbols).\\\n",
        "  apply(emojis).\\\n",
        "  apply(emails)\n",
        "df.Review_Text"
      ]
    },
    {
      "cell_type": "code",
      "execution_count": null,
      "metadata": {
        "id": "uRBUw73DS_Xf",
        "colab": {
          "base_uri": "https://localhost:8080/",
          "height": 424
        },
        "outputId": "9dac38fa-650a-42e0-f75f-923f561ad515"
      },
      "outputs": [
        {
          "output_type": "execute_result",
          "data": {
            "text/plain": [
              "       Review_ID  Rating     Reviewer_Location  \\\n",
              "0      670772142       4             Australia   \n",
              "1      670682799       4           Philippines   \n",
              "2      670623270       4  United Arab Emirates   \n",
              "3      670607911       4             Australia   \n",
              "4      670607296       4        United Kingdom   \n",
              "...          ...     ...                   ...   \n",
              "42651    1765031       5        United Kingdom   \n",
              "42652    1659553       5                Canada   \n",
              "42653    1645894       5          South Africa   \n",
              "42654    1618637       4         United States   \n",
              "42655    1536786       4        United Kingdom   \n",
              "\n",
              "                                             Review_Text               Branch  \\\n",
              "0      If you've ever been to Disneyland anywhere you...  Disneyland_HongKong   \n",
              "1      Its been a while since d last time we visit HK...  Disneyland_HongKong   \n",
              "2      Thanks God it wasn   t too hot or too humid wh...  Disneyland_HongKong   \n",
              "3      HK Disneyland is a great compact park. Unfortu...  Disneyland_HongKong   \n",
              "4      the location is not in the city, took around _...  Disneyland_HongKong   \n",
              "...                                                  ...                  ...   \n",
              "42651  i went to disneyland paris in july _NUMBER_ an...     Disneyland_Paris   \n",
              "42652  _NUMBER_ adults and _NUMBER_ child of _NUMBER_...     Disneyland_Paris   \n",
              "42653  My eleven year old daughter and myself went to...     Disneyland_Paris   \n",
              "42654  This hotel, part of the Disneyland Paris compl...     Disneyland_Paris   \n",
              "42655  I went to the Disneyparis resort, in _NUMBER_,...     Disneyland_Paris   \n",
              "\n",
              "      Sentiment  Year  Month  \n",
              "0      Positive  2019      4  \n",
              "1      Positive  2019      5  \n",
              "2      Positive  2019      4  \n",
              "3      Positive  2019      4  \n",
              "4      Positive  2019      4  \n",
              "...         ...   ...    ...  \n",
              "42651  Positive  2015      8  \n",
              "42652  Positive  2015      8  \n",
              "42653  Positive  2015      8  \n",
              "42654  Positive  2015      8  \n",
              "42655  Positive  2015      8  \n",
              "\n",
              "[42632 rows x 8 columns]"
            ],
            "text/html": [
              "\n",
              "  <div id=\"df-2634988d-1847-40d8-9fd8-aec0400061a9\">\n",
              "    <div class=\"colab-df-container\">\n",
              "      <div>\n",
              "<style scoped>\n",
              "    .dataframe tbody tr th:only-of-type {\n",
              "        vertical-align: middle;\n",
              "    }\n",
              "\n",
              "    .dataframe tbody tr th {\n",
              "        vertical-align: top;\n",
              "    }\n",
              "\n",
              "    .dataframe thead th {\n",
              "        text-align: right;\n",
              "    }\n",
              "</style>\n",
              "<table border=\"1\" class=\"dataframe\">\n",
              "  <thead>\n",
              "    <tr style=\"text-align: right;\">\n",
              "      <th></th>\n",
              "      <th>Review_ID</th>\n",
              "      <th>Rating</th>\n",
              "      <th>Reviewer_Location</th>\n",
              "      <th>Review_Text</th>\n",
              "      <th>Branch</th>\n",
              "      <th>Sentiment</th>\n",
              "      <th>Year</th>\n",
              "      <th>Month</th>\n",
              "    </tr>\n",
              "  </thead>\n",
              "  <tbody>\n",
              "    <tr>\n",
              "      <th>0</th>\n",
              "      <td>670772142</td>\n",
              "      <td>4</td>\n",
              "      <td>Australia</td>\n",
              "      <td>If you've ever been to Disneyland anywhere you...</td>\n",
              "      <td>Disneyland_HongKong</td>\n",
              "      <td>Positive</td>\n",
              "      <td>2019</td>\n",
              "      <td>4</td>\n",
              "    </tr>\n",
              "    <tr>\n",
              "      <th>1</th>\n",
              "      <td>670682799</td>\n",
              "      <td>4</td>\n",
              "      <td>Philippines</td>\n",
              "      <td>Its been a while since d last time we visit HK...</td>\n",
              "      <td>Disneyland_HongKong</td>\n",
              "      <td>Positive</td>\n",
              "      <td>2019</td>\n",
              "      <td>5</td>\n",
              "    </tr>\n",
              "    <tr>\n",
              "      <th>2</th>\n",
              "      <td>670623270</td>\n",
              "      <td>4</td>\n",
              "      <td>United Arab Emirates</td>\n",
              "      <td>Thanks God it wasn   t too hot or too humid wh...</td>\n",
              "      <td>Disneyland_HongKong</td>\n",
              "      <td>Positive</td>\n",
              "      <td>2019</td>\n",
              "      <td>4</td>\n",
              "    </tr>\n",
              "    <tr>\n",
              "      <th>3</th>\n",
              "      <td>670607911</td>\n",
              "      <td>4</td>\n",
              "      <td>Australia</td>\n",
              "      <td>HK Disneyland is a great compact park. Unfortu...</td>\n",
              "      <td>Disneyland_HongKong</td>\n",
              "      <td>Positive</td>\n",
              "      <td>2019</td>\n",
              "      <td>4</td>\n",
              "    </tr>\n",
              "    <tr>\n",
              "      <th>4</th>\n",
              "      <td>670607296</td>\n",
              "      <td>4</td>\n",
              "      <td>United Kingdom</td>\n",
              "      <td>the location is not in the city, took around _...</td>\n",
              "      <td>Disneyland_HongKong</td>\n",
              "      <td>Positive</td>\n",
              "      <td>2019</td>\n",
              "      <td>4</td>\n",
              "    </tr>\n",
              "    <tr>\n",
              "      <th>...</th>\n",
              "      <td>...</td>\n",
              "      <td>...</td>\n",
              "      <td>...</td>\n",
              "      <td>...</td>\n",
              "      <td>...</td>\n",
              "      <td>...</td>\n",
              "      <td>...</td>\n",
              "      <td>...</td>\n",
              "    </tr>\n",
              "    <tr>\n",
              "      <th>42651</th>\n",
              "      <td>1765031</td>\n",
              "      <td>5</td>\n",
              "      <td>United Kingdom</td>\n",
              "      <td>i went to disneyland paris in july _NUMBER_ an...</td>\n",
              "      <td>Disneyland_Paris</td>\n",
              "      <td>Positive</td>\n",
              "      <td>2015</td>\n",
              "      <td>8</td>\n",
              "    </tr>\n",
              "    <tr>\n",
              "      <th>42652</th>\n",
              "      <td>1659553</td>\n",
              "      <td>5</td>\n",
              "      <td>Canada</td>\n",
              "      <td>_NUMBER_ adults and _NUMBER_ child of _NUMBER_...</td>\n",
              "      <td>Disneyland_Paris</td>\n",
              "      <td>Positive</td>\n",
              "      <td>2015</td>\n",
              "      <td>8</td>\n",
              "    </tr>\n",
              "    <tr>\n",
              "      <th>42653</th>\n",
              "      <td>1645894</td>\n",
              "      <td>5</td>\n",
              "      <td>South Africa</td>\n",
              "      <td>My eleven year old daughter and myself went to...</td>\n",
              "      <td>Disneyland_Paris</td>\n",
              "      <td>Positive</td>\n",
              "      <td>2015</td>\n",
              "      <td>8</td>\n",
              "    </tr>\n",
              "    <tr>\n",
              "      <th>42654</th>\n",
              "      <td>1618637</td>\n",
              "      <td>4</td>\n",
              "      <td>United States</td>\n",
              "      <td>This hotel, part of the Disneyland Paris compl...</td>\n",
              "      <td>Disneyland_Paris</td>\n",
              "      <td>Positive</td>\n",
              "      <td>2015</td>\n",
              "      <td>8</td>\n",
              "    </tr>\n",
              "    <tr>\n",
              "      <th>42655</th>\n",
              "      <td>1536786</td>\n",
              "      <td>4</td>\n",
              "      <td>United Kingdom</td>\n",
              "      <td>I went to the Disneyparis resort, in _NUMBER_,...</td>\n",
              "      <td>Disneyland_Paris</td>\n",
              "      <td>Positive</td>\n",
              "      <td>2015</td>\n",
              "      <td>8</td>\n",
              "    </tr>\n",
              "  </tbody>\n",
              "</table>\n",
              "<p>42632 rows × 8 columns</p>\n",
              "</div>\n",
              "      <button class=\"colab-df-convert\" onclick=\"convertToInteractive('df-2634988d-1847-40d8-9fd8-aec0400061a9')\"\n",
              "              title=\"Convert this dataframe to an interactive table.\"\n",
              "              style=\"display:none;\">\n",
              "        \n",
              "  <svg xmlns=\"http://www.w3.org/2000/svg\" height=\"24px\"viewBox=\"0 0 24 24\"\n",
              "       width=\"24px\">\n",
              "    <path d=\"M0 0h24v24H0V0z\" fill=\"none\"/>\n",
              "    <path d=\"M18.56 5.44l.94 2.06.94-2.06 2.06-.94-2.06-.94-.94-2.06-.94 2.06-2.06.94zm-11 1L8.5 8.5l.94-2.06 2.06-.94-2.06-.94L8.5 2.5l-.94 2.06-2.06.94zm10 10l.94 2.06.94-2.06 2.06-.94-2.06-.94-.94-2.06-.94 2.06-2.06.94z\"/><path d=\"M17.41 7.96l-1.37-1.37c-.4-.4-.92-.59-1.43-.59-.52 0-1.04.2-1.43.59L10.3 9.45l-7.72 7.72c-.78.78-.78 2.05 0 2.83L4 21.41c.39.39.9.59 1.41.59.51 0 1.02-.2 1.41-.59l7.78-7.78 2.81-2.81c.8-.78.8-2.07 0-2.86zM5.41 20L4 18.59l7.72-7.72 1.47 1.35L5.41 20z\"/>\n",
              "  </svg>\n",
              "      </button>\n",
              "      \n",
              "  <style>\n",
              "    .colab-df-container {\n",
              "      display:flex;\n",
              "      flex-wrap:wrap;\n",
              "      gap: 12px;\n",
              "    }\n",
              "\n",
              "    .colab-df-convert {\n",
              "      background-color: #E8F0FE;\n",
              "      border: none;\n",
              "      border-radius: 50%;\n",
              "      cursor: pointer;\n",
              "      display: none;\n",
              "      fill: #1967D2;\n",
              "      height: 32px;\n",
              "      padding: 0 0 0 0;\n",
              "      width: 32px;\n",
              "    }\n",
              "\n",
              "    .colab-df-convert:hover {\n",
              "      background-color: #E2EBFA;\n",
              "      box-shadow: 0px 1px 2px rgba(60, 64, 67, 0.3), 0px 1px 3px 1px rgba(60, 64, 67, 0.15);\n",
              "      fill: #174EA6;\n",
              "    }\n",
              "\n",
              "    [theme=dark] .colab-df-convert {\n",
              "      background-color: #3B4455;\n",
              "      fill: #D2E3FC;\n",
              "    }\n",
              "\n",
              "    [theme=dark] .colab-df-convert:hover {\n",
              "      background-color: #434B5C;\n",
              "      box-shadow: 0px 1px 3px 1px rgba(0, 0, 0, 0.15);\n",
              "      filter: drop-shadow(0px 1px 2px rgba(0, 0, 0, 0.3));\n",
              "      fill: #FFFFFF;\n",
              "    }\n",
              "  </style>\n",
              "\n",
              "      <script>\n",
              "        const buttonEl =\n",
              "          document.querySelector('#df-2634988d-1847-40d8-9fd8-aec0400061a9 button.colab-df-convert');\n",
              "        buttonEl.style.display =\n",
              "          google.colab.kernel.accessAllowed ? 'block' : 'none';\n",
              "\n",
              "        async function convertToInteractive(key) {\n",
              "          const element = document.querySelector('#df-2634988d-1847-40d8-9fd8-aec0400061a9');\n",
              "          const dataTable =\n",
              "            await google.colab.kernel.invokeFunction('convertToInteractive',\n",
              "                                                     [key], {});\n",
              "          if (!dataTable) return;\n",
              "\n",
              "          const docLinkHtml = 'Like what you see? Visit the ' +\n",
              "            '<a target=\"_blank\" href=https://colab.research.google.com/notebooks/data_table.ipynb>data table notebook</a>'\n",
              "            + ' to learn more about interactive tables.';\n",
              "          element.innerHTML = '';\n",
              "          dataTable['output_type'] = 'display_data';\n",
              "          await google.colab.output.renderOutput(dataTable, element);\n",
              "          const docLink = document.createElement('div');\n",
              "          docLink.innerHTML = docLinkHtml;\n",
              "          element.appendChild(docLink);\n",
              "        }\n",
              "      </script>\n",
              "    </div>\n",
              "  </div>\n",
              "  "
            ]
          },
          "metadata": {},
          "execution_count": 37
        }
      ],
      "source": [
        "df"
      ]
    },
    {
      "cell_type": "code",
      "execution_count": null,
      "metadata": {
        "id": "uwLqQK9WPuEh"
      },
      "outputs": [],
      "source": [
        "### Use Spacy stopword removal function to remove stopwords. Line of code takes a while to run, so we ran it and saved the cleaned dataframe into a new dataframe\n",
        "#df['Review_Text']=df['Review_Text'].apply(stopword_removal)\n",
        "#df.to_csv('Disneyland_cleaned.csv')"
      ]
    },
    {
      "cell_type": "markdown",
      "metadata": {
        "id": "p0ZyAi79PvCj"
      },
      "source": [
        "#### Regex Grouping"
      ]
    },
    {
      "cell_type": "code",
      "execution_count": null,
      "metadata": {
        "id": "hrjGO5aaUDo2"
      },
      "outputs": [],
      "source": [
        "df1 = pd.read_csv('Disneyland_cleaned.csv')"
      ]
    },
    {
      "cell_type": "code",
      "execution_count": null,
      "metadata": {
        "id": "B53s1p8kYM3O"
      },
      "outputs": [],
      "source": [
        "### Dictionary of words. All words in the value of a key will be replaced with the key of the dictionary\n",
        "reg_clean = {'good':[\"great\",\"awesome\",\"nice\",\"best\",\"perfect\",\"good\",\"amazing\",\"spectacular\",\"marvelous\"],\n",
        " 'pretty':[\"adorable\",\"pretty\",\"good looking\",\"beautiful\",\"cute\",\"stylish\",\"elegant\"],\n",
        " 'thrill' :['thrilling','exciting','adrenalinerush','adrenaline-rush','adrenaline high','rush'],\n",
        " 'gift':[\"gift\",\"present\"],\n",
        " 'happy':[\"pleased\",\"satisfied\",\"happy\"],\n",
        " 'bad':[\"terrible\",\"pathetic\",\"bad\",\"cheap\",'substandard','unacceptable','unpleasant','nasty','awful','inferior'],\n",
        " 'dirty':[\"gross\",\"dirty\",\"disgusting\"],\n",
        " 'disappointed':['frustrated','disappointed','unsatisfied','not up to par','below expectations'],\n",
        " 'money':['every penny','pounds','dollars','thousands of pounds','hundreds of dollars','bucks']}"
      ]
    },
    {
      "cell_type": "code",
      "execution_count": null,
      "metadata": {
        "id": "XPpV0V-vbUwH"
      },
      "outputs": [],
      "source": [
        "### Make different regex patterns to be used for pre-processing\n",
        "disney_pattern= re.compile(r'\\bdisney[-\\s]?(?:land|world)?\\b')\n",
        "christmas_pattern = re.compile(r'\\b(?:christ|(?:x|x{3}))[-\\s]?mas\\b')\n",
        "hong_kong_pattern = re.compile(r'\\b(?:hong kong|hong|kong|hk|mainland china)\\b')\n",
        "family_pattern = re.compile(r'\\b(?:husband|wife|mom|dad|son(s)?|daughter(s)?|child(ren)?|kid(s)?|bab(y|ies)|sister(s)?|brother(s)?|infant|famil(y|ies)?)\\b')\n",
        "time_pattern = re.compile(r'\\b(?:year(s)?|day(s)?|month(s)?|hour(s)?|minute(s)?|week(s)?)\\b')\n",
        "ride_pattern = re.compile(r'\\b(?:ride(s)?)\\b')\n",
        "wait_pattern = re.compile(r'\\b(?:wait(s|ing)?|long (line(s)?|queue(s)?))\\b')\n",
        "park_pattern = re.compile(r'\\b(?:park(s)?|(amusement|theme)? park(s)?)\\b')\n",
        "age_pattern = re.compile(r'\\b(?:adult|(year(s)?)? old|old)|young\\b')"
      ]
    },
    {
      "cell_type": "code",
      "execution_count": null,
      "metadata": {
        "id": "yf2Q81ejZCOI"
      },
      "outputs": [],
      "source": [
        "# !pip install spacy\n",
        "# !python -m spacy download en_core_web_md"
      ]
    },
    {
      "cell_type": "code",
      "execution_count": null,
      "metadata": {
        "id": "l3_EQgq4VeKV"
      },
      "outputs": [],
      "source": [
        "### Apply pre-processing function\n",
        "df1['Review_Text']=df1['Review_Text'].apply(preprocessing)"
      ]
    },
    {
      "cell_type": "code",
      "source": [
        "# We noticed a few erroneous topics after one run of topic modelling, and decided to remove the below words to get better results\n",
        "# (We could have added this to the pre-processing function, but we want to show that we performed topic modelling once, identified some errors and came back to fix it in the dataframe)\n",
        "df1['Review_Text'] = df1['Review_Text'].str.replace('_ number _', '', flags=re.IGNORECASE)\n",
        "df1['Review_Text'] = df1['Review_Text'].str.replace('number', '', flags=re.IGNORECASE)\n",
        "df1['Review_Text'] = df1['Review_Text'].str.replace('hongkong', '', flags=re.IGNORECASE)"
      ],
      "metadata": {
        "id": "--_zrBSTjmp4"
      },
      "execution_count": null,
      "outputs": []
    },
    {
      "cell_type": "code",
      "execution_count": null,
      "metadata": {
        "id": "ka2SpxzlYn7T",
        "colab": {
          "base_uri": "https://localhost:8080/"
        },
        "outputId": "02afd9ac-de99-4705-f2a4-178fcc37ccc6"
      },
      "outputs": [
        {
          "output_type": "execute_result",
          "data": {
            "text/plain": [
              "0         find   similar layout walk main street ! fami...\n",
              "1        d time visit    , time stay tomorrowland  aka ...\n",
              "2        thanks god wasn    t hot humid visitingpark   ...\n",
              "3          great compactpark  unfortunately bit mainten...\n",
              "4        location city , took    time kowlon , family l...\n",
              "                               ...                        \n",
              "42627    went  paris july    thought brilliant  visited...\n",
              "42628       ages    family    visited  paris beginning ...\n",
              "42629    timeage family went visit family london decide...\n",
              "42630    hotel ,  paris complex , wonderful place famil...\n",
              "42631    went disneyparis resort ,    , small family  t...\n",
              "Name: Review_Text, Length: 42632, dtype: object"
            ]
          },
          "metadata": {},
          "execution_count": 43
        }
      ],
      "source": [
        "df1['Review_Text']"
      ]
    },
    {
      "cell_type": "code",
      "execution_count": null,
      "metadata": {
        "id": "yno_AgssfaPW"
      },
      "outputs": [],
      "source": [
        "#All words in the value of a key will be replaced with the key of the dictionary\n",
        "for k in reg_clean:\n",
        "  df1['Review_Text'] = df1['Review_Text'].str.replace(r'\\b(' + r'|'.join(reg_clean[k]) + r')\\b\\s*', str(k+' '),regex = True)"
      ]
    },
    {
      "cell_type": "code",
      "execution_count": null,
      "metadata": {
        "colab": {
          "base_uri": "https://localhost:8080/"
        },
        "id": "7Q-E7S2_hle9",
        "outputId": "355c0d8a-865f-45a5-b219-56e54becb673"
      },
      "outputs": [
        {
          "output_type": "execute_result",
          "data": {
            "text/plain": [
              "0         find   similar layout walk main street ! fami...\n",
              "1        d time visit    , time stay tomorrowland  aka ...\n",
              "2        thanks god wasn    t hot humid visitingpark   ...\n",
              "3          good compactpark  unfortunately bit maintena...\n",
              "4        location city , took    time kowlon , family l...\n",
              "                               ...                        \n",
              "42627    went  paris july    thought brilliant  visited...\n",
              "42628       ages    family    visited  paris beginning ...\n",
              "42629    timeage family went visit family london decide...\n",
              "42630    hotel ,  paris complex , wonderful place famil...\n",
              "42631    went disneyparis resort ,    , small family  t...\n",
              "Name: Review_Text, Length: 42632, dtype: object"
            ]
          },
          "metadata": {},
          "execution_count": 45
        }
      ],
      "source": [
        "df1['Review_Text']"
      ]
    },
    {
      "cell_type": "code",
      "execution_count": null,
      "metadata": {
        "id": "ONFAodgdPX1K"
      },
      "outputs": [],
      "source": [
        "### Subset dataset according to region"
      ]
    },
    {
      "cell_type": "code",
      "execution_count": null,
      "metadata": {
        "id": "aXZvjMklPYTe"
      },
      "outputs": [],
      "source": [
        "HK = df1[df1['Branch']=='Disneyland_HongKong']\n",
        "paris = df1[df1['Branch']=='Disneyland_Paris']\n",
        "ca = df1[df1['Branch']=='Disneyland_California']"
      ]
    },
    {
      "cell_type": "code",
      "source": [
        "HK2 = df[df['Branch']=='Disneyland_HongKong']\n",
        "paris2 = df[df['Branch']=='Disneyland_Paris']\n",
        "ca2 = df[df['Branch']=='Disneyland_California']"
      ],
      "metadata": {
        "id": "cp1M-s5nA0oo"
      },
      "execution_count": null,
      "outputs": []
    },
    {
      "cell_type": "code",
      "execution_count": null,
      "metadata": {
        "id": "lWkf9m_3wxE0"
      },
      "outputs": [],
      "source": [
        "HK_neg,HK_pos = sentiment_split(HK)\n",
        "paris_neg,paris_pos = sentiment_split(paris)\n",
        "ca_neg,ca_pos = sentiment_split(ca)"
      ]
    },
    {
      "cell_type": "code",
      "source": [
        "HK2_neg,HK2_pos = sentiment_split(HK2)\n",
        "paris2_neg,paris2_pos = sentiment_split(paris2)\n",
        "ca2_neg,ca2_pos = sentiment_split(ca2)"
      ],
      "metadata": {
        "id": "b0k653u3GRU0"
      },
      "execution_count": null,
      "outputs": []
    },
    {
      "cell_type": "code",
      "execution_count": null,
      "metadata": {
        "id": "kkx45HfdHx-c",
        "colab": {
          "base_uri": "https://localhost:8080/",
          "height": 493
        },
        "outputId": "08a3fd52-51c0-41d0-fd71-f40a1066e451"
      },
      "outputs": [
        {
          "output_type": "display_data",
          "data": {
            "text/plain": [
              "<Figure size 1440x504 with 3 Axes>"
            ],
            "image/png": "[encoded data removed]"
          },
          "metadata": {
            "needs_background": "light"
          }
        }
      ],
      "source": [
        "# Count of positive/negative sentiment in each branch\n",
        "fig, axes = plt.subplots(nrows=1, ncols=3, figsize=(20, 7),sharey=False)\n",
        "plot_graph(HK,'Hong Kong','Sentiment',axes[0])\n",
        "plot_graph(ca,'California','Sentiment',axes[1])\n",
        "plot_graph(paris,'Paris','Sentiment',axes[2])"
      ]
    },
    {
      "cell_type": "markdown",
      "source": [
        "### Topic Modeling"
      ],
      "metadata": {
        "id": "qsZ9Tjq6IOkP"
      }
    },
    {
      "cell_type": "markdown",
      "source": [
        "#### Hong Kong — Negative"
      ],
      "metadata": {
        "id": "Gyz9Fi120cDi"
      }
    },
    {
      "cell_type": "code",
      "execution_count": null,
      "metadata": {
        "id": "zIio0wJx_EPh",
        "colab": {
          "base_uri": "https://localhost:8080/",
          "height": 318
        },
        "outputId": "d735b6d7-64ec-47ef-adf2-79c75e343631"
      },
      "outputs": [
        {
          "output_type": "execute_result",
          "data": {
            "text/plain": [
              "<matplotlib.axes._subplots.AxesSubplot at 0x7f279fe07710>"
            ]
          },
          "metadata": {},
          "execution_count": 59
        },
        {
          "output_type": "display_data",
          "data": {
            "text/plain": [
              "<Figure size 432x288 with 1 Axes>"
            ],
            "image/png": "[encoded data removed]"
          },
          "metadata": {
            "needs_background": "light"
          }
        }
      ],
      "source": [
        "HK['Sentiment'].value_counts().plot(kind='bar')"
      ]
    },
    {
      "cell_type": "code",
      "execution_count": null,
      "metadata": {
        "id": "emdnZpNpQIy1"
      },
      "outputs": [],
      "source": [
        "HK_neg_vectorized = vectorizer(HK_neg, ng=(3,3))"
      ]
    },
    {
      "cell_type": "code",
      "execution_count": null,
      "metadata": {
        "id": "thjubsSztXPs"
      },
      "outputs": [],
      "source": [
        "nmf = NMF(n_components=2)"
      ]
    },
    {
      "cell_type": "code",
      "execution_count": null,
      "metadata": {
        "id": "FTyXI2pNuQES",
        "colab": {
          "base_uri": "https://localhost:8080/"
        },
        "outputId": "7302f179-1fc8-493d-9b35-c51de4cfff56"
      },
      "outputs": [
        {
          "output_type": "stream",
          "name": "stderr",
          "text": [
            "/usr/local/lib/python3.7/dist-packages/sklearn/decomposition/_nmf.py:294: FutureWarning: The 'init' value, when 'init=None' and n_components is less than n_samples and n_features, will be changed from 'nndsvd' to 'nndsvda' in 1.1 (renaming of 0.26).\n",
            "  FutureWarning,\n"
          ]
        }
      ],
      "source": [
        "W_HK_neg = nmf.fit_transform(HK_neg_vectorized)\n",
        "H_HK_neg = nmf.components_"
      ]
    },
    {
      "cell_type": "code",
      "execution_count": null,
      "metadata": {
        "id": "H6dw4thvudfU"
      },
      "outputs": [],
      "source": [
        "#get_top_tf_idf_tokens_for_topic(H_HK_neg, HK_neg_vectorized.columns.tolist(), 5)"
      ]
    },
    {
      "cell_type": "code",
      "source": [
        "get_top_documents_for_each_topic(W_HK_neg, HK2_neg.Review_Text.tolist(), num_docs=10)"
      ],
      "metadata": {
        "colab": {
          "base_uri": "https://localhost:8080/"
        },
        "id": "YSsnHxP-16Mr",
        "outputId": "01ff1803-a9b2-4a3b-ff94-84e733027c3d"
      },
      "execution_count": null,
      "outputs": [
        {
          "output_type": "stream",
          "name": "stdout",
          "text": [
            "Topic 0\n",
            "95.6% Disneyland is meant to be the happiest place on earth. Well, the one in Hong Kong must have the most exasperated parents on earth.The kids alternate between brief moments of joy and long bouts of boredom and frustration.I had expected Disneyland to be crowded and the queues long, but I was relatively hopeful that Disney's vaunted queue management systems and methods would help alleviate that. After all it's their core business. This wasn't much in evidence however. In Disneyland Hong Kong queue management appears to consist of telling the people queuing how much longer they have to wait. The information isn't even up to date. On the Slinky Dog ride in Toy Story Land I was handed a card with the time I'd joined the queue written on it. By the time I'd reached the front of the queue _NUMBER_ minutes later, and the card was taken from me to record a _NUMBER_ minute wait time, I'd hazard a guess that the people joining the back of the queue would probably have had to wait an hour.It's true that one can use FastPass, to book a later time and return. In the rides I managed to go on however, the FastPass queues were about a quarter to a third the length of the main queue, so that wasn't working either. It just delayed the main queue even more.Many rides were also not filled to capacity. On the Winnie the Pooh Hundred Acre Wood ride, my little family of three and an infant took up a car meant for six. On the Slinky Dog ride, an additional two adults could have squeezed into the car occupied by my three year old and myself. No wonder the queues are long.There were other irritations   turnstiles to exit some rides, for example. This just means that people pile up at the exits. The entrance to the Lion King theatre was packed with no queue management whatsoever, so when the doors opened, there was a headlong rush for seats. Perhaps the visitors aren't used to queuing, but Disney employees should set out queue lines, remind their guests of their obligations to others, and manage an orderly entrance. My little boy was pushed and jostled, it wasn't a pleasant experience for him.We arrived at the park at _NUMBER_ am when it opened. We did Adventureland including Tarzan's Treehouse and the boat ride, we saw the Festival of the Lion King stage show, and Grizzly Gulch, and we went on the Slinky Dog ride and the Winnie the Pooh Hundred Acre Wood ride. That was it. We left the park at a quarter to four, and we spent nearly _NUMBER_ hours in queues.Compared to Ocean Park, where the staff were energetic and helpful, and genuinely wanted to make the experience as pleasant as possible for their visitors, the staff at Disney seemed disinterested and focused on telling people about waiting times. It's a shame; the helpfulness of the staff would have made a great difference to what was ultimately a fairly horrendous day. Save your money, visit Ocean Park instead. It's more fun, more interesting, and cheaper.\n",
            "100.0% To reach the place by MTR, drop on Sunny Bay which is just one stop before Tung Chung station.From there you need to look for Disneyland train. Expect to spend a whole day here. Lots of walking, and will be hard due to humid and hot weather on the area. Make sure you bring umbrella and drink plenty of water, the drink here are expensive.First thing to do is to go to Tomorrowland and try Space Mountain   mini roller coaster. Skip the rest of Tomorrowland and go straight to Toy Story land and ride the RC racer. And then the last one is Adventureland with the Jungle River Cruise. That is folks...\n",
            "100.0% If you have extra money to burn and extra time to kill and have never been to another amusement park   then you might enjoy this one. If you have ever been to almost any other park   and if you are from the USA and have even been to a large county fair   you will be disappointed. The few rides there are are very short (slinky dog ride in Toy Story land only made _NUMBER_ loops around the tiny track, swinging race car ride only swung _NUMBER_ times). Space Mountain is not similar at all to the one in Orlando, and the two other rides geared more towards older kids (Grizzley Gulch roller coaster and Mystic Manor) were both closed due to technical issues the day we were there. This park does not have that many rides that are of interest to kids over the age of _NUMBER_ _NUMBER_. Mickey's Philharmonic show was good. We went during the Halloween special time of year and did go through one of the walk through haunted houses and it was ok, but the line was so long for the second walk through haunted house we did not go to it (over an hour wait). The scary storytelling session was  sold out  so fast we did not get to go to it either.The food at this park is way below expectations for a Disney Park. At the suggestion of the staff members (who we ask where are the best places to eat), we went to Royal Banquet Hall and also at the Explorers Club. We are very open to new foods   seek them out in fact   but Disney did not come through with these offerings   blah, and uninspired.Staff members were nice and honest. They told us a one day pass was enough, not to buy two. They told us to just buy _NUMBER_ of the special _NUMBER_ for _NUMBER_ price dining coupons and share with our kids   and they were right that was the best thing to do (guess they knew we would be less than impressed with the food). Restroom on the Tarzan Treehouse Island was in terrible condition (dirty). Other restrooms we went to were acceptable.Over all, unless you are a huge Disney fan and want to check this off as a Disney Status been there   done that park type thing, pass this up and go to another amusement park.We went on a Friday in October and the weather was great, the lines for rides (the ones that were open!!) were good in the morning, but by _NUMBER_ by they were silly long.\n",
            "100.0% yes this is the smallest of the disney parks, do you need a fully day here, well no. It was busy and hot and several rides had broken down including the rollercoaster and also the car racer in toy story land. They also closed _NUMBER_ lands at 5pm for a private function, if i knew that I would not have booked as this was not on the website!\n",
            "100.0% We live in Japan and decided to hop over to Hong Kong and check out Hong Kong Disneyland. We went to Hong Kong Disneyland with two kids ages _NUMBER_ and _NUMBER_. The actual entrance is down a long pathway that takes _NUMBER_ minutes to get to from the hotel drop off point. We were told the park opened at _NUMBER_:_NUMBER_ so we arrived _NUMBER_ minutes before rope drop time. But we when got there, people were already allowed into the park. Which was strange. We went on a weekday and even though the park opened at _NUMBER_. Toy Story land didn't open until _NUMBER_ and closed early at _NUMBER_. Many restaurants were closed but we weren't sure if they were closed because it was a weekday. We wanted to eat at Explores Club restaurant but it didn't open until _NUMBER_. We notice many snack food stands did not open until _NUMBER_. We rented a stroller inside the park which cost _CUR_100HKD   _CUR_100HKD deposit you will get back when you return the stroller. If you want to do Jedi Training for ages _NUMBER_ _NUMBER_ do the sign up first thing when you get in because it will get full. We bought tickets at DisneyLand Hollywood Hotel the night before. We generally don't go to the most popular rides first we went until the end of the night when the crowds die down and there isn't a huge wait. One of the most popular rides is The Many Adventures of Winnie the Pooh that is also a FP but we opted to go right after the night parade and the wait was only _NUMBER_ minutes. The Buzz Light Year ride we went right before the firework show at _NUMBER_:_NUMBER_ and there was no wait. The kids loved ToyStory land and went right when it opened at _NUMBER_ and we waited only _NUMBER_ minutes for the rides. You are allowed to bring in food and drinks. Personal space does not exist and people will be literally on top of you when you are in line. We watched Festival of the Lion King which is great and we waited outside. We didn't understand why we couldn't wait inside the air conditioned theatre. People will try and cut in line so beware. Our little _NUMBER_ year got pushed by adults because she walked too slow. We had to carry her prior to waiting for shows because she almost got trampled. Would I recommend going to Hong Kong Disneyland? No. If you have a chance go to Tokyo Disneyland and DisneySea. Even though it crowded people are polite and wait their turn. \n",
            "100.0% My family always celebrate Christmas and New Year in Hongkong. Even some of the staffs are not that friendly, we still go there beacuse this is the closest disneylandfrom our country aside from the fact that my children are still happy when they are here (yes, bec they arekids ages _NUMBER_, _NUMBER_ and _NUMBER_).Our latest visit was yesterday JAnuary _NUMBER_, _NUMBER_ and dec _NUMBER_, _NUMBER_. Yesterday was really a bad experience for us. First, we have experienced some of the local residents pushing while we are on queue. But we still manage and kept our composure. But when we arrive at the Toy Story Land (The parachute ride to be exact), the two families in front of us while we are on queue fight. Because of the long queue the two hot tempered family did not stop fighting until the securities came in. We didn't know what happened next because we ride already. But the saddest part of all is when we bought a lot of souvenirs from the souvenir shop in the Main Street near the exit. I know and i check that I gave the cashier _NUMBER_ pcs of HKD1000. OUr total bill is HKD _NUMBER_. But to our surprise she just gave me a change of HKD _NUMBER_. I ask the cashier and I said that i gave her HKD3,000. She said no and insist that i gave her HKD2,500.00. The lady beside her, i think the supervisor counted the money in the cash register and so we waited. And to our surprise again, they said that our change is correct. We counted again our HKD in my wallet and we are very sure that we gave her HKD _NUMBER_. We know, because all our expenses and the HKD that we changed in their money changers since December _NUMBER_, _NUMBER_ are all accounted.We were so disappointed.Lesson learned, when you pay count in front of the cashier and tell her how much money you gave her.\n",
            "100.0% If you like massive crowds, steaming hot weather, queuing on average for _NUMBER_ minutes per ride, then go for it, spend your money and have a great day! For us, a family of _NUMBER_, with _NUMBER_ children (_NUMBER_ _NUMBER_ _NUMBER_) this place was a nightmare. We arrived at the park at _NUMBER_:30am, at this time of the morning the queues were manageable, almost non existent, we where in the park at 9am and headed left to Grizzly Gulch, no lines road the ride twice, then down to Mystic Point for the Mystic Manor, one ride, then headed to Toy Story Land, R c Racer twice, parachute drop and Slinky Dog once. So far so good we thought...however that was the last ride we did for the day! By the time we made it to Fantasyland at _NUMBER_:45am the queues for the rides was 45minutes, for a single rider, by the time we then walked through to TomorrowLand queues were anywhere from _NUMBER_   _NUMBER_ minutes per ride. Personally I think you must be mental to line up for that period of time under a hot Hong Kong sun, and be pushed around by mainland Chinese tourists, who have a very different understanding of social etiquette to us. Given the choice I would give Disney a big miss in August, it is right int the middle of the Chinese school holidays, and given that Hong Kong plays host to over _NUMBER_ million Chinese tourists per year, it feels like every single one of them is visiting Disney on the same day.\n",
            "100.0% We booked our 2days pass tickets in UK via the web site before our holiday in HK. It's really for our 3year old daughter as I've been to the one in Paris and Florida and thought it would be nice to spend some family time in a magical place.Good job we got a 2days pass as the following attractions rides were out of order: lion king show, run away mine train and slinky ride at toy story land. Hopefully lion king show will be available on our 2nd visit.Didn't realise you have to obtain some form of token to be able to join the queue to take photos with the Frozen characters so when we arrive at the area at 2pm we were told all token pass for the day have been all given out and we will have to come back another day.Fingers cross we can get a token on our 2nd visit tomorrow. Overall the Disney experience isn't one of my best in HK, and the park isn't big enough to spend a whole day with the family.\n",
            "100.0% Second time here in _NUMBER_ years and my first visit was better. Trying to celebrate our honeymoon in _NUMBER_ of _NUMBER_ Disneylands. They don't have a good pin selection here  just stickers? Not impressed since we traditionally get pins from Disney world every time we go. Customer service is not Disney level. People avoided eye contact, only approached us at the dining cafe when we we're signaling for help, and some cast members were on their cell phones! We we're trying to buy storm trooper magnets and we had to wait for someone to look up from their phone and ring us up. The roller coasters are fun and there were no lines it being a Wednesday. Super clean bathrooms and park. Toy story land is small but the rides are good for kids. They decorated for Halloween so it was enjoyable to see. Due the damages from the typhoon, the jungle cruise was closed  no biggie but I probably won't want to come back specifically for that ride. Thank goodness for the good company I was with. He was able to point out the fun Disney decor. Which is what I love about Disney parks.\n",
            "100.0% Visited Hong Kong Disneyland with my husband and three children, ages _NUMBER_, _NUMBER_, and _NUMBER_. We had a beautiful, albeit very warm, day at the park. Having been to Disney World in Orlando several times, this park was much smaller scale and was a bit underwhelming by comparison. At the outset, we were frustrated because my husband purchased tickets to the park online upon our arrival at the park, and we were told we would have to wait one hour before we could gain entry, even though he had received a confirmation of purchase. Not what we wanted to hear when we had three eager children at the gates. We were really disappointed by the lack of characters to be found around the park. Plus, we tried to visit with Mickey and Minnie, Pluto and Jessie from Toy Story, and each time we were told to come back later, as they were closing for a break. It was a little frustrating that they don't have replacements available. We waited in long lines  generally _NUMBER_ minutes to an hour for each ride  but we were there the day after a Chinese holiday so it is possible that we encountered higher than normal crowd volumes. This meant that in the _NUMBER_ hours we stayed, we only rode _NUMBER_ rides, and took one breaks for a beverage and one for lunch. In addition, they shut down three sections of the park at _NUMBER_:_NUMBER_ for special events, which undoubtedly also contributed to overcrowding of the rides. The bad news covered, Toy Story Land was very unique and creatively designed, the park was well maintained, and the smaller size of the park made it manageable to navigate in one day, but I would not make a special effort to return.\n",
            "==================================================\n",
            "Topic 1\n",
            "100.0% Obviously I haven't visited Hong Kong Disneyland myself, but it doesn't take a genius to deduce from the final attractions list that this ISN'T the Disneyland we all know and love. This park is distinctly lacking in attractions... and lands.There are only _NUMBER_ actual moving rides: The Jungle Cruise (slow moving boat ride), The Many Adventures of Winnie The Pooh (slow moving dark ride), Buzz Lightyear's Astro Blasters (slow moving dark ride), and Space Mountain (high speed family coaster). So, not much to do for those craving excitement or thrills.There is no Pirates of the Carribean, no Big Thunder Mountain, no Haunted Mansion, no Indiana Jones Adventure, no Splash Mountain, no Peter Pan's Flight, no It's A Small World, no Star Tours, and no Autopia. Yes, you will find none of these attractions in Hong Kong Disneyland.There's also no Frontierland. What? Yes, Frontierland has been completely obliterated from the park, leaving only _NUMBER_ lands: Main Street USA, Adventureland, Fantasyland and Tomorrowland. Great.\n",
            "100.0% Having read so much bad publicity I was expecting a very bad Disneyland. So I wasn't disappointed, but not pleasantly surprised either. I went in the morning and as everyone has said, each queue was at least _NUMBER_ _NUMBER_ hours long. The fastpass isn't very useful either. For my first fastpass I could go back within _NUMBER_ hour but my second fastpass I obtained before 1pm allowed me to take the ride only at _NUMBER_:_NUMBER_! The rides are mostly boring. There's only _NUMBER_ rollercoaster ish ride, which is the space mountain. Its quite good but isn't really THAT exciting. I've tried better at less known themeparks. But objectively its enjoyeable, really.If you (or your kids) like the disney characters, it might be nice to see them walking around or buy the disney merchandise but as I'm not really a fan its no big deal to me.The queue cutting wasn't that bad. There are some people shamelessly walking past us to get to their friends who booked a place in the queue for them in front but you just have to put your feet down and tell them off. I had this person shamelessly saying  excuse me  when I blocked her way as she was trying to go to the front of the queue but its really not as common as some of the people here make it sound. There are probably such people everywhere, no reason to point fingers at mainlanders and say that they have no social etiquette.Some things that are well done include the 3D animation mickey show, forgot what its name is. Shall not reveal the reason why its so good, the surprise element is part of the fun. The fireworks performance at night is also really amazing.A recommendation   Go in the evening if you have to, the queues have eased up by then so you'll probably complete the same number of rides with less frustration than if you start in the day and spend most of the time in queue. And you won't miss the fireworks.\n",
            "100.0% the park was so crowded, that all that we can see is a sea of people. all the rides have long queue of minimum _NUMBER_ hour. And the August sun was so hot, I lost count on how many bottles of drink that we had. We end up with _NUMBER_ rides for the entire day: autopia (a lousy car ride) and space mountain (using a single rider line, which is faster).Disney HK is raking a huge amount of money and completely ignoring customer satisfaction.Will we come back again? definitely no (and that answer comes from my kids).\n",
            "100.0% This park is only really suitable for children under _NUMBER_ or _NUMBER_ years of age. We went with our two children (aged _NUMBER_ and _NUMBER_) and, in their words, the park was  lame ! There were only two good rides   Space Mountain and Buzz Lightyear. The queue for Space Mountain was long   so make sure you get a free  fast ticket    which lets you go on the ride a little later within a one hour time period. This lets you spend your time doing something else   then you can come back and basically get on the ride with very little wait.The parade was good. The food was terrible! My husband bought some fried chicken which had suspicious looking black, grainy stuff between the chicken and the batter (chicken guts?)   so it was thrown out. It was hard to find any food that we liked. The only half decent food was the Chinese food   but everything we wanted had sold out. BE WARNED   you are not meant to take your own food into the park, as they want you to buy their very, very bad food! Your bags are checked for food as you go though the entrance gates!! We would not go back again.\n",
            "100.0% This was my first time going to a disneyland and I never expected it to be that bad. Firstly, HKD is way too overcrowded and they don't limit the amount of visitors there is a day, I believe that _NUMBER_ people should be the maximum since I only went to a couple of rides: space mountain ( fast track ticket ) , Buzz lightyear astro blasters, jungle river cruise, Autopia, It's a small world, stitch encounter and slinky dog spin. For me, the stitch encounter and the slinky dog spin was the worst because the stitch encounter was basically watching Stitch talk and having a chance of talking to him ( on screen, for children ) and I thought it was a ride, the que was horribly long ( _NUMBER_ hour on a hot day ) The slinky dog ride was very bad either, _NUMBER_  minute que to go on a dog ride ( _NUMBER_ _NUMBER_ laps of a a circle ) which made the ride less than _NUMBER_ hour. However, I do recommend Autopia, space mountain, astro blastersand the jungle river cruise. On the other hand, the food there was disgusting and dry which costed _NUMBER_ hong kong dollars ( equivilent to   _NUMBER_ uk money ) What a rip off       . The staff had bad manners, the one i experienced was the one in the jungle river cruise. Somehow, they show disrespect to mainland China people since my family and I split the group in half because half of us wanted to rest and half of us wanted to go on rides, so they found a ride and they called us to go and when we reached there they didn't let us through since they thought we were que cutting but my family was at the front of the que and they were talking disrespectfully to my uncle as his first language is mandarin but his cantonese is good. But, when my mum came and spoke cantonese they went silent and let us through. Here we can the see the discrimination between hongkongese and chinese mainlanders. Also, people from south west china have better manners than mainlanders so I don't understand why they think we are mainlanders. Im from the UK and find this a rasict. In conclusion, I found HKD terrible, I do not reccomend HKD to people because of the overcrowded visitors. The positive thing about this trip is that you get to watch the _NUMBER_:00pm fireworks and get to LEARN YOUR LESSON. The park opens at _NUMBER_:_NUMBER_ or _NUMBER_:_NUMBER_ and closes at _NUMBER_:_NUMBER_ but when my family arrived, there were a bunch of people already there. Also, be careful since you are at risk of having your children lost. From a review of a teenager from the UK.\n",
            "100.0% We visited hk Disney on the 26th and 28th October _NUMBER_. Despite most people recommending one day at this park due to it's size we chose two because , when we visited Disney in LA in _NUMBER_ we spent _NUMBER_ days and weren't tired of it at all. We also thought it would be fun to take our kids to the Halloween celebrations at the park, which were only thurs sun. The park looked just like it's LA counterpart, and almost felt the same. It kind of lacked something though. Rides are really aimed at younger children as the only big ride is space mountain ( and it had the shortest lines! Go figure). Immaculately clean, but there just wasn't that wow factor I expected. The extra Halloween attractions were not at all what we expected. The haunted hotel, which we thought would be along the lines of a more temporary version of the haunted mansion in LA terrified our kids, aged _NUMBER_ and _NUMBER_. There were people dressed as zombies etc jumping out and screaming in the kids faces, along with a blood stained lady who ran at the kids with a man being hung (twitching on the rope!) behind her. Kids cried all the way through it and one had nightmares. That to me wasn't the spirit of Disney at all and I was very disappointed. All in all, nice park, especially if you haven't done Disney before, but to me lacked magic.\n",
            "100.0% Visited the park a little while ago   can not believe why people think it is a good park. The only worthwhile ride is space mountain   all others are rehashed, watered down and worse    MISSING. Can not believe why this park could be called Disneyland when a majority of the classic rides are missing.In my humble opinion, what constitutes a disneyland park MUST include:_NUMBER_. Castle. Check. HKDL has the smallest one! Just look at Tokyo and Orlando, not to mention the beautiful Paris castle. Even the smaller castle in LA is gilded and looks much nicer, even though it is _NUMBER_ years older!_NUMBER_. Dumbo. Check. Smaller ride capacity than the Orlando version3. Small World   MISSING   It is available in different incarnations on ALL other disney parks! This is absolutely unforgivable.4. Pirates of the Caribbean   MISSING   This is probably the most classic disney ride   again, unforgivable5. Haunted Mansion   MISSING   Again unforgivable. Absolutely classic Disney ride6. Splash Mountain   MISSING   This is one of the best rides, unfortunately people who come to Hong Kong will never experience it.7. Big Thunder Mountain   MISSING   Another absolutely great ride missing8. Peter Pan   MISSING   Can not believe this absolute kid's favorite is missing. In other Disney parks, kids would queue up to _NUMBER_ minutes to get into this ride9. Space Mountain   Check   have to say this is one of the best incarnation   the only good ride in the whole park10. Jungle Cruise   Check   this is a watered down version, no caves or temple for the boat to pass throughALL other parks   Tokyo, Orlando, LA and Paris has ALL OF THE ABOVE. Seriously, a park should not be called a Disneyland when any of the above is not present. This is serious deception on Disney's part. I hope they will quickly rectify the situation or continue their downward spiral. No wonder they did not meet the target attendence numbers. I would have travel there with my family at least once a month if they built it like the other Disneyland parks.Also many other attractions missing: Enchanted Tiki Room, Star Tours, Snow White, Alice in the Wonderland, Country Bear, Fantasmic, and ENTIRE SECTIONS COMPLETELY MISSING: Liberty Square New Orleans Frontierland and Absolutely NO ToonTown!   A very, very Dissapointed Disney Fan\n",
            "100.0% After visiting the original Disney parks in the US and even Euro Disney in France, the HK version is a bit of a let down. The park is really small and has only one real exciting ride, Space Mountain. The rest is mainly food outlets and artificial 'sightseeing' rides. The staff is really rude and does not hesitate to grab you quite violently when you walk in the wrong way. Spending one day at this park, which only opens at 10am, is more than enough. This will also help travelers to avoid the overpriced Disney hotels and stay in downtown Hong Kong where much more exciting things are to be done.\n",
            "78.5% As an Aussie, my fiance and I visited Disneyland in Anahiem for the first time in our _NUMBER_'s and we LOVED it, so much so that we returned another time a year later. Im a big Disney fan girl.However, Hong Kong Disneyland was a huge disappointment. It started off promising, we got there by the MTR and was excited to see it had special Mickey shaped windows on the train and hand rails on the roof. We got there and the station seemed impressive...then it started to rain. Ok, cant help bad weather I guess. It turned torrential so we had to buy ponchos to keep dry, and as the line to buy tickets was LONG we were rained on for about _NUMBER_ 45mins before even getting inside.I was drenched by the time I did get in, and the lines were very long. That wasnt so bad, but people constantly pushing in the line that day was getting more than annoying. At the Anahiem Disneyland, all staff members are refered to as the  crew  as everyone is in character, even the ride attendants and people in the shops, everyone is super happy and friendly. Not in Hong Kong, no one was in character and there was no Disney  vibe  at all. It was very disappointing.Not only that, but I was the only one in our group who had been to a Disneyland before, so I was talking up how great it was going to be, and of course everyone else in my group had been dreaming of going to Disneyland since they were kids. They hated it. I tried to tell them this HK one was just terrible, but the one in Anahiem is amazing but they wont listen, they wont be going to Disneyland again after such a bad day at Hong Kong's Disneyland.Lonely Planet's description is spot on, give it a miss unless you have very small children. Only they will like it. Maybe. Its all just a merchandising opportunity at the Hong Kong Disneyland. Its tiny, doesnt have many rides and only has a few of the great rides such as Space Mountain.I would not rate Hong Kong Disneyland, just give it a miss, and I say this as someone who LOVED my _NUMBER_ day trip to Anahiem Disneyland in my _NUMBER_'s. HK's version of the  happiest place on earth  was very disappointing and there is no atmosphere or happiness whatsoever.\n",
            "21.1% The park is small and some great rides closed in the limited number of rides that they have. The biggest thing missing in the park is the not so friendly staff missing the expected Disney smile and courtesy be it the ride operators or folks in the restaurants. Not recommended if you are a big fan of the  Happiest place on Earth  way of functioning of US Disney parks which they take literally \n",
            "==================================================\n"
          ]
        }
      ]
    },
    {
      "cell_type": "markdown",
      "source": [
        "#### Hong Kong — Positive\n"
      ],
      "metadata": {
        "id": "0OZowj_7076A"
      }
    },
    {
      "cell_type": "code",
      "source": [
        "HK_pos_vectorized = vectorizer(HK_pos,ng=(2,2))"
      ],
      "metadata": {
        "id": "geBBWWQd1UfM"
      },
      "execution_count": null,
      "outputs": []
    },
    {
      "cell_type": "code",
      "source": [
        "nmf = NMF(n_components=2)"
      ],
      "metadata": {
        "id": "lvIJn-Ky09P3"
      },
      "execution_count": null,
      "outputs": []
    },
    {
      "cell_type": "code",
      "source": [
        "W_HK_pos = nmf.fit_transform(HK_pos_vectorized)\n",
        "H_HK_pos = nmf.components_"
      ],
      "metadata": {
        "colab": {
          "base_uri": "https://localhost:8080/"
        },
        "id": "a765v-c809Si",
        "outputId": "4f025baf-bb15-4ac5-b11e-5b349600393b"
      },
      "execution_count": null,
      "outputs": [
        {
          "output_type": "stream",
          "name": "stderr",
          "text": [
            "/usr/local/lib/python3.7/dist-packages/sklearn/decomposition/_nmf.py:294: FutureWarning: The 'init' value, when 'init=None' and n_components is less than n_samples and n_features, will be changed from 'nndsvd' to 'nndsvda' in 1.1 (renaming of 0.26).\n",
            "  FutureWarning,\n"
          ]
        }
      ]
    },
    {
      "cell_type": "code",
      "source": [
        "#get_top_tf_idf_tokens_for_topic(H_HK_pos, HK_pos_vectorized.columns.tolist(), 5)"
      ],
      "metadata": {
        "id": "QjCWgGVQ09U0"
      },
      "execution_count": null,
      "outputs": []
    },
    {
      "cell_type": "code",
      "source": [
        "get_top_documents_for_each_topic(W_HK_pos, HK2_pos.Review_Text.tolist(), num_docs=10)"
      ],
      "metadata": {
        "colab": {
          "base_uri": "https://localhost:8080/"
        },
        "id": "JWln0Omf09Y6",
        "outputId": "7ea65111-1e68-4bba-dbbb-ebc3f99748df"
      },
      "execution_count": null,
      "outputs": [
        {
          "output_type": "stream",
          "name": "stdout",
          "text": [
            "Topic 0\n",
            "100.0% My husband and I took our daughter to HKDL for her 25th birthday. We live in Japan, and have been to Tokyo Disneyland and Tokyo Disney Sea (collectively known as Tokyo Disney Resort, TDR) numerous times. I grew up _NUMBER_ minutes from California Disneyland, so I went there many times also, and I've been to California Adventure several times. We have become so used to the average _NUMBER_ hour lines at TDR that we were really overwhelmed by the lack of people at HKDL. It was amazing. Maybe it was the time we went, after the Chinese New Year holidays...One thing that made us laugh out loud was while we were standing in line waiting to get in (the Park opens at _NUMBER_ a.m., quite late), and we heard a male voice lament in English,  Everyone is here!!!  He's never been to Tokyo, where the line on opening day for Toy Story Mania was _NUMBER_ hours long! I almost told him to go there. There were perhaps _NUMBER_ people waiting around, while in any one line of _NUMBER_ or more at TDR there are _NUMBER_ people. There were no lines at any attraction, except for the Golden Mickeys, and then we only had to wait for the previous show to end and we went right in. When lines at TDR can reach up to _NUMBER_ hours or more on weekends and holidays, it was so fun to just walk right in and get on the attractions. All our friends who love Disneyland anywhere were quite stunned.The Park was extremely clean, including the restrooms, as is expected of a Disneyland. The details were spot on, too. Toy Story Land was very small, but awesome! Everyone spoke English, which was great for me. The only hitch to that was the Jungle River Cruise attraction, where you choose English, Mandarin, or Cantonese lines before you board the boat. Our English speaking guide surely was speaking English, but none that I had ever heard of. Everyone in the boat was looking at each other and shrugging. It was quite disappointing, as I'd read this was a fun experience.We had plenty of opportunity to meet lots of characters. The wait was just a few minutes. We got a Fast Pass to see Anna and Elsa of Frozen first thing in the morning, and the return time was around _NUMBER_:_NUMBER_, but otherwise we just strolled up and waited our turn for Duffy and ShellieMay, Buzz Lightyear, Cinderella, Mickey, Minnie, and Goofy, and we saw several others but we already had their autographs.Tomorrowland was empty. We could ride Space Mountain twice and have our pick of seats. The Buzz Lightyear attraction was also empty. Instead of shooting at things as you usually do on the attraction, I just sat back and enjoyed the ride, knowing we'd go on it again. We missed the Stitch Encounter English show as the timing wasn't right. You have to go to the attraction to find out when the times are for the various languages. This show is similar to Turtle Talk at other Disney Parks, I think.Fantasyland had the most attractions of any Land, with Dumbo being the most popular. We went on the Many Adventures of Winnie the Pooh. It's similar but slightly different than in other Parks. The Golden Mickeys show was fun. It was done in Cantonese, with simplified Chinese and English subtitles on screens to the left and right of the stage. The show was similar to the Oscars or Emmys, with various (Disney) movies and characters being nominated, but no one is actually named a winner, which was a little disappointing. Of course, ALL the characters and movies presented were winners! Sleeping Beauty's Castle was really small! You could walk through it in less time than it takes to greet someone. And the top half was covered with wooden boards, and that half of the castle was painted on the boards! I hope that this was to cover repairs being done. it's a small world was as enjoyable as ever, and we even got our own private boat!Adventureland had only the Jungle River Cruise and Tarzan's Treehouse, which is on a little island reached by raft, a la Tom Sawyer's Island, though once you got there, there was only the Treehouse, and nowhere else to go. The rest of the island is off limits. When we were there, scaffolding covered the whole Treehouse. The whole area of Adventureland had plenty of wooden carvings, and a place to rest with various drum type instruments you can play with. The Festival of the Lion King show was also closed, another great disappointment. Grizzly Gulch was nearly all closed. The Runaway Mine Car attraction, perhaps the most exciting, was closed for maintenance. My daughter and I were really looking forward to the fish and chips sold at the Silver Nugget Saloon, but that place, too, was closed. It really was like a ghost town!Mystic Point was fun and interesting, with the Mystic Garden trick art a high point. Mystic Manor itself has some very interesting displays along the way toward where you board your vehicle, but as there were no people in line in front of us, we just zipped along. This attraction is really interesting, and unlike the Haunted Mansion it replaces. The outside looks nothing like the Haunted Mansion, though the sign on the gatepost looks similar in font and plaque styles, but inside there are several rooms that are similar, with different decorations, of course. Look for those!Toy Story Land was compact, but really colorful and fun. As someone who grew up with nearly all the toys there, it was nostalgic. We went on the Slinky Dog Spin, and it wasn't as fast or stomach churning as we had thought it would be. The same goes for the Green Army Men Parachute Drop. Watching it beforehand, it reminded me of the Tower of Terror's many ups and downs, but it didn't feel the same. Not as stomach lifting. We skipped RC Racer, though it was fun to watch.Main Street was very compact, filled with nice shops. Even at the close of the Park, there were few people in the shops, so we could shop without being bumped. There were some items sold at great discounts, so this was a pleasant surprise. We went for one whole day, plus a a few hours the next day before our flight back home. The whole experience just made us want to stay longer, or at least go back again. We are already planning that for next year around the same time! Before you go, make sure you check the Chinese holiday calendar  and avoid any holidays! Go during the week, not on the weekends.\n",
            "100.0% I was having second thoughts of going to Disney as we were already planning to go to Ocean Park and Disney was much more expensive. I am so glad we still went! We got there via the MTR and the dedicated train to Disney from Sunny Bay was so cute   with the Disney windows, handholds and cushioned seats. We bought our tickets the day before from the Admiralty MRT station (where we got a discount of HK_CUR__NUMBER_ each and a free usb speaker and a limited edition umbrella   great deal!) so we had a hassle free entrance to Disneyland :) When we arrived, we noted that Space Mountain was closed due to Halloween preparations and the park looked like it was gearing up for Halloween. There are so many places to visit inside and all of them well thought out, convenient and entertaining. there wasn't too many people with us so we were able to go on the rides with minimum waiting time (longest wait was around _NUMBER_ minutes for the Winnie the Pooh Ride). There was a lot of seating areas, shaded areas, water play and misting areas   all with the intention to cool you off during the sunny day. as i said, we highly appreciated the fact that they thought of this! All the staff were friendly, helpful and happy   which makes the visit so much better.Here are our favorite rides and attraction: Festival of the Lion King (great show reenacting the Lion King   not to be missed!), Golden Mickeys (another great show featuring our favorite Disney songs and characters), Mystic Manor (cool concept!), Runaway Mine Car in Grizzly Gulch (rollercoaster), Geyser Gulch (water fun!!! exploding geysers, leaking water tanks and old fashioned water gun pumps), all the rides in Toy Story Land, It's a Small World (cute ride, great for all ages), Buzz Lightyear's Astro Blazers (like being inside a video game!), the Jungle River Cruise, Liki Tikis (more water play) and of course   the AMAZING fireworks display at the Main Street USA. There are so many other street entertainment and shows around that you will not get bored. Food in Disney is expensive as expected but the servings are big so you don't feel too bad.All in all, well worth the entrance fee   do not hesitate to visit :) they said it gets more crowded on weekends, so do what we did and visit on a weekday. we will definitely come back!\n",
            "100.0% It was the 1st time going to Disneyland for me and my sister. The most convenient way to reach Disneyland is via MTR to Disneyland Resort Line. The train to Disneyland MTR has windows shaped of Mickey Mouse and the interior has Mickey Mouse shaped hand rails. There are also disney decorations and mini statues of Disney character and the seats are cushioned. The who train is  Disney fied . After alight from the train, you will see the train station too is different from other MTR stations. Before entering Disneyland, you will have to walk an un sheltered distance to the entrance. Along the way, you will see a gigantic black fountain of Mickey and friends and ticket booths. Bags will be checked before entering. Do grab a copy of the map before entering the theme park. Disneyland was divided into _NUMBER_ portions: Main Street, U.S.A., Fantasyland, Adventureland, Tomorrowland, Grizzly Gulch, Mystic Point, and Toy Story Land. At the Main Street, U.S.A, displays beautiful architectures and building such as, fire department, train station, and emporium. Over there, you can rent trolleys and wheelchairs. You can also go the emporium there to get the Disney merchandise. You can get merchandise from T  shirts, key chains to kitchen utensils and even pasta. You can also take picture with Mickey in his tux and Minnie in the white polka dot red dress. Do check out the Art of Animation building which showcase the drawings of different Disney characters and the magic behind creating motion pictures. If you find queuing at the restaurant for food is too time consuming, you can try Market House Bakery which the pastries are great and there are varies of affordable food and drinks to choose from.Walk out of the Main Street, you will be able to see the Disneyland castle. The fireworks will be held at the castle and the area in front of the castle is the located to view the fireworks at _NUMBER_ pm . Do check out the fireworks timing with the staff as it may varies at different day. After walking out of the Main Street and turn to the right side, you will reach Tomorrowland where you will see the futuristic and space theme rides, restaurants, shops and decorations. Do check out the Mickey Mouse, Minnie Mouse, and Lotso ice cream. As most of the rides are filled with people queuing, I would recommend Space Mountain, Stitch Encounter and Buzz Lightyear Astro Blasters. Do not eat too much if you are taking the Space Mountain ride as it is a dizzy roller coaster ride. While queuing for the famous ride in the area, you will spot vending machine that people can buy  Fast Forward  tickets to avoid the queue. The queue for famous rides may take longer than queue due to the people buying  Fast Forward  tickets (which I don't think is fair especially when there is huge crowd queuing). Do watch out for pushy China tourists who jump queue. Take care of your belonging as most of the China tourist would just jump queue thinking that you do not see them.At _NUMBER_ p.m everyday, subjected to weather condition, there will be Flights of Fantasy Parade between Toworrowland and Fantasyland. It is a must watch. You will see many Disney character comes together to parade in music, dance and decorated  flower  cars. There will also be many people taking pictures of them so it is quite chaotic.At the Fantasyland, there is a  It's a Small World  ride back of the Fantasyland. The ride is a boat ride and shows different nationality singing the  It's a Small World  theme. At the Fantasyland, there is a Winnie the Pooh, water ride, Carousal, 4D film Mickey's PhilharMagic (Highly recommended). Over there you can also queue to take pictures with Mickey, Minnie, Goofy, Pluto, Winnie the Pooh and etc. The Royal Banquet Hall, a restaurant, is a must go if you like Disney princesses. It indeed live up to it's name. The shops there sells Winnie the Pooh and friends and Disney Princesses merchandises.Beside the Fantasyland, is Adventureland. The Adventureland is of the Africa and jungle theme. Over there, you can take Jungle River Cruise, or watch Festival of the Lion King, or take a raft to Tarzan Treehouse. As you walk up the Tarzan Treehouse, It explains to you the story of Tarzan. After visiting the treehouse, take the raft back to get to the next _NUMBER_ new themes.Walking away from Adventureland, is the Grizzly Gulch. Its theme is inspired by Grizzly Peak. There is only one ride, an outdoor roller coaster ride, Big Grizzly Mountain Runaway Mine Cars. Beside Grizzly Gulch, is Mystic Point which is based on home of Lord Henry Mystic, and his monkey, Albert. Mystic Manor is the only ride in Mystic Point and is one of the best rides in Disneyland. As for Toy Story Land, there are rides such as Slinky Dog Spin, RC Racer and Toy Soldiers Parachute Drop. This place has all the toys up sized, colourful and very  Toy Story Land . Do check out the gift shop, as it sells merchandises that may not be found that the emporium at the Main Street.Overall, this Disneyland did live up to it name despite the heat, overwhelming crowd, long queues, pushy China tourists and irritating kids. It also bring back childhood memories of Disney. At the end of the day, the fireworks  paid off  all the  sufferings  I had during queuing for rides. The firework brings about Disney magic and gives a romantic feel. I will be back.\n",
            "77.3% Not a very huge park, but if with kids, it definitely requires an entire day. Better to plan on a weekday else to plan when schools in Hong Kong and China are not on holidays. We went on a Saturday in October and it was alright. Most of the rides had only a _NUMBER_ _NUMBER_ min wait atleast till 5pm. Post that, the lines get a little longer to _NUMBER_ _NUMBER_ mins but i guess that alright. a lot is covered by that time. Tickets: Tickets can be purchased at the gate else a better option is to took them online in advance and get them cheaper by _CUR__NUMBER_ per adult.Travelling: We were staying on Hong Kong island. So we took the MTR from Hong Kong Stn to Sunny Bay via the Tung Chung Line. At Sunny Bay, change to the Disney Line and the magic of disney begins there itself. A specially designed Disney theme train to take you to Disneyland. Mickey is everywhereOrder of Zones to Cover: Tomorrowland, Fantasyland, Adventureland, Grizzly Gulch, Mystic Point, Toy Story Land. Tomorrowland and Fantasyland have majority of the attractions which we covered by 2pm followed by lunch. Post the 3pm parade we went to the other zones which are smallFood & Water: Lots of small food joints everywhere and a restaurant in each zone. However the food is expensive. We ate at Tahitian terrace and the food was good. In between, we munched on fries, popcorn and some snacks. Food is kind of expensive but there is other option. Outside food is not allowed and the checking at the gates in quite strict. Water can be filled inside at many water stations available. the bakery in Mainstreet USA is good tooMost of the rides are for kids and adults might find them silly, but hey, this is disney and if with kids they will have a great time at almost all the rides and attractions. So silly they may be, enjoy with them.Must Do Rides zonewise:Tomorrowland: Space Mountain, Buzz Astro Light Year, Autopia & OrbitronFantasyland: The May Adventures of Winnie the Pooh, Mad Hatter Tea Cups, Its a small world, Cinderella Carousal, Dumbo the Flying elephantAdventureland: Jungle River Cruise, Festival of the Lion King (Show)Grizzly Gulch: Big Grizzly Mountain Runaway Mine CarsMystic Point: Mystic ManorToy Story Land: RC Racer, Slinky Dog Spin, Toy Soldier Parachute DropParades:3pm Flight of the Fantasy: Awesome. take a seat around _NUMBER_ mins before the parade to get a good seat. Best viewed from the place there the entry to Adventureland is. If lucky, your kid would be called in the parade and made to participate. My daughter was called in like _NUMBER_ _NUMBER_ times and she went so crazy9pm Fireworks. A must see, just brilliant. They happen above Sleeping Beauty's castle and are best viewed from the Gazebo at Main Street USA close to the entranceSince it was Haloween, we had a special parade at _NUMBER_:30pm called Disney Paint the Night. a parade with 900k LEDs and the disney characters. Simply brilliant. Best viewed from same place as the 3pm paradeFast Pass: Space Mountain and Winnie the pooh rides have fast pass. So if you do not get a queue go for it once and then take fast pass. Come back again at the mentioned time and enter with minimal queue againShopping: Princess clothes and stuff along with Mickey stuff at a shop in Fantasyland. Lots of other carts all around for accessories, souvenirs and toys.Meet the Characters:Mickey, Minnie, Pluto, Chipmunks, Donald Duck   In Fantasy Gardens in Fantasy land. But expect a queue of _NUMBER_ _NUMBER_ mins for photo with each character. Buzz Light Year   Next to the Buzz Lightyear Ride. expect a _NUMBER_ min queue atleast.Have a great time at Disneyland. you and your kids will be smiling all day :)\n",
            "100.0% Hong Kong Disneyland is the smallest out of all the Disney Parks. However, it was great. It was less crowded, so we could actually do more. The average wait time for a ride was _NUMBER_ _NUMBER_ minutes, compared to an hour at the other Disney Parks.There was a lot to do. We spent a day there and barely got through the whole park. The park consists of seven parts (Main St. USA, Adventureland, Grizzly Gulch, Mystic Point, Toy Storyland, Fantasyland, Tomorrowland). The most congested area was Fantasyland. All the kids were running around having a blast. This is where the Dumbo ride, Teacup ride, and It's A Small World ride is located. I didn't get a chance to go on the Winnie The Pooh ride, bummer. They have a show called Mickey's Philhar Magic. It's a must see. We ate at the Royal Banquet Hall in this section and the food was good. The combo meals will run you about _CUR_20US. It's your standard fare (noodles, curry, sushi, pizza, etc.) The pizza and sushi are shaped as a mouse head. This section is also where you can get your pics taken with Mickey and Minnie.Adventureland is where you can take the Jungle River Cruise. This is also where they have the Festival of the Lion King. It's a scaled down version of the musical, The Lion King. The production was on point. I loved the props and costumes.Main St. USA is where you'll find a ton of shops and eateries. At the end of the night, they host the light parade and the fireworks show. The light parade starts at _NUMBER_:45pm and the fireworks show starts at _NUMBER_:30pm. Space Mountain, Orbitron, and Jedi Knight rides can be found at Tomorrowland.The Grizzly Gulch is Wild West themed. There's the Geyser Gulch and the Gold Mine Roller Coaster.Mystic Point has the Mystic Manor ride. Be sure to go on this ride. It's super cool and fun. It has a lot of spooky stuff, but it's not scary. Pay attention to the pictures on the walls. I'll leave it at that and won't ruin it for you.Toy Storyland was my least favorite. It's definitely a spot for kids. It has a kids play area and some rides. My eight year old son liked this section.My favorite thing that I did here all day was see the Mickey's Philhar Magic show. It runs about _NUMBER_ minutes and it's fabulous. You go into this huge theater and they show this short film on the giant screen. It's of various Disney characters singing their songs. It's in 3D and the theatrics are superb. When the Little Mermaid came on, you could feel light sprinkles of water getting splashed on you. When they redid that food scene from Sleeping Beauty, you could smell the cinnamon apple pie. This production is crazy. Do not miss it.\n",
            "100.0%                          MTR                                      Sunny Bay                                   MTR Disneyland Resort Line (                                                             Disneyland)                          Hong Kong Disneyland                                      Hong Kong Disneyland                                                                                                                                                                                                                          (                                                          Hong Kong Disneyland Railroad)                                  Main Street USA. (                                                                                                                      X                                                    Tomorrowland                                   Fast Pass Space Mountain                                                  Fast Pass                                                                                   Buzz Lightyear Astro Blasters                                                                                               Tokyo Disneyland          (                                                      )                                                                                                                                               Buzz Lightyear                                                                                                                                                                                                                                                                 Space Mountain                                                                                                                           Fast Pass                                                                                                                                                                                                             Space Mountain                                                        Fantasyland                    Small World             (                                                                     )                                                                                                                                                                                                                                                                                                                                                                                                                                                                                                                                                                                                                                                                                                                                                                                                                                                                                                                                                                                                                                                                                                                                                                                                                                                                                                                                                                   Hong Kong Disneyland                                                                                                                        Tokyo Disneyland                                                                                                                          Adventureland          Toy Story Land                                                                        Hong Kong Disneyland                                                             Mystic Manor                 Mystic Point                                               Hong Kong Disneyland                                                                                Mystic Manor                                                                                                                                                                                                                                                                                                                                                                                                                                                                            Grizzly Gulch                                                                                                                                                                          Fastival of the Lion King                                                                                                                                                                                                           Lion King           _NUMBER_                                                                                                                                                                                                                                                 _NUMBER_                                                                                                                                                                                                                                                                                                                         The Many Adventures of Winnie the Pooh                                      Fantasyland                          Fast Pass                                                              Honey For Pooh                                                                                                                                                                                                      Fast Pass                                                             \n",
            "94.9% We   ve been to Hong Kong Disneyland every year for the last _NUMBER_ years.Once again my son requested to go there on his tenth birthday.For the first time is birthday day was on the day we went to Disneyland, but they don   t have nothing special for birthday, except the badge that he got when we checked in at the hotel.To get there just take the MTR and change in Sunny Bay to the Disneyland line. Kids will love to ride in a MTR with windows Mickey shaped.Ticket is expensive but it includes all the rides   Even though the place is quite small, you still need one full day to visit it all, especially because of the waiting. If you want to cover the whole park I would suggest that you arrive there early and plan your visit.Check the times of the parade, which is quite nice, and the live shows, like Golden Mickeys and Lion King. And check the language you want for the Stitch show. This time my daughter only went for the Golden Mickeys, but the others are nice too.You can meet and take photos with Disney characters, but do check the times in the program if you don   t want to miss it. In the Garden, you can find Minnie, Mickey, Pooh, Donald and Goofy, almost all day, but in other places, like the Princesses they have a schedule.Princesses some times are on the back of the souvenir shop inside the castle, on the way to Adventure land. We just meet Rapunzel there by chance.My kids, especially my daughter (_NUMBER_ years) loves to meet the princesses, talk to them and take photos with them. She doesn   t mind waiting in line for more than _NUMBER_ minutes just to see them really close.They were advertising a lot the new Toy Story Land in TV so we were expecting a lot more than it has to offer: only _NUMBER_ rides and only one suitable for kids, the Slinky(?) dog ride.My son loves the Autopia, but the waiting was always around _NUMBER_ to _NUMBER_ minutes with Chinese cutting the line...Phillarmagis is nice, you don   t need to wait a lot, it is a 4D show and kids love it.Winnie the Pooh Bookstory is also nice and I recommend that you take some fast pass tickets in the machine, go for other rides and come back later. They should have the same in Autopia   Astroblaster is a boy   s thing to shoot at the space invaders, and my son also loves it and it was quite empty so he went on for a lot of rides!Also in Tomorrowland (near Astroblaster) they have a space for kids to play with water and my kids love to play there and get all wet. It is a nice place to refresh as it is always hot and humid in this time of the year.Both my kids love Small World and the firework with music at the end of the day.The place is too crowded and Chinese   s like to cut lines and just glue to your back if you are in the line in front of them.Food is expensive and not that good (we had lunch in Corner Caf  . The character shaped pasta only had one or two Mickey shaped, all the others were normal penne, with a canned tomato sauce. My daughter could not eat it   Remember to wear comfortable shoes as you will be walking around from one place to other.\n",
            "76.4% During our one month stay in Hong Kong, we spent a weekend at Disneyland (our first Disney experience     and something that honestly had never been on our    to do list    prior to visiting Hong Kong), and absolutely had the best time! Here are our thoughts   advice based on our experiences with our two young kiddies (Mister _NUMBER_ and Ms _NUMBER_):    We purchased our tickets online the day before we went, and then presented our credit card at arrival to collect the tickets     thus beating some of the crowds (we arrived _NUMBER_ minutes after opening each day, and long queues had already formed). Incredibly quick and easy.    We found it to be marginally more expensive to purchase the two day pass (rather than just a one day pass), and we are so glad that we did. You could absolutely cram everything into one day, but if you have two young kiddies in tow, there would be rapidly diminishing returns as you get into the late afternoon and evening! We were there from 10am to 5pm on each of the two days, and that was stretching it with our kids     though it enabled us to take things at a more leisurely pace, and do some rides _NUMBER_ times.    We found Disneyland to be a far superior experience than Ocean Park for our young children, and actually for us as parents too: o There were several more rides that our kiddies could do at Disneyland (_NUMBER_ different rides in total, plus the Flights of Fantasy Parade, and the Lion King Show), versus only a handful at Ocean Park.o The atmosphere at Disneyland was amazing     unfortunately we just didn   t pick up that same vibe at Ocean Park     it really had the same atmosphere as a shopping centre.    Our two days were split as follows:o Saturday:    Fantasy Land (we loved everything, though our kids were utterly petrified during the 3D Mickey   s PhilharMagic show     it was incredibly loud, and really bizarre     definitely wouldn   t recommend, even for adults).    Tomorrow Land (only did Oribiton and Space Mountain (only my 5yo and husband did Space Mountain as our 2yo didn't meet the height requirement))    Flight of Fantasy Parade     which was amazingly atmospheric    Festival of the Lion King     amazing amazing amazing! (and I have seen the West End performance and was still hugely impressed by this    concise    version)o Sunday:    We raced over to Toy Story Land as soon as we arrived, which was incredibly quiet (our two kiddies had the most fun here): Slinky Dog Spin (which we did _NUMBER_ times) and Toy Parachute Drop.    Mystic Point (our kiddies got nothing out of this): Mystic Manor (our kids were petrified!     there were warnings that it could be frightening to young children, but we didn   t heed them     and then spent the next few minutes trying to cover their eyes and ears (and their mouths as they screamed their lungs out!)    Adventure Land (our kiddies got nothing out of this): Jungle River Cruise (this was a complete waste of time     we were seated in the middle of the boat (as that is where we were told to sit!), and couldn   t see a single thing, in part due to the inconsiderate group of men who were blocking our view with their iPads recording the entire ride).    Revisited many of the rides at Fantasy Land    Revisited Tomorrow Land, and did the Buzz Light Year Astro Blasters (our kids were petrified     which was devastating to my husband and I, as we were trying to beat each other   s scores     but having to console the kids at the same time!)    There were maintenance works happening while we were there (mid April): the Disneyland Railroad service was suspended, and the castle was being renovated.     We decided not to stay to see the fireworks, as we knew that our kiddies wouldn   t be able to go the distance of an entire day at the Park and then a trip back to our apartment on the train.    We decided not to do any Character Meet & Greets     we thought that our kids would get more value out of the rides.Advice for those with littlies:    Do a little research, and work out a plan using a map     it may not be as huge as other Disney parks     but it definitely takes a little while to walk from one side to the other, particularly if you are carrying the kids! In particular, you want to avoid going near the rides that your kids won   t meet the height requirements for (all set out on the Disney website)     it will just result in tears and screaming! ;)     Know when to cut your losses!     we decided not to do Autopia and The Golden Mickey   s because we knew that our kids would not tolerate the wait time (in excess of _NUMBER_ minutes for each).    We had read that bags are searched upon entry, and food will generally be confiscated (it is a park rule that food cannot be taken in). We can confirm that all of our bags were searched upon entry on both days, but that our small container of food for the kids was not confiscated. We are so glad that we had this with us (sandwiches and fruit), as there weren   t many options for buying cheap & healthy western food for kids. My husband and I just purchased some food from the bakery on Main Street, and supplemented the kid   s healthy food with some not so ideal snacks from the Park.\n",
            "100.0% The _NUMBER_ day pass is good value if you have the time. Therefore you don't force yourself to be there from 10am to 8pm on a full day, rather you can mix it up with a visit to Disneyland   City Gate Outlets @ Tung Chung on _NUMBER_ day, and Ngong Ping   Disneyland on day _NUMBER_. The 2nd visit must be used within _NUMBER_ days of the first.Also, best to visit mid week when there are less tourists. Our Thursday (e.g. _NUMBER_ min wait time for Space Mountain) visit was much nicer than the Friday when it was super busy with people staying the weekend.The park is pram friendly, and does not have the same hills as Ocean Park. Overall, it is tidy and fun. Not comparable in size to the US equivalent, but better than Paris. The MTR is super efficient. The new Toy Story Land is okay, with rides best for young kids. The Lion King Show is superb (but closed for maintenance in March) whilst other highlights included Space Mountain and the closing fireworks.\n",
            "100.0% Our family of _NUMBER_, including our daughters ages _NUMBER_ and _NUMBER_, payed HKD a visit in the worst time of the year but still worth the laughs and memories. The summer is scorching hot and muggy so one should strategically plan their trip. I did not find a trip planner as I did for Disneyland in California so a lot of research and planning was done to come up with our individual itinerary. We have previously been to the Disney parks in California and Tokyo so HKD would be our third. We avoided the ticket line by purchasing online via Klook.com which was cheaper than onsite. We also purchased meal vouchers from the same website and found this to be a huge benefit. Each individual meal voucher was _CUR__NUMBER_ which got us a lunch meal between noon and _NUMBER_:_NUMBER_ p.m.; a dinner meal between _NUMBER_:_NUMBER_ _NUMBER_:_NUMBER_ p.m. and a snack (ice pop or popcorn) anytime during the day. The meals are very Asian infused and not typical for Westerners so be open. For lunch we stopped at the Riverview Cafe where it was served in Chinese fashion (food shared amongst the table). Tea is served instead of any other beverage which you would have to pay for. We had dinner at the Royal Banquet Hall where they had various styles of food. I stuck with the Asian sushi meal (delicious!) whereas the family stuck with the American burger (not good). This was actually sufficient for our entire day. The only other thing we purchased was a water bottle or two (we used camelbaks for our water source).We decided to experience those attractions and areas that were not found in previous Disney theme parks that we visited. Based off the attractions available in Fantasyland, we decided that we would not waste our time with the majority of these attractions. We also did not waste much time with character meet and greets since. Although it was the summer and we expected huge crowds, we went during a weekday which was perfect for crowd control. The longest wait time we experienced was about _NUMBER_ minutes for Winnie the Pooh (fast pass not available on our day). With our itinerary we were able to do the following: Big Grizzly Mountain Runaway Mine Cars x _NUMBER_  Mystic Manor x _NUMBER_ Toy Soldier Parachute Drop RC Racer x _NUMBER_ Jungle Cruise Lion King show Buzz Lightyear's Astro Blaster Space Mountain x _NUMBER_ (fast pass) It's a Small World Winnie the Pooh Mickey's Philhar Magic Meet and greet with Minnie and Pluto Fireworks showThe order of the areas we visited were: Grizzly Gulch Mystic Point Toy Story Land Adventure Land Tomorrow Land Fantasy Land Toy Story Land Mystic Point Grizzly GulchNotice we decided to not do the street parade. First, it's too hot to be watching the parade, even in the shade. Second it's the same parade as in California. Third, since the Chinese are big into the characters, this allowed us to visit more attractions. Plan the Lion King show and Philhar Magic show (both highly recommended and in English) so that you can use them as a break to get away from the heat. Get your seats for the fireworks right after the Disney Paint the Night; about _NUMBER_:_NUMBER_ p.m. Watch for the workers setting up the tape (boundary lines) and establish your spot. If you go during the summer, the ground is still ridiculous hot at this time so take something to sit on.7 year old daughter's review: it was fun and you would really like it. Top _NUMBER_ attractions: Big Grizzly Mountain Runaway Mine Cars (similar to Thunder Mountain in California), RC Racer, and Space Mountain.12 year old daughter's review: it was fun because there were things for kids my age to enjoy. Top _NUMBER_ attractions: Big Grizzly Mountain Runaway Mine Cars, RC Racer, and Space Mountain.Wife's review (Disney fan): it was fun but it lacked the magic you expect. She felt that this was because of the workers almost seeming to not enjoy being there. Top _NUMBER_ attractions: Big Grizzly Mountain Runaway Mine Cars, RC Racer, and Space Mountain.My review (Disney fan): do your research early using various sites so that you can at least get a general idea of what your day will look like. Just as in the states, try to get to the rope drop at least by _NUMBER_:_NUMBER_ a.m. however arriving at _NUMBER_:_NUMBER_ a.m. will not be too bad. The park is small compared to others but if you focus on this con, your day will turn out the same. Top _NUMBER_ attractions: Big Grizzly Mountain Runaway Mine Cars, RC Racer, and Lion King show.\n",
            "==================================================\n",
            "Topic 1\n",
            "100.0% This was my _NUMBER_ yo's highlight of her summer holidays in Hong Kong. We spent a good whole day there, 11am   6pm. Exhausted by the end but well worth it. Lost my _NUMBER_ yo _NUMBER_ times that day because there were a lot of people but luckily found! Bought my online tickets online as my parents were HK residents and got a little discount. Got the wrong tickets but  guest relations  refunded me when I got there so was very happy. Food was yummy although we ate at 2pm so skipped the crowds. \n",
            "100.0% We had a good time despite the rain. But it would be better if there are more indoor attractions. Going there is very easy with the MRT. There is even a couple of halal restaurant so food is not a problem for muslims. The restaurants, however, should be open earlier.\n",
            "100.0% For Australians its a great alternative to Disneyland LA although its quite a bit smaller you really get the real Disney atmosphere and its a lot more affordable we had a great time there\n",
            "100.0% Especially the show at _NUMBER_ pm is fun and great after whole day of attractions  weather is essential ...very very relaxed atmosphere .  I think also some better restaurants might be required too maybe  a hope  in the future.\n",
            "100.0% a great day to spend with the family and you MUST stay at the end to see the firework display (_NUMBER_.00pm)\n",
            "100.0% Disney as you would expect.  A great day out for all ages.  Certainly would recommend a visit.  Public transport easy to get there.\n",
            "100.0% HK Disneyland might be smaller by size compared to other Disneyland   s but it sure don   t have less to see. We were on a Saturday, normally that   s a no no for any kid friendly places but there was little to no line... till after 2pm. After that I had no ideal where all those people came from. Even with the lines (mostly _NUMBER_ 20min wait) we saw almost everything. We missed a few thing because the timing plus we had a child with us, so that don   t help with timing. Over all we had a great time and what I think the best part is that since the park is smaller in size there was less walking to go from place to place. (lol)\n",
            "100.0% Disney land always makes you feel the younger version of yourself to see all the famous characters you had seen in fairy world and movies. Must visit for all ages and njoy the old nostalgic time. Its worth and good time spend.\n",
            "100.0% This park is much smaller than its US sisters, but all the charm and fun is still there. I almost prefer it   not as much walking and none of the crazy restaurant bookings 6mos in advance. We had a great time and will be back!\n",
            "100.0% We really enjoyed HK Disneyland, it was our first Disneyland and couldn't fault it.  Great day out, very magical.\n",
            "==================================================\n"
          ]
        }
      ]
    },
    {
      "cell_type": "markdown",
      "source": [
        "#### Paris — Negative"
      ],
      "metadata": {
        "id": "sMJtUlfX9oFR"
      }
    },
    {
      "cell_type": "code",
      "execution_count": null,
      "metadata": {
        "id": "1c3kO6Z1xSrV"
      },
      "outputs": [],
      "source": [
        "paris_neg_vectorized = vectorizer(paris_neg, ng=(2,3))"
      ]
    },
    {
      "cell_type": "code",
      "source": [
        "nmf = NMF(n_components=2)"
      ],
      "metadata": {
        "id": "2y948LqffjA6"
      },
      "execution_count": null,
      "outputs": []
    },
    {
      "cell_type": "code",
      "source": [
        "W_paris_neg = nmf.fit_transform(paris_neg_vectorized)\n",
        "H_paris_neg = nmf.components_"
      ],
      "metadata": {
        "colab": {
          "base_uri": "https://localhost:8080/"
        },
        "id": "N_dnb5ZRflq9",
        "outputId": "18556dde-667b-427d-c5fa-989630fa1de4"
      },
      "execution_count": null,
      "outputs": [
        {
          "output_type": "stream",
          "name": "stderr",
          "text": [
            "/usr/local/lib/python3.7/dist-packages/sklearn/decomposition/_nmf.py:294: FutureWarning: The 'init' value, when 'init=None' and n_components is less than n_samples and n_features, will be changed from 'nndsvd' to 'nndsvda' in 1.1 (renaming of 0.26).\n",
            "  FutureWarning,\n",
            "/usr/local/lib/python3.7/dist-packages/sklearn/decomposition/_nmf.py:1641: ConvergenceWarning: Maximum number of iterations 200 reached. Increase it to improve convergence.\n",
            "  ConvergenceWarning,\n"
          ]
        }
      ]
    },
    {
      "cell_type": "code",
      "source": [
        "get_top_tf_idf_tokens_for_topic(H_paris_neg, paris_neg_vectorized.columns.tolist(), 5)"
      ],
      "metadata": {
        "colab": {
          "base_uri": "https://localhost:8080/"
        },
        "id": "F4GmW1Qgfl85",
        "outputId": "2009c646-7046-4509-ede6-3d37615b9f30"
      },
      "execution_count": null,
      "outputs": [
        {
          "output_type": "stream",
          "name": "stdout",
          "text": [
            "TOPIC 0\n",
            "\n",
            "\bwait time (5.2%)\n",
            "\n",
            "\btime ride (4.1%)\n",
            "\n",
            "\btime time (3.4%)\n",
            "\n",
            "\bride time (3.1%)\n",
            "\n",
            "\btime wait (3.1%)\n",
            "\n",
            "==================================================\n",
            "TOPIC 1\n",
            "\n",
            "\bride closed (3.3%)\n",
            "\n",
            "\bthunder mountain (1.8%)\n",
            "\n",
            "\bspace mountain (1.8%)\n",
            "\n",
            "\btime ago (1.4%)\n",
            "\n",
            "\battractions closed (1.4%)\n",
            "\n",
            "==================================================\n"
          ]
        }
      ]
    },
    {
      "cell_type": "code",
      "source": [
        "get_top_documents_for_each_topic(W_paris_neg, paris2_neg.Review_Text.tolist(), num_docs=10)"
      ],
      "metadata": {
        "colab": {
          "base_uri": "https://localhost:8080/"
        },
        "id": "VA3S9sZHFbB0",
        "outputId": "2efa8fa7-f177-4223-b6c2-80bf33d2143d"
      },
      "execution_count": null,
      "outputs": [
        {
          "output_type": "stream",
          "name": "stdout",
          "text": [
            "Topic 0\n",
            "100.0% I am a pretty regular Disneyland visitor and thus spent quite some money there already. Last week we went again with the family and I must say.. if this would be the first time I would say: crappy park. as a hotel guest you can 'enjoy' the extra hours (_NUMBER_ 10am) of magic. unfortunately only one real attraction is open at that time which causes normal delays at the waiting line (up to 30min). then.. you can't get into most parts of the park to enjoy that extra magic, so with the rest of the 'normal' people, you have to wait to be able to enter Frontierland, where they have one of their best attractions (Big Thunder Mountain). as soon as they 'release' us, people start running as wild dogs to this attraction, only to find... TECHNICAL DIFFICULTIES. I mean.. can't you warn us while we are waiting there that it would be useless to run? or.. having a new cool app, maybe show it on the app that the attraction is undergoing problems. Last time I was there the Big Thunder Mountain was having technical problems for _NUMBER_ out of _NUMBER_ days. Now again, _NUMBER_ out of _NUMBER_ days it was having problems.. This is one of the star attractions of the park, how difficult can it be to keep it running?? they advertise with their 25th birthday and they do mention that Pirates of the Caribbean is closed (I think Space Mountain is mentioned as well), which is already _NUMBER_ big attractions less. Add to that _NUMBER_ other attractions (Pinocchio was also closed ALL day!), what do you get? All people have to wait in line in fewer attractions, which leads to long waiting lines (85min is not strange). So please Disney, bring the magic back. Or we won't be coming back.\n",
            "100.0% Myself and my wife visited Euro Disney for her belated 50th Birthday celebrations. We stayed at the off site Magic Circus hotel from _NUMBER_ _NUMBER_ to _NUMBER_ _NUMBER_. We had a _NUMBER_ day pass for the Parks for _NUMBER_ _NUMBER_ and _NUMBER_ _NUMBER_.Saturday _NUMBER_ _NUMBER_ turned into probably the worst day of our lives.We got to the park at _NUMBER_:_NUMBER_ and were greeted to a _NUMBER_ minute, _NUMBER_ person long melee to get past security into the site. Once we had achieved this we got our tickets. As I had the foresight to pre book this we managed this bit quite speedily and hassle free. Once in the park we headed to the back as this was the quietest area. After a _NUMBER_ minute queue to get on the    small world    ride we then managed to get onto    Casey Junior    and a boat fairy tale trip. It was now midday and the park was heaving with people. We decided to go on the    railroad    that circled the park. After a _NUMBER_ minute wait we managed to get on the ride which lasted about _NUMBER_ minutes. We started to queue for lunch at about _NUMBER_:_NUMBER_ and after _NUMBER_ _NUMBER_ minutes at what was the slowest    fast food    queue I had ever seen we managed to eat. It was now nearly 2pm so we made our way to    Phantom Manor   . Following a _NUMBER_ minute queue we got inside the main door. After a _NUMBER_ minute wait we were then told it had broken down and were ushered out an exit door, so a whole hour wasted. We plodded to    Big Thunder Mountain   , wait _NUMBER_ minutes for a _NUMBER_ second ride and the fast path not working, we decided against this so over to    Pirates of the Caribbean    and another hour wait. It was now about 4pm so we decided to get an ice cream and wait for the parade. After another _NUMBER_ minute queue for ice cream we tried to get a spot for the parade. What a joke, people standing _NUMBER_ deep with children on their shoulders so we could see sod all. In desperation at even getting on another ride we went back to the    Pirates of the Caribbean   . We queued for an hour and got on the ride, halfway through this came to a grinding halt. After sitting in the boat for _NUMBER_ minutes staff in waders appeared to pull us to the side and we clambered out an emergency exit. To be fair they gave us a priority ticket to another ride as compensation but we had to stand in another queue for _NUMBER_ minutes with people pushing and queue jumping to get the tickets! It was now _NUMBER_:_NUMBER_ and exhausted we went back to the hotel to freshen up in order to come back for dinner and to see the fireworks at 11pm. We got back to the park at _NUMBER_:_NUMBER_. Thinking we could get something decent to eat we made our way to the    Blue Lagoon    restaurant but were told as we hadn   t booked they can   t get us in. We went back to a burger restaurant, it closed _NUMBER_ minutes earlier as had the pizza restaurant. So dinner was a croque monsieur at main street, there was no way we could get a table to sit at so we had to eat this sitting on the kerb dodging trampling feet! Now to the fireworks (literally). Stood on the pavement for an hour trying to stay in the spot where we could see. Barged aside by people with no thought for anyone but themselves and battered by pushchairs. _NUMBER_ minutes before it was due to start some idiot stands right in front of us and puts his child on his shoulders so neither we nor the people behind us could see a thing. Before I could say anything the Brit behind me grabs the bloke and screams    cheers mate we   ve stood here for an hour and now none of us can see you selfish *!!*    people then started shoving and jostling before he finally moved. We watched the fireworks and made our way back to the bus queue to try and get the shuttle bus back to the hotel at _NUMBER_:_NUMBER_. There were _NUMBER_ buses for about _NUMBER_ people. Everytime one came in a crush to try and get on the bus ensued, grown adults behaving like animals pushing and shoving little kids out the way to get on the bus, it was disgusting. One guy even physically threw another man off the bus into the waiting crowd as the driver couldn   t shut the door and he wouldn   t get off. After another _NUMBER_ minute wait we finally got back to the hotel at _NUMBER_:_NUMBER_ and fell in bed and the nightmare ended.   _NUMBER_ and _NUMBER_ hours later we had got on _NUMBER_ rides, _NUMBER_ of which broke down, to stand in queues for hours and be shoved, jostled and treated like animals. This whole day has certainly changed my view on human behaviour some of which hardly separates humsans from apes. Monday in the    studio    was better but there was still a _NUMBER_ hour (no I   m not kidding) wait for    Ratatouille    and _NUMBER_ to _NUMBER_ minutes for most other rides. The food queues were smaller but the place was still heaving. On the upside we bypassed the hour long queue for    Big Thunder Mountain    and walked straight on thanks to our compensation ticket from the previous day. If you wish to subject your children to this I feel you should think again.\n",
            "100.0% We^re a family of _NUMBER_ adults and _NUMBER_ kids. We booked a _NUMBER_ parks _NUMBER_ days arrangement, which is astronomically expensive, compared to other parks like Europapark in Rust, Germany, or Efteling park in the Netherlands. It was not our first time in Disneyland Paris, we've been at least _NUMBER_ times before. But I must say that the last trip was for sure the last one for a long time. We felt ripped off in every way: at every attraction there were queues of _NUMBER_ minutes at least, up to _NUMBER_ minutes. In two days we were just able to make _NUMBER_ rides in total. Many of them had constantly technical issues, and were down, so we couln't even use our fastpass (happened twice to us, plus another time we waited nearly an hour at Big Thunder Mountain, then it closed due to technical issues, right before we could ride). Another fastpass ticket went bust because we spent _NUMBER_ minutes in a queue which was supposed to last  only  _NUMBER_ minutes. So if you like to spend your time standing in the cold, with some drizzling rain, with children who are very disappointed because they can't go on any ride, with completely overprized and overcrowded restaurants, then Disneyland is for you at Christmas time! To be fair, I have to say that the Xmas decorations were even more beautiful this year than the year before, but that didn't compensate our total frustration. We all actually regretted having gone there, and if we ever go again in an attraction park around Xmas, it will be either Europapark or Efteling, both less than half price of the Disney rip off.\n",
            "100.0% Really disappointed with our latest trip here. Last went in Feb and can see a difference in the upkeep and standard of the park. Shabby rides, algae growing on walls of dumbo ride, water by discovery land green and smelly, toilets dirty. Several rides broke down while we were in line including: ratatouille (twice), big thunder mountain and buzz lightyear. Extra magic hours a joke   lack of staff meant that normal day visitors could get in all areas from _NUMBER_ as no one to check once inside park. Many food outlets and restaurants closed despite the ones open being fully booked apart from half nine at night (too late for a toddler)   if they are fully booked then surely enough demand for another one to open? Long queues everywhere including for lunch (_NUMBER_ mins in colonel hathis with one till open), and _NUMBER_ min queue for breakfast in hotel. The christmas parade had _NUMBER_ floats and a shorter route than normal parade   less characters too. Complete lack of characters out and about in the park, only scheduled meet and greets with mickey and Minnie, goofy and Donald or a couple of princesses and these had queues of over an hour. None in the hotel. Christmas decorations at entrance and in Main Street impressive and then nothing on the rest if the park. Also, extremely irritating were the large families with one child with 'behavioural' problems which meant they couldn't wait in a queue so they got the whole family a pass which let them use the disabled line and go straight to the front of the rides. This is a scam being used over and over in the parks. The food at the blue lagoon restaurant and the steak house was good, as was the service in both. The disney dreams show was also good.Unfortunately, this isn't a proper disney experience, more a theme park with disney decorations.\n",
            "100.0% All in all, the park and studios are good fun if you and your kids don   t mind the constant walking and queuing. Positives: some really good rides and shows (when they   re not being cancelled), including the end of day illuminations. See below for my faves.Negatives: the drinking fountains aren   t shown on the app, most food choices from the various stalls a fast food style rubbish, you can   t get a decent coffee anywhere (McDonalds was the best    I can   t believe I just wrote that but it   s true); Magic Time (for Disney Hotel guests) is helpful but not all rides are available at that time. And, as you might expect, everything is massively overpriced. Feel that Disney Magic in your wallet!Really negatives: disgusting blocked toilets in more than one location; very poor experience with the Disney hotel (Cheyenne) which put a downer on the holiday.HINTS: the app, while being very far from perfect, is worthwhile having as the queue times are broadly correct (most of the time) and use the Fast Pass system to help skip past the worst of the queues.Best rides for adults and older kids: Tower of terror (scary!), hyperspace mountain, rock and roller coaster and big thunder mountain.Best riders for younger kids (_NUMBER_ ish in our cases, although we all enjoyed these): Ratatouille, Star Wars Tour, the Circus train thing at the top of the park, it   s a small world, Pirates of the CaribbeanBest shows: Mickey and the Magician, end of day illuminations, Moteurs Action and the Studio Tram tour. Pirates and Princesses parade was pretty good too, wasn   t impressed by the Pirate show.\n",
            "100.0% Our daughter is _NUMBER_ years old, and since we were spending a week in Paris, why not visit another of the magic kingdoms? Well, among all of the Disney parks we've visited (Hong Kong, Los Angeles, and Tokyo), Paris Disneyland is, BY FAR, the absolute worst one.Firstly, staff training is poor. The staff are the ones who must be enabled to create the  magic . The service level is nowhere near that found at Tokyo Disneyland, where the crew members work so hard to ensure you have a great experience. The staff at PD were rude to us or others on several occasions. At the Haunted Mansion, some kids were talking and the attendant walked right up to them, put her face about _NUMBER_ inches away from their faces and said,  It's RUDE to speak while I'm speaking.  What the hell? They're kids. Some rides are so understaffed that basic safety checks (like seat belt securely fastened, shoulder bar locked in place etc.) are not performed.Big Thunder Mountain broke down while we were there. Unbelievable and a sign that basic maintenance is poor.Secondly, there are designated smoking areas, but nobody enforces them. Adults (and some teenagers) were smoking throughout the park and extinguishing the butts anywhere they could. Even while waiting in line to buy tickets, or queue at entrances. What kind of family environment is that?The queues weren't all that bad the day we went, but the park standards are really poor. They need to take a lesson from Tokyo Disneyland on overall strategy and execution. We won't be back!\n",
            "100.0% We visited Paris Disney on the last day of our Paris trip. We had read that it was in disrepair and 'not up to Disney Standard.'. We've visited all of the Disney parks in the US. We're Canadian so this should be somewhat neutral. Obviously, we didn't go to Paris to go to Disney, it was a last minute, 'why not' visit.The Good: Not busy. Big Thunder Mountain Railroad was much better than the US version. The wrap up laser show at the castle was really cool. The Aerosmith ride was neat but short.The Bad: Everything Else.We didn't notice any surface wear on the park aside from a lot of litter and trash on and around the rides. What we did notice was closed rides and breakdowns with no notice. Indian Jones and Crush's Coaster we're both closed with no forewarning. The Armegedon effects show only runs on Thursday's... What? Tower of Terror broke down when we were on it, the motion on the platform was broken on the Studio Tour as well as many of the effects in the haunted house were not working (hitch hiking ghosts). Every second car in the Buzz Lightyear ride was out of order, covered with a blue tarp. We also noticed many restraint issues with people being either unable to get out of the harness or unable to get the restraint to secure them. As an aside, Space Mountain was so violent that it felt like we were in a car wreck after. Other people complained, two staff members rode alone and came back shrugging. The staff were uninterested and not in character. Photo pass didn't exist and we never saw a single Disney character in costume.Ultimately, the kids had fun (_NUMBER_ & _NUMBER_). This is most we've ever paid for Disney and the least value. If you get a discounted ticket, it would be a good day. If you pay full freight you will likely be disappointed.\n",
            "100.0% Just got back from a four day trip, we expected it to be busy being the school holidays but it was unbelievable the waits for most rides were more than _NUMBER_ minutes and when you eventually got to the front of the queue the ride broke down, this happened to us twice on big thunder mountain ! And the tram tour off for a whole morning.The food prices have soared since we were there a few years ago, so take your own food in as the queues for that are unbelievable.Very disappointing trip for us and our _NUMBER_ year old daughter as we did not manage to do all the rides even in the time we were there.\n",
            "100.0% It is true that we visited on a day that was a holiday so I guess that there was a lot of parisians too in the park, but it was crowded above words. Anywhere you wanted to go was at least _NUMBER_ hour to wait. Further more, we had bad luck so we stoped first at Big thunder mountain. After about _NUMBER_ minutes of waiting...it was closed, no explanation... Ok, we go at Pirates of Carraibean. We enter and when we were almost at the boats...it was something wrong, they told us that it is closed, to stay on place (the place was filled with adults and children, we were in a dark and hot moist place) for about _NUMBER_ minutes and after that they pulled a bridge and took us out, because the ride was, too, closed. So...after these _NUMBER_ rides closed in a few minutes I was already angry so we did not enjoyed it at all. We intended to stay at Peter pan but it was a waiting line of at least _NUMBER_ hour, we were already tired so my daughter did not want to wait any more, she wanted to eat....but, of course, it was a waiting line which takes your apetite away.... We entered at Nautilus...it doesn t even worth mentioning, nothing special there. The only ride without a line was Space mountain, where we did not have the courage to enter.Bottom line: if you are not staying in one of the Disneys hotels so you could enter the park _NUMBER_ hours early and if you are visiting in a period that is a national holiday...go at Disney only if you are calm enough and be prepared for crowds everywhere.And be sure your pockets are loaded, there are tentations, shops everywhere. More than rides....The design of the park was the only thing I liked...\n",
            "100.0% Visited the Disneyland resort over the May half term school holidays, five days and four nights. And overall, what a let down. The biggest issue is that there just isn't much to do. I know that's hard to believe for somewhere like Disneyland, but it's true. For the main Disneyland Park their map lists _NUMBER_ attractions. Of those, three were given as 'planned closures'   Space Mountain, Le Mysteres du Nautilus and Carrousel de Lancelot. Of course Space Mountain is one of the big attractions too. But then on top of that large swathes of the park are fenced off being 'renovated for your future enjoyment'. This includes Pirates Beach, Le Passage Enchante de Aladdin, Rustler Roundup Shooting Gallery and Videopolis, all closed off. Throw in the Chaparrel Theatre, which is unused and the Discoveryland Theatre which is just a dumping ground for a pile of arcade machines and that _NUMBER_ attractions is suddenly down to _NUMBER_. And of those four are stations on the same railroad and one is a barbers shop   so really there's about _NUMBER_ things to do. On top of that the Big Thunder Mountain ride was broken down on the two occasions we tried to ride it, and we never saw any of the horse drawn streetcars. There are a couple of shows in the park plus the daily parade and the end of day Disney Dreams show. Although the parade and dreams shows are fairly good, the other shows are nothing much. A couple of characters riding around, that's pretty much it. As for meeting characters, you can pretty much forget it. There was a meet Mickey Mouse in what presumably used to be a theatre   where the whole area people could have sat in is used for the queue. Expect an hour or more to wait for this one. A Disney princess (just the one, clearly the budget doesn't stretch to more than one) where you can queue up for the privilege of getting a time to come back later and queue again. Then a couple of others dotted round the park for at most a few hours a day (you can spend much longer queuing up to meet Rapunzel than the _NUMBER_ minutes she's out a day). Simply put, there's just not enough for the number of people in the park. As a result the one thing you can do lots of is queuing. A good hour or more per ride, even on some of the small children's carousels. Yes, there is a FastPass for some rides   four that were planned to be open, though one was then broken. So overall an expensive holiday and a major let down.\n",
            "==================================================\n",
            "Topic 1\n",
            "100.0% than Disneyland Paris. Compared with the Europa Park in Rust  Germany, it is much smaller and has much less adventure rides. We had a two day ticket, but one day is absolutely enough unless you want to spend the day by waiting up to one hour for a one minute ride. And that was in January. Fast lanes were existing, but some of them were closed. Even Mickey and his friends were not seen   might have been too cold for them.There are on every corner shops to buy these nice little fancy dresses, cups, costumes and other plastic trash, more shops than rides.The only good thing is that it is nearby Paris. My advice: If you want to see Mickey and his Friends, go to the next Disney store in your area instead of paying a hell lot of money for Disneyland Paris. In the Europa Park, you are getting much more for your money.\n",
            "100.0% To set things straight: this was our first Disney experience, and may have well been our last. At least in Europe... We were mitigating our expectations, which in case of people who grew up behind the Iron Curtain dreaming about places like this is not that easy, even many years later and with a happy kid of our own, now living in much better world. But despite being careful about that, we left with the sense of disappointment.True, the Park is impressive, terrain is appointed beautifully, some of the attractions are great, other average. True, Disney has a lot of capital from its movies and characters. But it is an opportunity lost. And it's not about dirty and smelly toilets, or lousy Ipad app or web page. It's about many little things that overshadow whatever  Disney experience  is was supposed to be. Queues were terrible. We did not manage to find an attraction with waiting time less than _NUMBER_ minutes, for a ride of _NUMBER_. We did eventually see Mickey at the parade at _NUMBER_ pm   and none of the characters throughout the day. Nor have we seen experienced any sort of help advice interest courtesy from the pretty much absent staff. We were informed, that number of restaurants close at _NUMBER_ pm   just when we planned to grab something to eat, which left us running around to find anything open. And once we found it, the queue to the toilet for kids was about _NUMBER_ minutes waiting time. And that's only after you wait another _NUMBER_ minutes for the table. And then because of the toilet queue you can't watch the parade because, as everywhere, there's just too many people to find a good spot   and the number of people is eventually the biggest issue throughout the visit. You just try to navigate through crowd while trying not to lose your kid instead of focusing on what is nice out there. And when you top it all up with the regular ticket prices   it then becomes quite ridiculous. We left in the evening, with the impression we were welcome to spend money big time, and not at all bother to ever come back. Disappointed by Disney. Disappointed by the American type service quality we expected in this place, we love, we miss and we found none of. Disappointed by way management doesn't seem to even try to make things right. And so we spent the next day in Le Bourget Air and Space Museum   different concept, different place, fraction of a price, at least double the fun for kids and their parents.\n",
            "100.0% Disneyland Paris was awful. I recommend never going. Lines for anything  Don't Miss  were over _NUMBER_ minutes and it wasn't a public or school holiday. Many, many things closed including a restaurant that didn't have a sign on it at all and we weren't the only people waiting for it to open at _NUMBER_:55am. Then had to queue for food and toilets. At _NUMBER_:_NUMBER_ the children's menu had run out at the Mexican place   it's a children's themepark!!. Our7 year old thought that the tacos that we did eventually get were delicious so that was a minor bonus. The buildings were tired and in need of paint. There was nothing magical about Disney at all! The final insult was just as we were leaving (after having been there for _NUMBER_ hours and been on _NUMBER_ rides   total ride time approx _NUMBER_ minutes and wait time hours   they announced a spectacle on Mainstreet that sounded a like a parade so kids got set up and ready to see at least something spectacular but it was just ONE horse drawn cart with a movie character in it. Kids _NUMBER_, _NUMBER_ and _NUMBER_ didn't enjoy Disneland at all   what a waste of a day!!!\n",
            "100.0% I have been in orlando dineyland and I dreamt about a european way of disney. Now I feel anger and frostration. I visited on monday and I cant imagine visiting weekend. Staff is extremely rude, not some almost every one except few that requesting money from you. Even to kids they are not polite. After _NUMBER_ minutes of trip from Paris, the park seems very interesting but %35percent of interesting decorations are shops %_NUMBER_ for selling junk food or fast food. You are deciding to go one attraction commute time _NUMBER_ minutes waiting time _NUMBER_ minutes, and experience _NUMBER_ _NUMBER_ minutes. Staff are really rude they are asking to walk my lap sleeping four years old through tournique. Rude gestures, inpolite words they dont know talking with the guest. Lack of hospitaliy. Disgusting WCs. Queuing foreverything. I spent thousands of euros to make this visit happened. I am extremely regretful to waste for total _NUMBER_ minutes of experience and contribute to those rude staffs salaries. I wil never ever go to paris disney park. I feel cheated.\n",
            "100.0% What's going on here in the 21st Century with superfast technology? My young grand daughter wants picture with one of the Disney Princesses at the Pavilion in Fantasyland   Simple? No. You turn up and are told you have to come back the following day before _NUMBER_ to get a ticket for a specific time, but what they don't tell you is you have to stand in a queue for almost two hours (in the pouring rain in our case) to end up having to utilise one of four touch screens (one was out of order) to choose one of two times that day. However, doesn't end there, when you turn up at your allotted time they keep you waiting another _NUMBER_ hour to have a few minutes to have a picture taken with a Disney Princess not of your choice. So in summary, _NUMBER_ hours of your precious time queuing for a _NUMBER_ minute photo shoot which they have a cheek of charging you _NUMBER_ euros for if you want to buy the picture. COME ON DISNEYLAND PARIS, COME INTO THE 21st CENTURY and stop treating your visitors like a herd of cattle!\n",
            "100.0% Will never go again, waste of time, waiting for hours and hours for nothing, too much expensive, does not worth it, dont spend your time and your money for waiting on the lines for days. No benefit on going disneyland.\n",
            "100.0% First of all: the park is absolute magic. The parades are perfect, the actors keep the illusion alive, everything is done to keep you dreaming.Bad thing: prepare to wait. For. Everything. Wait when entering the parking (_NUMBER_ minutes and _NUMBER_ euro extra to the almost _NUMBER_ euro person tickets). Wait for the security check (_NUMBER_ hour and _NUMBER_ minutes). Wait at least _NUMBER_ hour and _NUMBER_ minutes for something that lasts _NUMBER_ minutes? (Peter Pan). Other attractions may last a little longer but the wait is the same.Completely irritating: the fast pass. Jump the queue so you don't have to wait. No, everybody else in the queue will wait _NUMBER_ minutes longer, thank you!The park is due for a make over, you start to see a lot of wear and tear (paint, broken lights,...) And why put up non smoking signs when you don't care? Same thing with selfie sticks.See you in _NUMBER_ or so...A disappointed fan.\n",
            "100.0% Since our last visit some time ago, the whole emphasis is on making money rather than the enjoyment of the public.Generally, I found the staff rude and uninterested and there was a distinct lack of characters roaming the park since we last visited.Almost impossible to get on the rides unless you wish to wait for a very long time or get a 'fast pass'This is a bit of an oxymoron, as you still have a fairly lengthy wait time and on one day we were there, (the Friday after Halloween) they ran out of these early, so we ended up going on virtually no rides at all.The queues on Friday were absolutely ridiculous and in my opinion, they had massively oversold tickets for the park. This again, reinforces my opinion that all they are interested in is making money.The cost of food at the resort is extortionate and they are in the dark ages when it comes to dietary requirements or vegan offerings, which were non existent.I would have to think seriously about visiting again and could only recommend staying at the Disney Hotel,( where we had previously stayed) which gives you various privileges but costs a great deal more than the other hotels.In fact, you could have a family holiday in a four star hotel in Spain for two weeks compared with three days at this resort.\n",
            "100.0% Was really excited to experience my first Disneyland with wife and young child. Left the day feeling like I had not experienced Disney or its characters. Disneyland Paris is mainly merchandise shops and restaurants. For every ride, there are _NUMBER_ shops. Having paid about    _NUMBER_ to get _NUMBER_ adults _NUMBER_ child in on basic tickets, this really took the fun out of it.We barely did anything. We were limited to toddler friendly rides and the wait time all day was _NUMBER_ _NUMBER_ minutes on average. In _NUMBER_ hours we were able to do three rides, one maze, have lunch and snacks, see the parade, and briefly visit the studio area. There are no Disney characters or staff to be seen. Apart from the parade, in _NUMBER_ hours we saw one Mickey and were prevented from approaching him (VIP event) and one Aladdin running late to something. To see characters you have to queue for _NUMBER_ _NUMBER_ minutes. Although overcrowded, it felt lifeless as its just visitors walking aimlessly everywhere.I am sure the Disneyland concept works in the USA ( though I'm not from there). However France lacks the customer service, work ethic or attention to detail to pull this off.Disappointed, Disney Group.\n",
            "100.0% the problems i found with the whole eurodisney experience was that it didnt cater well for children   yes children!!! I went with my grandaughter for her first holiday abroad ashe is _NUMBER_ &_NUMBER_ _NUMBER_, her parents and jmy friend. We stayed at the Newport Bay Club which was lovely to look at. It was overcrowded and HOT   no airconditioning working made us feel hot and irratable. There was no small children activities like a play area but they do say that thre is in the hotel. When we asked where the area was they said just sit in the bar and gave us _NUMBER_ crayons.?? There was only one _NUMBER_ person passener lift to the dining area and around _NUMBER_ people in a queue waiting to use the lift. The food was very expensive nothing really below 20euros for anything near decent. The europeans are rude   very rude men especially. The staff or crew there were mostly rude and not customer focussed. We booked our stay as a family over _NUMBER_ months ago buton ceck in our rooms were floors apart. After creating a scene by them telling us they were fully booked they found _NUMBER_ rooms ajoining miraculousley out of thin air as we had booked. It would have saved time just to allocate them as requested on arrival.Everything was on a poorer scale to USA the parks were overcrowded and there was litlle shade or seating to cope with such crowds. Few people could understand english so were not able to assist properly. To wait for csomething to eat was a bind when they said the waiting time is up to _NUMBER_ hours which is appaling by any standards. We went later to the parks to keep out of the heat and also to hopefully find it quieter but by 7pm on Sunday it was closed. The park was winding down and all eateries were shut by 5pm.Disney village was tired in its appearance even Rainforest Cafe looked very tired and plastic just not what you would expect after paying high prices for poor servce and appearance. The Disney products are better in USA and in UK the shops stocked nothing new and looked old fashioned.I was greatly disappointed but i did keep comparing it to Florida. There was no comparison. The worst bit about it was that it is in France   where they are rude, obnoxious and French !!!!\n",
            "==================================================\n"
          ]
        }
      ]
    },
    {
      "cell_type": "markdown",
      "source": [
        "#### Paris — Positive"
      ],
      "metadata": {
        "id": "6hKZfq72_kaS"
      }
    },
    {
      "cell_type": "code",
      "source": [
        "paris_pos_vectorized = vectorizer(paris_pos,ng=(3,3))"
      ],
      "metadata": {
        "id": "zlDxjADf96Be"
      },
      "execution_count": null,
      "outputs": []
    },
    {
      "cell_type": "code",
      "source": [
        "nmf = NMF(n_components=2)"
      ],
      "metadata": {
        "id": "C1WcufTZGfBr"
      },
      "execution_count": null,
      "outputs": []
    },
    {
      "cell_type": "code",
      "source": [
        "W_paris_pos = nmf.fit_transform(paris_pos_vectorized)\n",
        "H_paris_pos = nmf.components_"
      ],
      "metadata": {
        "colab": {
          "base_uri": "https://localhost:8080/"
        },
        "id": "NfNtBDQvGg58",
        "outputId": "d87acc35-a113-43d8-f1ed-08f05580108c"
      },
      "execution_count": null,
      "outputs": [
        {
          "output_type": "stream",
          "name": "stderr",
          "text": [
            "/usr/local/lib/python3.7/dist-packages/sklearn/decomposition/_nmf.py:294: FutureWarning: The 'init' value, when 'init=None' and n_components is less than n_samples and n_features, will be changed from 'nndsvd' to 'nndsvda' in 1.1 (renaming of 0.26).\n",
            "  FutureWarning,\n"
          ]
        }
      ]
    },
    {
      "cell_type": "code",
      "source": [
        "get_top_tf_idf_tokens_for_topic(H_paris_pos, paris_pos_vectorized.columns.tolist(), 5)"
      ],
      "metadata": {
        "colab": {
          "base_uri": "https://localhost:8080/"
        },
        "id": "dy2jWiszGjij",
        "outputId": "99aa4850-bf96-467b-a200-b52d94556876"
      },
      "execution_count": null,
      "outputs": [
        {
          "output_type": "stream",
          "name": "stdout",
          "text": [
            "TOPIC 0\n",
            "\n",
            "\bbig thunder mountain (89.0%)\n",
            "\n",
            "\bsleeping beauty castle (4.5%)\n",
            "\n",
            "\bextra magic time (2.4%)\n",
            "\n",
            "\bbuzz light time (2.0%)\n",
            "\n",
            "\bpeter pan ride (1.6%)\n",
            "\n",
            "==================================================\n",
            "TOPIC 1\n",
            "\n",
            "\buse fast pass (77.6%)\n",
            "\n",
            "\bextra magic time (14.6%)\n",
            "\n",
            "\bbuzz light time (3.7%)\n",
            "\n",
            "\bfamily good time (3.1%)\n",
            "\n",
            "\bsleeping beauty castle (1.0%)\n",
            "\n",
            "==================================================\n"
          ]
        }
      ]
    },
    {
      "cell_type": "code",
      "source": [
        "get_top_documents_for_each_topic(W_paris_pos, paris2_pos.Review_Text.tolist(), num_docs=10)"
      ],
      "metadata": {
        "colab": {
          "base_uri": "https://localhost:8080/"
        },
        "id": "eYhmj39qGlTR",
        "outputId": "56a9132c-cc82-4888-d00c-2afb1b42a890"
      },
      "execution_count": null,
      "outputs": [
        {
          "output_type": "stream",
          "name": "stdout",
          "text": [
            "Topic 0\n",
            "100.0% Our 3rd trip to DLP was very good, much improved since our last trip _NUMBER_ years ago. Staff seem more 'on board' and more into the Disney spirit. Some rides closed but waiting time in most rides less than anticipated, especially Big Thunder Mountain (get in the left hand lane if the queue, much quicker). Parade was very good as always. Plenty of opportunities to meet characters around the park too.Coffee and cookies from the kiosks in Main Street were lovely.\n",
            "100.0% Visited Disneyland in mid Oct with family (Hubs and _NUMBER_ year old). We are big fans and having completed the parks in Asia we decided to try the European Park. We had big hopes for it despite reading many negative reviews. Here are my views:CrowdsIf you thought asia had mad crowds, Disneyland Paris is perhaps twice as bad. We went in fall hoping that the summer crowds would have died dowm, this was obviously not the case. Every ride had an average of _NUMBER_ minutes wait. Guests of the hotels (there are _NUMBER_ on site) can enter earlier (_NUMBER_ am) but take note that only Fantasy Land is open   therefore ride selection is limited till park opens at _NUMBER_ officially. There are queues for everything and it can get overwhelming   queue for food   queue for fast pass   queue for character greetings. Queue to watch the parade. I would like to say that bad behaviour is everywhere and if you encounter it , please stand your ground and be firm. Crowd at park does not thin out as the day goes by, the crowd is perpetual and steady.CostsEurope is an expensive continent, Euro Disney is no exception. Bottled water costs an average of _NUMBER_ Euro for a _NUMBER_ ml bottle while a hotdog is _NUMBER_ Euro. A packet of crisp (Lays) is _NUMBER_ Euro! The quality of the food is nothing to shout about and definately does not justify the price point. Please do your sums and budget accordingly. Restaurants in the park require some sort of reservation in advance so its a good idea to get familiar with the euro disney app and also their website on their reservation system. Otherwise, the concierge at the on site hotels can help   but be forewarned its touch and go for the service. Souvenirs are one and the same at most parks and priced in Euro so again, budget accordingly. RidesThe rides are old. Hyperspace mountain was updated last year with the star wars theme. It is awesome , it has _NUMBER_ loops! Despite the rides being old, the park is beautiful with a capital B   ignore the crowds and costs. The attention to detail is AMAZING , it is really the prettiest park I have been to so far. This is the magic of Disney. Big thunder mountain at Adventure land was great and is _NUMBER_ times better than the Japan one. Fast passes are physical passes which require you to queue for them, expect long lines. We enjoyed the nostalgia rides the most   dumbo, astro blasters, autopia , orbitron , Peter Pan   these in my opinion are not to be missed. Parade is at _NUMBER_ pm but the parade was a disappointment as it was short compared with the other parks we have visited. Perhaps it would be a good time for hitting the rides as shorter queues would be expected. Would I visit again ? Perhaps , maybe in _NUMBER_ years.\n",
            "100.0% Here are a few tips that I put together for the park. I've amended them since our last visit to the park.We have been once before in May and then this weekend in February and were surprised that the park was so much busier in February than May and it wasn   t a French holiday. I suspect it is difficult to predict when it is going to be busy as there may be many factors. The weather doesn't appear to make much difference as it was truly shocking for this very busy weekend!Tip for some rides     if your children are young and happy to dress up then the whole family can use Thunder Mountain via the Fastpass line as many times as they want if they are dressed as cowboys (or Jess from Toy Story). The same applies if you dress as Buzz for the Buzz Lightyear ride. Both of these had big queues during the day. The    Baby Switch    system works really well and seems under utilised. You don   t have to have a baby but a child that doesn   t want to go on a ride. As you go through the gates ask the attendant for a baby switch voucher and they give you a piece of paper that allows your partner to then jump to the front of the queue with up to _NUMBER_ children (depending on the ride e.g. Thunder Mountain allows _NUMBER_ in a row so you can take three children but Crushers Coaster will only allow _NUMBER_ with you). This is done well and you don   t feel awkward. There is no time limit on these so every ride we got one of these and then used them during the day if there were any queues or if the fast pass system didn   t apply to a ride. I think it would even be possible to do without a child but I   m not advocating this!!! FASTPASS RIDES     on busy days these run out quickly and they close the fast pass machines down around lunchtime. They also don   t open them at all on some rides e.g. Indiana Jones     we asked them about this and they said that it depends on the foot count through the front door. If it s busy at all then they don   t run it at all on this ride! There also appears to be frequent, and possibly  strategic  closure of the fast pass machines for  technical faults . This never happened before during a quieter weekend.Its important to realise that anyone can use the fastpass machines but not many use it. I couldn't work this out. You slide your ticket down the machine with the magnetic strip facing to the left.Indiana Jones, Temple of Peril  Adventureland height _NUMBER_.4m   Space Mountain Mission _NUMBER_  Discoveryland _NUMBER_.32m   Buzz lightyear Laser blast  Discoveryland    Star tours  Discoveryland _NUMBER_.02m   Big thunder mountain  Frontierland _NUMBER_.02m   Peter Pans flight  Fantasyland   Rock and Roll Coaster  Studios Backlot _NUMBER_.2m   The twilight zone Tower terror  Studios Production Courtyard _NUMBER_.02m   Flying carpets over Agrobah  Studios Toon studio   Popular rides with no fast pass:   Crush Coaster Studios _NUMBER_.07m     the only way to do this ride is to get in first thing in the morning. The Studios doors open at _NUMBER_:30am     head straight to this ride and it will be the shortest queue of the whole day. We never saw the wait time on this ride to be less than _NUMBER_ minutes.   RC Racer Studios _NUMBER_.2m   Autopia Discovery land _NUMBER_ self drive   It   s a small world  Fantasy land (long queue but moves quickly)   Pirates of caribean  Adventure land (long queue but moves quickly, beware younger children  get wet and drop)   Other helpful hints   Always very long queue to see Rapunzel near it   s a small world go early   Captain EO  waste of time   Can get a new fastpass after _NUMBER_ hours from previous one issued   Magic hours _NUMBER_ 10am:Space Mountain Discovery land   Buzz lightyear Discovery land   Peter Pan Fantasy land   Dumbo Fantasy land   Madhatter tea cups Fantasy land   Le Carrousel Fantasy landCharacter Hunting     my kids loved getting autographs and photos. When it is busy you need to plan this well and find out on the information sheets where they are going to be. A fantastic place to get some unusual characters at the weekend is out side the Lilo and Stitch show at _NUMBER_:_NUMBER_ am and outside the main studio block. Here we found Lilo, Stitch, Ratatouille characters, Buzz characters, Cruella de Ville, princesses etc etc. The next best place is at the end of the procession that happens several times a day. The train stops outside the castle and then all of the characters go to fixed place each day. We worked out where Donald and Daisey went and got photos with both of them within a few minutes.\n",
            "100.0% The disney park is magical, and will bring out your inner kid! The theming can't be faulted, every little detail has been thought of.There are a range of rides and shows to suit everyone's taste.Make use of fastpass to shorten waiting times, especially for Big Thunder Mountain!\n",
            "100.0% 2nd time to DLP. Wife and 5yr old in tow.Firstly, if you plan wisely and have a FASTPASS you will queue for 15min max.We spent 29th 2nd this week there and stayed at Cheyenne. As you get Magic Time _NUMBER_.30am _NUMBER_.30am, you need to go straight to Peter Pan (Don't use FASTPASS), visit Pirates of the Carribean (no FASTPASS) then go to Big Thunder Mountain and use FASTPASS at 10am (when FASTPASS opens) and secure a time for a few hours time. Go over to Star Wars Tours for 15min wait (no FASTPASS).Once you have done Big Thunder, your FASTPASS will be valid again, go to Ratatouille and get your FASTPASS for the evening.Don't bother trying to get on rides between 11am 7pm, we went back to the hotel or shopped and had dinner between those times. 7pm 9pm is the BEST time with a max of 15min per ride to wait.Make sure you get a spot for the fireworks by 9pm otherwise you won't see anything!!!\n",
            "100.0% Amazing! Went here and stayed at the Newport Bay for _NUMBER_ nights _NUMBER_ days. I have been to Disney in Florida, and me and my girlfriend wanted a short break away and she has never been to a Disney park before so we chose Paris as she gets brilliant discount with being a travel agent. From the day we arrived we never stopped laughing and smiling. You don't need to go on the rides, see shows to enjoy yourself. Simply just being in the environment makes you happy! Saying this, we did do as much as we could in the time we were here. The Magic hours were a massive bonus as before everyone else was allowed in the park we had got photos with Micky, Minnie, Donald, Pluto, Goofy and started queuing at the princess pavilion! Also, squeezed in Buzz laser blast. My fianc  e isn't the biggest roller coaster fan but not only did she enjoy 'Big Thunder mountain' she made us go back on it the day we headed home. The DisneyDreams show was simply amazing, bringing back old classics to life such as the lion king! Don't miss the parade, you won't be disappointed. Seeing all your favourites at once is awesome.We ate at Walts   An American restaurant on our one full day there and I can say it was beautiful. The service was brilliant and the view looking onto the street was just as good.P.s. Make sure you get to princess pavilion before _NUMBER_ as ques start from _NUMBER_.\n",
            "100.0% We stated our day with breakfast and then went to have some pictures with some characters who were outside they restaurant, We met pluto and then rabbit came out do we queued up again and then just as it was our turn, eeyore came out aswell    we then made our way into the park but as we was walking through the hotel we bumped into mickey so got another photo. We decided to go to WDS first and went to crush coaster but it was having some technical difficulties so ran over to rock and roller coaster (one of our favorite rides) and decided to come back to crush coaster later. We went back to find a big queue so made our way back to disneyland. We walked down main street and decided on Buzz. I love this ride, probably my favorite ride in the park as i keep trying to beat my previous score. We then went over to caseys corner for the winnie the pooh meet and greet and then to the AP office to get my annual pass, BIG QUEUE. When we came out made our was to fantasy land and on the way saw tigger so ran after him and got our picture quite quick. I have noticed that a lot of parents try and push thier kids for photos which doesnt work as they characters seem to pick the ones that arnt pushing, so just stand there patiently and you are probably more likely to be picked. Now this was the highlight of the trip, we was just walking to toad hall to get some lunch, when we saw green, me and me sister looked at each other and just ran, It was peter pan, we have always wanted to meet peter pan. Well anyway we were lucky enough to get a picture with him and he was amazing, one of the best face characters i have met. He spent time with us and asked us questions and was so great with the kids. So good that my sister started crying after. After this we danced our way to toad hall and got a double fish and chips to share, ( same amount as _NUMBER_ seperate portions but for only _NUMBER_ euro more than a single portion, probably the best value place) it was lovely, no room inside so sat outside, was a bit cold but the fish was cooked perfectly in herby batter. Oh i forgot to mention inbetween tigger and peter pan we went to the princess pavallion to meet a princess, you queue up but dont know which princess you are going to meet. We met Rapunzel who is our favorite princess. We then did peter pans flight and its a small world. We walked through to adventure land and as pirates was closed we looked around the caves and adventure isle, we skipped indian jones as its not one or our faves and carried on to big thunder mountain, where i got some abuse from a lady because she thought i was pushing in not knowing what i had done wrong i said sorry to the cast member and went to walk back but the cast member said where are you going you havent done anything wrong and told me me to stay where i was, to then see the woman pushing through people to come and stand behind me?!After this we had a stopoff and had a snack of some biscuits i had bought with me and then carried on to phantom manor. It was my first time going on it so wasnt sure what to expect but it is fine, not too scary and i wouldnt worry about taking small children on it. The parade was starting soon so decided to sit near the top of main street so we could run out at the end over to WDS so we could go on crush coaster. The parade was magical, i could seriously just go to disney and not do any rides, id be just happy walking around and watching the shows. When it finished we ran over to WDS and crush coaster and after a short wait got on the ride. Again a must, one of the best. It was now about _NUMBER_ so went to meet our mum and got the shuttle to newport bay to have a meal at cape cod, on first look we wasn't to impressed but then when we stared eating it was quite a good buffet and left thinking its the best we have been to so far (plaza gardens, agrabah cafe, la cantina and the one in david crockets, cant remember the name)It was now time to make our way to the station for the journey backso untill next time, C'est dans la boite!\n",
            "100.0% I always enjoy going to Disney. I always feel like I'm _NUMBER_ years old again! The rides are amazing: Space Mountain, Big Thunder Mountain, Indiana Jones are my favourites (with the Tower of Terror and Rock'n'roallercoaster, both in the other park). However, it is a costly trip and bring some food, at least for lunch, as the food is overpriced. Also arm yourself with fastpast tickets if you want to avoid the long queues (especially at BTM). and beware, loads of people!\n",
            "100.0% I recently visited Disneyland for two days in the UK October half term with my kids aged _NUMBER_ & _NUMBER_ and we had the best time. We loved it so much my kids have just been raving about it since our return.This review will also include tips to help save money   time and get the most out of your experience which I hope might be helpful. We went via coach on a _NUMBER_ night B&B stay at the Santa Fe Disney hotel which included hopper park tickets for two days. For _NUMBER_ adult & _NUMBER_ children this came to   _NUMBER_ for travel, hotel & Disney tickets for all _NUMBER_ of us which I felt was fantastic value for money and made the grueling coach journey worth it. I mention this as going on the coach allowed us to pack lots of our own drinks and snacks which helped save a fortune. We also then had room for everything we bought there. Drinks were _NUMBER_ euro's plus, a Burger meal with chips and drink in the park was _NUMBER_ euro's. If you've got space pack as much as you can. Disney village has both Mc Donalds and Five guys for quick, fast food a it cheaper..If you are staying in a Disney hotel I would advise making the most of the earlier opening time. Get up early and be first in the park. It made a massive difference and reduced our time queuing and made it possible to get on a lot more rides. Be warned it does get very busy but with careful planning it is possible to get the big rides, even more than once. We did crushes coaster twice, Areosmith twice and Terror tower twice both during day and at night for an even more spooky feel all in one day. We also crammed in much, much more like the stunt show, and time across in the other park on the starwars themed rides and lightshow.To ride the bigger coasters you'll need to 120cm, this includes Areosmith, Terror tower, Starwars hyper space as well as many other. This meant my _NUMBER_ year old could go on everything except the Indiana Jones ride. He had an absolute blast riding the biggest roller coasters of his life. Every time he got off a ride he was smiling for ear to ear and was excited spurting out everything he'd enjoyed.  Our first day began in Disney Studio's with us flying straight over to crush's coaster along with everyone else but we didn't have to queue more than _NUMBER_ minutes, queue time are usually between _NUMBER_ and _NUMBER_ minites for this ride. What a way to start our Disney adventure. This ride is incredible deceptive. With its colourful sea theme and low height restriction I thought it was just a kids ride but boy was I wrong, it is a proper thrill ride in the dark, with lots and fast twists and turns, it is amazing fun. Its worth planning to ride at either the beginning of the day or jumping into the queue just before the park closes. The queue shuts at the stated time, but the park doesn't shut properly until everyone already in the queue goes on the ride.After riding crush we flew straight round to the Areosmith ride which was our favourite ride from the whole park. The speed of this ride is so intense and with the music, lights and darkness this is a winner in my book. My kids it enjoyed it so much they ran straight back to ride it again. The terror tower was the next thing we rode, it is a eerier, but not too scary theme. The actual drop itself however is super thrilling. You get an awesome view of the park before been dropped down _NUMBER_ floors. I was surprised how much fun this one was. You can also get fast passes to ride this. You simply pop your park tickets into the fast pass machine and it states a half and slot were you can come back and jump straight on the ride. This is great and you can have one fast pass ever _NUMBER_ hours so plan carefully.A must see in my opinion in the studio's park is the stunt show. I felt it was a great opportunity to rest our weary legs and it was. This spectacular stunt show is _NUMBER_ minutes long and a awesome show for both young and old. Its great live action stunt which are incredible impressive.At this point we popped over to the Disneyland Park. We headed to Discovery land grabbed our Fastpasses for Starwars Hyper space mountain to ride later and joined the queue to meet Darth Vader. Meeting Darth Vader was a highlight of the trip. He doesn't sign autograph books but the does chat to the kids and have photographs. He looks like the real deal, he spoke with the kids about the force. He is actually really menacing and I found myself throwing my kids at him and heading to back wall of room to take some photo's sheepish trying to avoid eye contact and interacting with him as i'm such a whimp. My kids loved meeting him but were quite intimated by him. Starwars fan's will love the themed rides in Discoveryland, Hyperspace mountain was excellent and the Startour ride was great too. Lovely merchandise in the shops too, you can build your own droid and add additional parts like Micky ears, or a Yoda cap. You can also build your own lightsabre. We then went to adventureland and walked around the alice in wonderland maze for a while but it was heaving along with the rest of the park so we popped out into Disney Village at this point to grab an early tea. Planet Hollywood offers a kids meal for   _NUMBER_ Euro's which seemed one of the better value places to eat as included main course, ice cream, drink, and cup to take away and keep. My two loved looking at all the props scattered around. We then nipped back to the hotel on the free bus to drop our shopping and recharge before heading back out to try a get on more rides once it got closer to the park closing time. We managed to get onto the terror tower as the queue was only _NUMBER_ minutes long then flew to join the crush's coaster ride at _NUMBER_ as the wait was only _NUMBER_ minutes, the queue close at the park closing time but if you are in the queue you can wait in line and ride the ride before leaving the park.We then nipped across to Disneyland park which closes later at _NUMBER_ for the breath taking light and firework show. The lightshow is projected on the Disney castle and is a must see. There's music, fireworks, animation the fountains. It is stunning, we all loved it. It was a mad rush afterwards with everything scrambling to leave.Day two a Saturday we first again went to the studio's park, nipped on the Crush's coaster and the kids favourite ride areosmith only this time they had front seats. We then went on RC racer another big thrill ride, a bit like a pirate ship but speeded up, lots of screams coming from me during this ride.Then toy soldiers parachute drop is fun and you'll get great views of the park. We then went to swap parks to Disneyland. We didn't get on the Ratatouille ride and am a bit sad we missed it but its a good excuse to go back for another trip. So many people said how good it was. We then managed to lose a ticket in between parks, staff were so helpful and showed us to guest services to sort it, with some ID they were able to find my booking and issue a replacement ticket.We headed to Frontier land which was all Halloween themed with Pumpkins everywhere and day of the dead theme. It was all done really good. We grabbed fastpasses for big thunder mountain and explored the area. Plenty of photo here and we wanted to start filling our autographs books so queued to meet many of the characters. Minnie mouse also skipped out at one point and handed my son some sweets. There were also mini parades. It was all excellent fun. I'm going wrap up this review as it getting a bit long with a couple more tips.The all you can eat buffet at the santa fe hotel is one the cheapest options for a evening meal.Primark in the UK sell lots of Disney goods now so perhaps get your t shirts and pj's from there before you go.Disney pin badges can be traded with staff its worth checking out ebay before you leave as people sell there old one's off cheaply and you can trade for characters you like when you get there . Pack comfy shoe's we walked around _NUMBER_ miles in a day.Download the Disneyland app. It is so useful you can use the map to find the current queue times for rides, what time all the shows are on, where to eat and drink. Plan your trip before you go to make sure you see all the stuff you want.I'll wrap this review up with a massive well done to Disney, we had such a fantastic and memorable time. Thank you\n",
            "100.0% I recommend going in off peak season unless you just love to stand in lines. We had a park hopper _NUMBER_ day pass. Another time I'd skip the extra expense of the hopper and just stay in one park for the entire day. There are rides that are the same as Disney in the USA but also ones that are just in the Paris parks. We concentrated our line time in the rides we'd never ridden before and then went to our favorites. Big Thunder Mountain is marvelous and a longer ride than in the USA parks. The new Crush coaster is fun but beware if you don't like laser images rushing at you. I had to shut my eyes during most of the ride as those kind of images make me ill, but I was still able to totally enjoy the coaster itself. The Indiana Jones coaster was disappointing. It was kind of jerky, the upside loop was too tight and the ride itself is very short. Tower of Terror is the same and is still counted as one of my favorites.\n",
            "==================================================\n",
            "Topic 1\n",
            "100.0% Visited on a Monday in June   did everything we wanted between _NUMBER_:_NUMBER_ _NUMBER_:_NUMBER_. Queues less than half an hour for most rides. We had fast passes although only needed to use them twice. The fast pass system is very fair and prevents people from jumping on ride after ride while everyone else waits, you scan your ticket and it gives you a mini ticket of what time you're allowed to use this fast pass, until that time has elapsed you cannot get access to another fast pass so will have to queue for whatever you go on in the meantime. It's still worth it as cutting two _NUMBER_ hour queues for popular rides meant we could fit so much more in.Staff extremely polite and multilingual. Food was typical fast food and pricey but plenty of seating if you eat after _NUMBER_. Attention to detail throughout Disney is what makes this place absolute magic. Marked down as it's really a shame the phantom manor and pirates of the Caribbean were both closed as they're pretty big rides, understand the need to refurb, but would be nice if they didn't refurb so many things as once. Hyperspace mountain was open. \n",
            "100.0% My Fianc   and I had a great time at Disney, I had been before but it was my Fianc  's first time at Disneyland Paris. The park was PACKED but we managed to go on nearly all the rides by using the free fast pass system and downloading the wait time app. We stayed in a hotel in Gare Du Nord and travelled in for the day. This was an easy and convenient way to get to Disneyland without paying Disney hotel prices! Although the park was busy we were able to do many rides by planning which rides we would do in advance, this is easy for older guests (we are _NUMBER_ and _NUMBER_) but couples with small children may find this difficult. As a good tip I would use fast pass as this enables you to go back to a ride and skip the queue at a set time although you can only have one fast pass ticket at a time so make sure you don't get a late slot as you won't be able to get a sooner one even in a different park. You can get into the Studios early (before 10am) and queue up for the rides   this also helps with the length of the queue. Guests who are not staying in the parks can only get into the main Disneyland Park after magic hours (a privilege for only Disney Hotel Guests). If you do arrive early and can't get in I would advise going to the Disney village and having a look at the shops, although some don't open till 9am. The McDonald's in the Disney Village was very quiet and offered free and fast WIFI.This is a great park and offers a range of shops, it also has a good range of Disney trading pins in many locations.Well worth a visit but buy your ticket before you go to save both money and time lining up in the morning.\n",
            "100.0% Park has a great feel to it that never fails to make my family feel we are entering a magical kingdom. We made good use of fast pass and wore sensible shoes to queue. The Tarzan show was fun and the parades great. However, nothing can beat Disney New dreams, a show displayed on the Princess Castle with lazers, water fountains, fireworks etc...Best Disney display we have ever seen and even beats the American Disney which we have gone to twice. Get near to the castle though to see it for the full affect.Take your own food or book into the Plaza Gardens that offers an all you can eat buffet and soft drinks. Great selection of food at 27E for adults and 14E for kids. Is quite expensive but is the best option in the park as caters for all palettes and children, Book prior to going though as gets really busy.\n",
            "100.0% It's Disney so it's well done. Pretty much based on the Florida blue print although on a smaller scale. In our opinion the Disney Land park is by far the better of the two...the Disney Studios didn't seem very big. Security is good   they xray all your bags etc going in. Toilets are not as fresh as one might hope so be warned   it's France not the USA. The rides are fairly tame as it's for the kids even the Phanton Manor so little kids should be good for a giggle. Food is so expensive your eyes will bleed but what ya gonna do   starve? The quality of the food on site, in our limited experience, was worrying; mainly fast food and not good at that. If you wish to eat in one of the restaurants then best book early at the City Hall on Main street where you can view menus and book a time slot. It's very very very busy. Expect to queue. If you want to ride the train that goes round the site i'd recommend boarding at one of the lesser stations and not the main one at the front of the site as we did   we queued for well over an hour which we didn't (all) really mind but some of the kids around us were resorting to throwing tantrums much to their parents' embarrassement...our friend nearly threw one too as she's a grown up! Do stay for the evening light parade which is as near to real magic as you're likely to ever see   utterly wonderful! It started at about _NUMBER_.15pm though and people were getting their spots on the pavements from about _NUMBER_ so take your sandwiches and dig in for a long haul. If you leave it until after _NUMBER_ you won't be able to see just so well as the pavements are eaily five deep and little kids need to be up on shoulders to get a decent view. If you do get a prime spot on the kerb keep you feet off the road for goodness sake or the staff will tell you to move and you could end up losing your hallowed ground.Maybe worth considering not going in height of summer as it is very hot and there's not a lot of shelter or seats for older folks or moany children. You can hire buggies which take even big kids   we saw a knackered dad in his thirties sitting in one after evicting his toddler so that might be worth considering!Save your pennies if you decide to go; pack real food in a lunch box; drink lots in the heat and use the fast pass facility to save some of the queues....and good luck trying to resist the repetitive strains of  It's a small world  running through your head for the next fortnight!\n",
            "100.0% get there early and bring a packed lunch  food is not great but the park is brilliant. Make sure to stay for the illuminations at the end of the day. Use the fast pass option (no extra charge) and then you can go on another ride while waiting for it. \n",
            "100.0% Great place, busy but plenty of rides to choose from. Use fast pass wisely! Buzz Lightyear & Thunder Mountain are the best rides!\n",
            "100.0% We have just returned from Disneyland Paris, after _NUMBER_ fun, but tiring days. My _NUMBER_, _NUMBER_ and _NUMBER_ year olds are exhausted. I, personally was pleasantly surprised by both parks, especially Disney Studios, which I did not like in Florida, but here we really enjoyed. Security at the park can be a little bit intimidating and does slow down getting in. The station area just outside the park is not particularly pleasant and the there are a lot of street traders that pour in once the security with guns leave. However, once in the parks you forget all of this. Toy Land in Disney Studios was great fun and we could all share in the love of the Toy Story themed rides. The ride times here averaged between _NUMBER_ 40mins. Except for Crusher, where the queue never went below _NUMBER_ _NUMBER_ mins. Ratatouille was a fantastic family ride, but the queue was _NUMBER_ mins long. Sadly, we left it to late in the day to use our fast pass for this ride, but I highly recommend you do this in the morning. Generally all the rides were in both parks could be done by all children over 102cm. But, note my _NUMBER_ year old was terrified by the Snow White ride and my _NUMBER_ year old who was well above the rider height of 102cm absolutely hated the Terror Towers ride. So 102cm does not necessarily mean it's appropriate for your child.Magic Kingdom was great and the kids really enjoyed the ambience of Main Street. The parades were fab, but the crowd control was shocking! I couldn't believe the inconsiderate behaviour of some people. My advice would be to stand away from the crowd at a distance and you can still see everything. Half way through Day _NUMBER_ my _NUMBER_ year olds little legs were flagging, so hired a buggy. I begrudged this at first as we were already _NUMBER_ 3rds of the way through the day and they still demanded    _NUMBER_! I felt this should have been reduced as it was past 6pm. Each day thereafter cost    _NUMBER_ and    _NUMBER_ deposit. Again my advice take a cheap buggy from the UK. Lastly, be warned it is EXPENSIVE!!!!!    _NUMBER_ 'each' for a meal which consisted of a hamburger, chips and a drink. Most lunch times cost us around    _NUMBER_ and dinner    _NUMBER_ a day. On average we ended up spending    _NUMBER_ a day, if you included    _NUMBER_ a drink ice cream from around the park. This was before you even hit the Disney Stores,    _NUMBER_ a teddy was about the average. It was great fun, but be prepared to accept dreams can come true, if you take a Visa card. \n",
            "100.0% Disneyland Paris is a great place to go. It's expensive for what it is and seems to be a lot more packed now than when I first went _NUMBER_ years ago, i.e. queues are longer.Disneyland is a great experience   in addition to the rides, there is an atmosphere with the addition of the parades, outdoor and indoor shows and character meet and greets. So, much better than just something like Alton Towers where its primarily just rides once you get in.There is a fast pass scheme where every ticket is a fast pass. You can only use it once per _NUMBER_ hours and you get a time slot for your chosen ride. In reality, you'll at most be able to use it twice as after that there are no more fast pass slots (not to be confused with hotel fast passes and VIP fast passes which give additional non time restricted fast passes).Tip: Ratatouille: The Adventure is a good ride to use the fast pass on. It's a ride only available in Disneyland Paris (i.e. not available in other Disneylands), is a good ride, has long queues (more than _NUMBER_ minutes), and if you do get on more than once, go in a different rat each time as each of the _NUMBER_ rats has a slightly different experience.Tip _NUMBER_: Also, if you have a daughter that wants to meet the Princesses, rather than queuing up to see her (each princess can see one customer every _NUMBER_ minutes, so _NUMBER_ per hour. There might be _NUMBER_ behind the scenes, but that means a long wait), consider doing the Princesses lunch meet and greet   its expensive, but so is waiting half a day in a queue to meet one princess.Disneyland is expensive and if you're in a Disneyland Hotel, there are few options to reduce cost. As its near the Disneyland Paris train station, you can go into the shop in the train station to get items (e.g. crisps) which you won't find elsewhere within Disneyland and also some items (e.g. large bottled water) cheaper than buying small bottles within Disneyland or its hotels.Alternatively, you can take the RER A train by one stop to Val d'Europe where there are supermarkets. The trade off here is that you've paid for time within Disneyland and you're sacrificing that to get cheaper foodstuffs.Queues are very long almost all year round in Disneyland Paris. One of the biggest problems is that offpeak, especially in the colder weather, most of the refreshment booths are closed. This means that only the main restaurants are available for getting a drink. Furthermore, out of those that are open, its takes much more time to make a hot drink than selling a cold drink as the person has to wait for the machine to make the drink, resulting in long queues just to get refreshments. This is very poor   queuing for refreshments.The highlights are the Disney parades, outdoor stage shows and evening fireworks and light display. (They used to do the Electrical Parade in the evening   if that's on when you're going, it's a great experience too!).Final tips: Don't go on weekends (it's like Alton Towers or Legoland in the U.K. and is absolutely packed). Check you're not there when its a French Bank Holiday. Check whether the French companies are striking   they are striking about _NUMBER_ times in _NUMBER_ day intervals in _NUMBER_.Overall a good, memorable and expensive and experience.\n",
            "100.0% Firstly, we found it much cheaper to buy tickets online from the UK Disneyland Paris website. Buy them at least a day in advance   half the price than the walk up fare. We visited on Monday 17th October. We travelled on the RER.You enter on Main Street USA and it looks like mini America. The street leads directly to the castle   it was actually a little smaller than I expected but looks good. There are speakers along the roads that play music or silly voices (we were there in the run up to Halloween) so it created some atmosphere.I was expecting to see characters walking around all the time and Disney employees that were OTT with their customer service trying to make you feel you're someplace magical. It wasn't really like that and at times you could have been at any theme park fun fair, the Disney brand isn't published everywhere. There were loads of shops but the shopfronts just look like American buildings so the commercial side, even though it's certainly there, is not in your face too much.. We were forced through one shop as it was the exit to a ride but this wasn't the norm.We walked to Fantasyland as the first parade was starting shortly (_NUMBER_.20am). The queue for 'it's a small world' was short so we quickly went on this ride, not knowing what to expect at all. You travel on a boat through a huge building filled with scenery and little models of people representing all corners of the world. It was rather cheesy and sickly sweet, and it was how I was expecting Disneyland to be (it's not, though). One strange thing   considering the scenery was so perfectly done, the ceiling was roof tiles that made you feel you were in a warehouse. Not sure why they didn't do a night sky effect up there.We then watched the parade by the gates where the characters come out. It was very quiet so we were right at the front. It was quite entertaining but we couldn't help but see that these were people who probably dreamed of being theatre actors but instead wound up working at Disney! My two children (boys, _NUMBER_ and _NUMBER_) weren't very impressed. The parade didn't last long so off we went to the rides again. I was glad to have seen the parade but I wasn't wowed by it.We went on a few more rides in Fantasyland (queuing up to _NUMBER_ mins), then moved to Discoveryland as I wanted to use the fast pass machine for the Buzz Lightyear ride. We scanned our tickets and then had to return an hour later to go on the ride. We had lunch (packed lunch plus some chips (_NUMBER_ euro a serving)) and went on the rocket ride.The Buzz laser game was a big hit. My _NUMBER_ year old in particular loved it and we returned later. My husband went on Space Mountain, which he really enjoyed. It's easy walking from one side of the park to another; it's big but manageable. Quite a few rides were closed. One thing we did and I wouldn't recommend, is go on the Disneyland Railroad. My son was napping and we needed a sit down so we didn't really mind, but there's only one train so you have to wait for it to do a full circuit before getting a seat, and your views on your journey are mostly of trees or fencing (perhaps they could decorate the fencing with scenes from Disney films?). My children loved the pirate area of Adventureland where there's climbing frames, a tree house and rope bridges.We went back to Discoveryland and chanced upon a short Star Wars production in Videopolis. It was good   we saw Stormtroopers and Darth Vader   our lot were entertained by it and I was glad to have seen a live show, as it's these little things that add value to your day and make Disney different to other theme parks.We had fast food at Hakuna Matata. _NUMBER_ euros for a main, dessert and drink. It was coming up to 8pm. The queue for Peter Pan was _NUMBER_ mins and we only had _NUMBER_ mins, we wrongly thought, to see the fireworks. People had been congregating at the space in front of the castle from _NUMBER_.30pm. 8pm passed and still no fireworks. Everyone was just standing and staring at the castle. I started asking people what they were waiting for and they said they didn't know! It turns out the fireworks don't start until 9pm. We left at _NUMBER_.30pm. It was special seeing the place at night. Our day ended with a bit of excitement   a real life mini mouse (the furry countryside variety) ran over my Dad's shoe!If we went back, I'd like to try the Indiana Jones ride (not possible with children as there are height restrictions and queuing times), maybe see another live theatre show, see the Dragon in the castle (we didn't know this existed until after our visit), and set aside time to do Peter Pan's flight (this seemed very popular so maybe go to this ride first and use your fast pass   the fast machines seemed to close down at around 6pm, so get there before lunch maybe).\n",
            "100.0% I visited here in July _NUMBER_ with my 5yo Son for the first time. It was a week before Europe's school holidays so I assume it wasn't busy. Park is weighted towards girly things verses Disneyland Studio ( read my review on Paris Disneyland Studio Survival _NUMBER_ ) Rides were typically _NUMBER_   55min wait time sign boarded, but I stop watched most queues and they ended up being up to 10mins shorted than noted. For me ( and my Son ) the investment Vs reward ratio wasn't worth it. ( i.e. 50min wait for 4min ride ). For me, the 'Fast Pass' system wasn't worth it also. To give you an example, we arrived at a ride at _NUMBER_:00pm and to use the fast pass meant we had to swipe our entry ticket then and were only able to return and use our Fast Pass at _NUMBER_:30pm. Who seriously wants to return 5hrs later after arriving at a ride to go on it. ( and for me who needed to know if my Son even liked the ride meant we had to wait in a queue first for an hour to try it, and then if he liked it we needed to return then at _NUMBER_:30pm to use the Fast Pass ). Typically Fast Pass queues were _NUMBER_ 17mins. Park lacked adequate information centres or support staff, drinking fountains were few and far between and restaurants ( out near the rides ) were also sparse. The park also needs far more locations where you can just sit and rest for a few minutes. Restaurants were crazy over priced (    _NUMBER_   AUS_CUR__NUMBER_   US_CUR__NUMBER_ for a vegi burger,    _NUMBER_ for a packet of Doritos and    _NUMBER_ for a single scoop of ice cream,    _NUMBER_ for an apple ). So here are my tips if you are still going to go.Research the rides you think you want to go on firstly ( download the Paris Disneyland app to find out more about the rides ). Double check minimum height requirement, because it's a waste of time spending 10mins walking to a ride to find your 5yo is too small for the ride.If you have a must do ride, run to that the minute you get in the gates and swipe your ticket to use the Fast Pass. Which will allow you quick access in about 3hrs and then decide if you double up and then wait in the queue to ride it then or go waste a few hours lining up for another ride first.Pack food for a whole day and fill up a water bottle at every fountain opportunity.Wear very comfortable shoes, and take a 'spray jacket' if there is any report of pending rain because only _NUMBER_ _NUMBER_ of the queue is usually undercover.I'd recommend taking a 'sacrificial' phone or device with MP4 films loaded on it so the child can watch a film in the queues to whittle away time.Now the big final tip. The light show ( illuminations ) is a must see that the kids will remember and say was the best part of the day. This is on at closing time ( _NUMBER_:00pm ) People will start to position themselves in prime location to see it from as early as _NUMBER_:30pm, but probably not worthwhile as late comers will just end up pushing their way in front anyhow. If you thought the park was crowded when you are there. Imagine what it will be like when EVERYONE in the entire park congregates in one spot. So just find a spot directly in line with the pink castle ( usually just on the Main Street ). I'd recommend you view it from _NUMBER_ _NUMBER_ back towards the entry gate ( ideal spot is an elevated rotunda close to the entry ) this is because when is finishes thousands of people will all at once exit the park and be frantically running to be first on a train, shuttle bus or taxi. So leave as the Star Wars visual finishes   Frozen visual starts. This will give you a 5min head start over the mob.If you are planning on doing both the Park & Studio allow _NUMBER_ days and buy two _NUMBER_ day passes as it will be cheaper. DO NOT try and park hop between the two as you will be exhausted and not get the most out of either park.Enjoy!\n",
            "==================================================\n"
          ]
        }
      ]
    },
    {
      "cell_type": "markdown",
      "source": [
        "#### California — Negative"
      ],
      "metadata": {
        "id": "gJXDfJEI_n5P"
      }
    },
    {
      "cell_type": "code",
      "source": [
        "ca_neg_vectorized = vectorizer(ca_neg)"
      ],
      "metadata": {
        "id": "8QZ88dyv_or6"
      },
      "execution_count": null,
      "outputs": []
    },
    {
      "cell_type": "code",
      "source": [
        "nmf = NMF(n_components=2)"
      ],
      "metadata": {
        "id": "ZZbk1BY0_wVO"
      },
      "execution_count": null,
      "outputs": []
    },
    {
      "cell_type": "code",
      "source": [
        "W_ca_neg = nmf.fit_transform(ca_neg_vectorized)\n",
        "H_ca_neg = nmf.components_"
      ],
      "metadata": {
        "colab": {
          "base_uri": "https://localhost:8080/"
        },
        "id": "WLbuUblA_yNx",
        "outputId": "77dc630e-4460-49fa-a19f-d2514aabce25"
      },
      "execution_count": null,
      "outputs": [
        {
          "output_type": "stream",
          "name": "stderr",
          "text": [
            "/usr/local/lib/python3.7/dist-packages/sklearn/decomposition/_nmf.py:294: FutureWarning: The 'init' value, when 'init=None' and n_components is less than n_samples and n_features, will be changed from 'nndsvd' to 'nndsvda' in 1.1 (renaming of 0.26).\n",
            "  FutureWarning,\n"
          ]
        }
      ]
    },
    {
      "cell_type": "code",
      "source": [
        "#get_top_tf_idf_tokens_for_topic(H_ca_neg, ca_neg_vectorized.columns.tolist(), 5)"
      ],
      "metadata": {
        "id": "FEyieO1Q_1g6"
      },
      "execution_count": null,
      "outputs": []
    },
    {
      "cell_type": "code",
      "source": [
        "get_top_documents_for_each_topic(W_ca_neg, ca2_neg.Review_Text.tolist(), num_docs=10)"
      ],
      "metadata": {
        "colab": {
          "base_uri": "https://localhost:8080/"
        },
        "id": "At3nY0gP_4mn",
        "outputId": "20a82a9f-b430-4929-e37b-0e3050840192"
      },
      "execution_count": null,
      "outputs": [
        {
          "output_type": "stream",
          "name": "stdout",
          "text": [
            "Topic 0\n",
            "100.0% We traveled to California for a 5 night vacation. We purchased a 3 day hopper pass to Disney. We were traveling with our son who is handicapped and our 2 year old daughter. It was very clear the first day we arrived at the park that the staff was very unsure how to help or answer questions we had. We would get conflicting answers and some of the staff was rude. It definitely did NOT have the vibe of    the happiest place on earth!    Very disappointed! Sad to spend that kind of money and feel like it was a waste! \n",
            "100.0% I have been the biggest fan of Disneyland my whole life, as it was always truly a magical experience even as an adult. I was so excited weeks before to My last trip, On November 22, 2010, It was such a let down. The park obviously has cut back on services. You never in the past would have seen garbage cans overflowing. We went to the lockers and the machines wouldn't take the money or print the receipt and we could not find an attendant. Though it was cold outside the locker room was so stuffy, no air flow. First thing in the morning the bathrooms already smelled like port a potties and the sinks only have cold water in the cold of November. Apparently Disney wont pay for warm water. The worst was Cinderellas castle. The sewer smell was so overwhelming that we couldn't stand to shop in the shop and left. Nasty horrible smell. There were kids climbing tall walls by space mountain that says law suit all over it when they fall over, again no attendants. Of course the non attentive parents could care less, I just hate to see kids hurt or Disney sued. We always get shirts and other souvenirs, yet just to try and buy something was a 45 minute wait, only two registers in the store we were in. For the big bucks spent to go to the happiest place on earth, it seems now Disney has fallen into the bottom line and no longer cares about customer service. I'm sad. And lastly, we spent lots of time on main street and I never saw one Disney character except in the parade. 45  years of magic for me erased. Very very sad. Hotel, gas, food, souvenirs, in a recession, not worth it anymore. it felt like a cattle drive. It really breaks my heart that one of the places that dreams are made of is no longer that. I do want to say something positive, The shuttle bus service is great! We never had to wait coming or going and the drivers are very nice. A Big Thumbs up for them! When you wish apon a star has always been my favorite song.\n",
            "100.0% My husband and I, and our 24 year old daughter, spent a fortune for the two day park hopper. Yes, it had been 16 years since we had last visited,  the happiest place on earth,  but we did not expect how awful our experience would be. First, when I bought the tickets as part of staying at the Disneyland Hotel, the person on the phone should have told me that Friday, May 16th, was Grad Night. Thousands and thousands of unescorted 17 and 18 years olds filling every possible space on the entire property   misbehaving as only 17 and 17 year olds know how to misbehave. IT WAS A COMPLETE WASTE OF A WHOLE LOT OF MONEY THAT WE WORKED VERY HARD TO MAKE. Second, the park was filthy and the rides have not been cleaned in a long time. For example, the bar you would automatically hold during the ride on the Matahorn was so disgustingly dirty, we had no interest in holding the bard. Not surprisingly, we heard various people complaining as we exited the ride. Also, the bruises I got because I was not able to hold on were certainly not worth the experience. Third, it is so clear that Disney only cares about making money. Several of the rides were closed and others had a 90 MINUTE WAIT. Nonetheless, they have no limit to the number of people they allow into the park so at times, you can barely breath because of the number of people around you. Fourth, many of the so called  cast members  are clearly unhappy with their jobs. I don't blame them, actually, when there are thousands and thousands of people running from ride to ride desperate to get a least a little bang for their buck. I could go on and on, but I won't. I highly encourage each and every one reading this that they spend their money elsewhere. I also suggest that Disney management spend the day at the park with someone like me. It won't be me because I do not have the resources to waste another $550. Walt Disney would be rolling over in his grave if he knew how poorly treated the  guests  are at the park. And for what? To make a buck. Shame on you Disney. Shame on you.\n",
            "100.0% Have been to Disneyland before, as my wife is a California native. We have also been to many other theme parks all over the country as well. Now, when one goes to a theme park, crowds and long lines, as well as high prices for souvenirs, food, parking, and entrance into the park are to be expected. However, it was so crowded yesterday, you couldn't tell where the lines for the rides were, and walking was nearly impossible! In fact, we relished waiting in long lines, because it gave relief from the pushing, shoving, and getting the backs of your ankles run over by strollers! In eight hours, we were able to get on two rides. The part that will keep us from ever going back, though, was at the end of the day. We had a train to catch, and needed to exit the park to catch a shuttle to the train station at 2130 hours. We left the souvenir shop closest to the gate, no more than 75 yards, at 2100 hours.....it took us OVER ONE HOUR to get out of the gate. There was zero crowd control, and literally no way to move. Had there been a fire or some other emergency, there would have been casualties. BTW: we missed our shuttle.Does Disney not keep track of how many people are in the park? Can they not see the streets are so crowded you cannot move? I would advise folks to avoid this place, or be ready to shuffle, jostle, push, shove, be run over, stepped on, walked on, stepped on, and hoping the lines for the rides are long just so you can get a respite from the crowded streets!There were literally children crying and saying they wanted to go home. I guess it's no longer the happiest place on earth....\n",
            "100.0% I have no doubt that Disneyland was going off, circa 1982. But it has not kept pace with the times and it is just sad, dingy, shabby and rundown. And a total waste of money.I had a few laughs, but at one point the big rides (the ones for adults) ALL shut down except for space mountain with no indication when they'd reopen, plus a bunch like pirates of the Caribbean and finding nemo were closed all day. It was quite bizarre.What they need is wifi access, more signage in general, electronic signage letting you know what is open, ride wait times etc   all the things that people these days expect.But more importantly it was just the overall dinginess that was the biggest disappointment  happiest place on earth and magical is just a marketing ploy   an excellent one they do brilliantly. The reality is just old, dated rides that looked shabby and 80s. Even the staff in their awful uniforms looked like someone from the 80s trying to look 50s.Unless you have young kids, and I mean age ten tops, don't bother. It is just sad and overrated. Totally shocked at the good reviews this place gets. I think it just is one of those childhood fantasy places we all build up in our minds, and the reality is just awful.Save your money and go elsewhere!\n",
            "100.0% Went here on 05 20 17. Never have I seen such utter disregard for the handicapped, or such poor customer service. We got there just after opening. The group was my cousin and her husband and myself, wife and daughter. My cousin purchased the tickets some $700 plus worth. First thing my cousin did being from Minnesota was buy a few souvenirs. About an hour in we decided to go to the Haunted Mansion. My cousins husband has major back difficulties, so my cousin had me stay with her husband and she and my wife went to ask how we could make it easier on her husband. They came back to us and my cousin was hot. She stated that the girl at the gate told her that even the crips must wait in the line. We went back to the gate to confront the girl but she was gone. My cousins husband decided to try and tuff out the line. A one point my cousin spotted the employee that was rude to her. The employee saw her coming and removed her name badge. They argued. She exited somewhere into the ride and disappeared. I tried to calm down my cousin, She was HOT!! Finally I thought things were going better. We were in Fantasyland were my cousin decided to get a Coke. She went to the stand where they sell Coke products, She asked if the had Coke Zero, to which the person operating the stand named Anthony said if you want Coke Zero you better find a liquor store. I gave the young man a hard time but my cousin lost it. We went to the front gates where she complained. She then took her passes, souvenirs and anything else she had that was Disney and tossed them in the trash and we left the park after only a couple of hours. We then ended up over at Knott's Berry Farm where we had a great time. A day later I wrote an email to Disneyland describing my displeasure. I received a phone call and an email while I was at work. I called back and spoke to a lady named Susan. From the get go this lady basically accused me of being a liar. She made statements like our cast members would never do that. Oh my they would never say that. Well news flash Susan the little fools did do and say that. My cousins husband can barely walk and he was treated like a sub zero human. They have fools at the concession stands looking only yo get a paycheck. I know what I'm going to do. I will never set foot on a Disney property ever again. We chucked out all their DVD's. My cousin contacted me about the incident, and never wants to hear about it again. To the folks that have read my reviews in the past. I am giving you fair warning. You can this place the Happiest Place on Earth, I call it the most money hungry unethical place I have ever seen. You pay hundreds of dollars to get in only to be treated like dirt. If you want a real good time try Knott's Berry Farm. This is a place I really enjoy and your treated like a human being not a discarded piece of trash. See ya later Disneyland. You can continue your corporate greed at someone else's expense, NOT MINE!!!!!!!!\n",
            "100.0% I mean what can I say. It was a basic theme park. I thought Disney was supposed to be magical and for $300 it was very just ehhhh. The parking situation was terrible! The shipped us to a convention center about 15 minutes away meaning it wasn't until 45 minutes later that we finally made it to the park. We waited for 15 minutes for the Beauty and the Beast show to start and the curtain opened, the narrators began to sing and then curtain closed and they told us the show was canceled. I mean really, that's terrible disappointing for a 3 year old. The pizza was really bad and $8 a slice. I mean Little Ceasers makes better pizza. I felt like the employees there weren't that nice. It was just not the happiest place on earth.\n",
            "100.0% This is our 3rd Disney Park and my god was we disappointed. I can honestly see how in 2016 they made 2.4 billion in profits from there parks. They sell happiness but do they sell it at a reasonable price. God no 1 single banana $2.99plus tax, small bottle of water $3.29 plus tax. Walling round this park looking a the 1 to 2 hour plus lines i thought to myself why am I here. Is it for the top rides in the world... No is it for the amazing treatment from there cast... No I actually couldn't give myself a good enough reason. There food is mediocre for a high price. There rides are not the best in the industry. There is no real value in a Disney park..... Save some money and take the kids to parks that's Invest because they want you to be happy and enjoy not just because they want to rinse you for supply the so called happiest place on earth. \n",
            "100.0% We went here filled with excitement and had high expectations to be overwhelmed with joy after being told it is the  happiest place on earth . The park was absolutely packed when we arrived and we had to wait almost an hour to get parked and in the front gate. There hardly any thrilling rides or anything which was worth the 1 hour plus wait times so we spent the majority of the day walking around battling the insane crowd. All of the staff had fairly monotonous personalities and there wasn't a whole lot to see and do so we left after a few hours only. Universal Studios was so much better and a lot cheaper. Disneyland would probably only be good for little children.\n",
            "100.0% Maybe my husband and I are missing the magical gene but I am sorry folks the happiest place on earth is a bit overrated. If we did not have a young child this place would not even be on the radar for a vacation. It's not about the money but when your spending what you spend to get through the gates the rides better be working and the cast members better have a Ms USA smile smothered on their faces all day. The food is horrible, out of the 100 s of staff members maybe 10 smiled. The lines to get on rides is ridiculously long the wait time horrible. And the magical fast pass helps a bit. We visited during a slow time of the year I can't imagine during the summer busy months. Even my 6 year daughter was over it   I asked her what she will remember from this  magical  visit   she answered with waiting in line. Really not what I expected. \n",
            "==================================================\n",
            "Topic 1\n",
            "100.0% The buildings from cartoons I liked. The terrible waiting time to get on a ride. My kids waited 1 hour in line to get on a 90 seconds ride. The broken rides you expected to ride and they were broken, that I didn't like. Crowds were terrible there ought to be a limit how many people are allowed in.\n",
            "100.0% This theme park was over crowded,then you have to wait for a ride like about an hour then they came with the excuse that the ride broke down , and it wasn't only one ride it happens to five rides they came with the same excuse,the food was so expensive all over the area including the harbor street,the T shirts forget it too expensive too,then the FAST PASS they make you wait for about three hours for the next ride and still you have to wait in line.this was my third time and my last I go there.then we went to Universal Studios,and sea world,that was great,no problem waiting too long in line,the ride were working alright.That i love it the BEST AND THE BEST. About Disneyland I GIVE THEM A BIG ZERO!!!!!!! ( 0 ).bye\n",
            "100.0% What was supposed to be a magical 9th birthday trip to the  Magic Kingdom  for our grandson was the most unhappiest trip of all. While we expected to find lines at rides we didn't expect to have to wait hours for a ride that lasted less that ten minutes! We spent hard earned money to take our youngest grandson on a trip that we wanted to be special for a grandson who has already overcome health obstacles in his young life. This was a trip I would not recommend to anyone. The so called  fast pass  system is only  fast  in the short times that they are available. Finding the location is like looking for a needle in a haystack! Do not eat the food found at the park  not only is it expensive it is terrible. Disney has always been known for their excellent service. This was not true during this visit. The Disney photographers did not even give us a chance to take pictures of the places we wanted to take  we were moved out of the way rudely. The final straw came when the Pirates of the Caribbean broke down. We were stuck for over 20 minutes! Do NOT visit during any holiday weekend! The overcrowding is unbelievable!!!\n",
            "100.0% Maybe it is because I am 64, but Disneyland has lost it's magic for me. $17 for parking and $94 to get in is toooooo much when you have to wait 40 minutes for a ride. No discount for seniors! We had to walk to and from our car! I will not come again.\n",
            "100.0% Disneyland has proven to be all about getting your money and NOT caring if you have a good time.It is no cheaper in the off season, but more rides are closed due to refurbishment. More rides were closed than what they listed on their website, and when we got there, more rides were closed than listed at the front gate.We went at 10am and were done with Disneyland by 4pm   we'd even ridden our favorite rides a couple of times.So, you can go in the off season and  maybe  have less people, but also less rides (your favorites may be closed). Or go in season and wait hours to ride the rides.We contacted Disneyland after we returned home because we had such a horrible time, and they did not care one bit. We wanted some of our money back because so many rides were closed, and Disneyland said  no . They said we could have enjoyed the rides that were actually open, so no discount. Our disappointment did not matter to them.We might go back, maybe once every ten years?\n",
            "100.0% Over crowded, nothing magical, worst way to experience Disney in my opinion! Everywhere you could see was just a sea of people. 1 2,5 hrs wait time per ride and the ride only lasts for 5 minutes max (that's really not worth the wait, guys). Entrance fee is super expensive ($95) if you could only go to 4 attractions in a day. I've seen families and kids exhausted and not enjoying the park because of the crowds. Disney has to limit the number of visitors per day if they want the customers to enjoy the Disney experience, but NO! They only care about the money going in. Food is very expensive and of inferior quality. I'm not blaming Disney for monopolizing the food inside the park, but come on guys, the food could have been much much better. The park itself is actually beautiful and well made, but the way it managed the experience of the customers was just way beyond horrible. We have vowed to never come back to Disneyland ever again.\n",
            "100.0% The newest and most popular ride, Cars, broke down 30 minutes after opening at 8am and did not come back up until 730pm.  This is a real disappointment to kids, especially if they can't wait over 8 hours for a ride to be fixed.\n",
            "100.0% We travelled specifically to Anaheim mid January with our children aged 9 and 10 years to visit Disneyland. This was after a 4 month trip to many world destinations. Disneyland was the biggest let down of our entire trip. I feel Disneyland has got greedy, charging exhorbitant prices for food and merchandise. OK, we didn't have to buy anything   and we avoided it as much as we could. Actually bought Disney products at Target store and they were really cheap. But the biggest negative aspect of the visit was the endless queues and the long waits to get into the park in the morning. We went after the holiday season in LA when it was supposed to be quiet and still the wait time for all rides was at least 30 mins. Cars Land was 180 mins. The ride is amazing tho when you get on. Without the Fast Pass system we would have been hooped. Managed to do about 4 5 key rides a day using this. So if you go, be sure to master it early on. We bought a 3 day pass to get the Magic Morning early entry. That day it took 55 mins for the staff to process the queue so we could just get in the gate. Arrrrrggggghhhh, try explaining that to 2 really gutted kids. Their excuse was that they were trialling a new photo ID system to prevent fraud. Well I do not agree that I should have to pay over $1000 NZ dollars to be part of your trial and stand in a ridiculous queue. Bad brand experience Disney!!! I really feel for the price and the time standing in queues it was not good value at all. Why do they not limit the number of tickets sold each day? We did the Alcatraz tour in San Fran and this in on a limited ticket basis and you have to book weeks in advance. But it was fabulous and a great experience. Just felt Disneyland was all about the $$$ and not the experience. I hate to be negative, but I am being totally honest here about how disappointed we were. We will not be back and we are warning everyone here in NZ to think carefully about the huge expense to travel to LA and then have this kind of experience.\n",
            "100.0% We were very excided about visit Disneyland Park this was planned to the highlight of our holiday in US   but it was almost a nightmare...We choosed a weekday, in September   hoped less people because of school day...The end of the line was at Harbor Blvd before 9 o'clock... At security check we had to throw away our selfie stick, I don't know why because later in the park we saw that many people used. Finally we could enter to the park after 1 and half hour waiting (with a 5 years old kid). In the park everywhere had to wait 10 20 30 minutes for a ride   terrible!!! There were lot of people with stroller, finally it was impossible to walk without hit a stroller... And so on and so on. We asked a girl from the staff and she told it was a very strong Monday..Finally I can give only one advise to the management, please limited the number of sold tickets for a day   because it was a very bad experience for us because of the too many visitors.\n",
            "100.0% We paid full price for one day park hopper for three people, at $105 apiece we felt it was very expensive. We tried to be efficient about the rides we wanted to go on. Space Mountain was broken when we got there at opening, got fast passes for the ride at noon, the return time was 8PM (is this ridiculous? I thought so). After returning at the appointed 8PM time, my family waited 70 minutes and the ride broke. They never got to ride it. Disney didn't offer (we didn't ask for but assumed they would) some type of  sorry for the inconvenience gift . We had to wait a minimum of 65 minutes for every ride with the execption of Soar'n which we got to very early in the day. Overall we paid a lot of money to stand and wait, and stand and wait, and stand and wait. We rode as many rides as possible and that would be 7 rides. For $105 each. Not a good value for the money. When we weren't waiting in line, we were trying to make our way through crowds of people. The park closes at midnight (at least it did the day we were there), and as I sat waiting for my family to wait the 70 minutes to NOT get to ride Space Mountain (I opt out of this ride), I watched at least a hundred hungry people get turned away from the only sit down restaurant in the Tomorrowland area which closed at 10. Why they would close so much earlier than the park was a mystery. I can say every employee we met was friendly and nice. But save your feet and your pocket book and go to a local amusement park, it will be much less expensive and you will have the opportunity to ride more rides!\n",
            "==================================================\n"
          ]
        }
      ]
    },
    {
      "cell_type": "markdown",
      "source": [
        "#### California — Positive"
      ],
      "metadata": {
        "id": "7MKcatg0AISk"
      }
    },
    {
      "cell_type": "code",
      "source": [
        "ca_pos_vectorized = vectorizer(ca_pos, ng=(3,3))"
      ],
      "metadata": {
        "id": "PLIDJzg9_85g"
      },
      "execution_count": null,
      "outputs": []
    },
    {
      "cell_type": "code",
      "source": [
        "nmf = NMF(n_components=2)"
      ],
      "metadata": {
        "id": "0XCLG_WwAMDI"
      },
      "execution_count": null,
      "outputs": []
    },
    {
      "cell_type": "code",
      "source": [
        "W_ca_pos = nmf.fit_transform(ca_pos_vectorized)\n",
        "H_ca_pos = nmf.components_"
      ],
      "metadata": {
        "colab": {
          "base_uri": "https://localhost:8080/"
        },
        "id": "mH0G2cHWANcm",
        "outputId": "4b8e97ed-e77f-45a7-e8d6-b539d083405d"
      },
      "execution_count": null,
      "outputs": [
        {
          "output_type": "stream",
          "name": "stderr",
          "text": [
            "/usr/local/lib/python3.7/dist-packages/sklearn/decomposition/_nmf.py:294: FutureWarning: The 'init' value, when 'init=None' and n_components is less than n_samples and n_features, will be changed from 'nndsvd' to 'nndsvda' in 1.1 (renaming of 0.26).\n",
            "  FutureWarning,\n"
          ]
        }
      ]
    },
    {
      "cell_type": "code",
      "source": [
        "get_top_tf_idf_tokens_for_topic(H_ca_pos, ca_pos_vectorized.columns.tolist(), 5)"
      ],
      "metadata": {
        "colab": {
          "base_uri": "https://localhost:8080/"
        },
        "id": "0A2nrX45AOwy",
        "outputId": "02de1f6b-170f-4875-b844-bfc818d001a4"
      },
      "execution_count": null,
      "outputs": [
        {
          "output_type": "stream",
          "name": "stdout",
          "text": [
            "TOPIC 0\n",
            "\n",
            "\bhappiest place earth (96.5%)\n",
            "\n",
            "\bbig thunder mountain (1.0%)\n",
            "\n",
            "\bfamily good time (0.8%)\n",
            "\n",
            "\bindiana jones ride (0.7%)\n",
            "\n",
            "\btime california adventure (0.6%)\n",
            "\n",
            "==================================================\n",
            "TOPIC 1\n",
            "\n",
            "\buse fast pass (77.9%)\n",
            "\n",
            "\bindiana jones ride (10.7%)\n",
            "\n",
            "\btime california adventure (4.5%)\n",
            "\n",
            "\bbig thunder mountain (4.0%)\n",
            "\n",
            "\buse fast passes (1.6%)\n",
            "\n",
            "==================================================\n"
          ]
        }
      ]
    },
    {
      "cell_type": "code",
      "source": [
        "get_top_documents_for_each_topic(W_ca_pos, ca2_pos.Review_Text.tolist(), num_docs=10)"
      ],
      "metadata": {
        "colab": {
          "base_uri": "https://localhost:8080/"
        },
        "id": "uieDUKnqATXJ",
        "outputId": "ffdf6e84-e800-43e1-9417-8caf52ac12b9"
      },
      "execution_count": null,
      "outputs": [
        {
          "output_type": "stream",
          "name": "stdout",
          "text": [
            "Topic 0\n",
            "100.0% Magical? Yes! Delightful? Yes! But the waiting time killed it all. I guess all I can say is be smart. Put one parent in line while the other one entertains. Yes! Disneyland is the happiest place on earth, but be prepared to spend multiple days...More\n",
            "100.0% There is really the happiest place on earth never get tired of going and they change the rides all the time\n",
            "100.0% My wife and I had limited time in LA (_NUMBER_ days) so dedicated ourselves to completing both Disneyland Park and California Park (across from it). Most would think it an impossible mission, but if you plan as we did and only go for the rides, it's do able! Despite not having VIP lines (compared to Universal Studios), if you get in early enough (we got there at _NUMBER_ am) you can experience Disneyland and all it's main attractions and rides in about _NUMBER_ hours! Despite what at times felt like crushing lines, we managed to enjoy it all! From Space mountain (_NUMBER_ hour wait), the Haunted House (which was also about a _NUMBER_ hour wait as the ride ceased whilst we were waiting in line), Indiana Jones (my favourite) and the Matterhorn (to mention but only a few) we squeezed them all in! I stress we did not go to any shows though, purely rides and lots of photograph taking. The motto is  happiest place on earth  and I would have to agree the start (when you're entering the gates) and the end (when you're exiting the gates) my wife and I definitely had that feel, but for different reasons. It's a childhood dream (as for many) to have experienced it and then have finally experienced it after the crushing crowds (big relief). They do have a  fast lane  option for some rides and events but it simply gives you a time you can return to the ride as opposed to waiting in some of the insane lines. Definitely must do if you're ever in LA.\n",
            "100.0% Disneyland is the happiest place on Earth!  The ambiance and atmosphere of Disneyland is wonderful and is topped off with the night parade, show and fireworks.  A once in a lifetime experience.\n",
            "100.0% Our family just spent five days here and as usual it's as good of an experience as you can expect from Disney. It continues to be the Happiest Place on Earth. Other than the park being extremely crowded on our last day, there are no complaints. \n",
            "100.0% Brought a _NUMBER_ day park Hopper. Still didn't see everything. Went on all the rides just didn't get to see all the shows etc. _NUMBER_ Days allows you to come and go and have a rest day or afternoon if needed. Go early when you can and do all the popular rides first. If you get a _NUMBER_ day park hopper or more then that intitules you to get a fast pass. These were great and so worth it!! A fast pass can cut out 30mins of your wait time. Not all rides have them, just the popular ones. You can bring food and drinks in. Just not in glass, cans etc. No cutlery. Expensive to eat inside, so bring your own when you can. NO SELFIE STICKS, they will take the of you at bag check. You can get them back buts its a hassle. Backpacks can be taken on to all rides. Easier to get around and faster if you don't have a stroller. Stroller parking everywhere but sometime other strollers can block you in so its a pain to get in and out. We went Mon Fri and couldn't believe how busy it was even mid week. I cant imagine the crowds at peak times. I overheard someone say that the crowds were getting so bad that they put the price of admission up and it made NO difference to crowd numbers. The crowds can get to you, combine that with the heat and it can be taxing. Its not always the Happiest place on Earth. The parades are great as is the night time light up one. Its still worth the effort. Just get a _NUMBER_ day park hopper which means you can get a Fast pass, it makes all the difference with the lines.\n",
            "100.0% The saying  The happiest place on earth  is so true. Everyone has a smile, you can't help yourself but be happy. Fastpass what a great idea, all the big rides have it, it allows you to basically book a time to ride the ride, missing what can be very long queues. The park is broken down into lands, Adventureland, Tomorrowland, Frontierland, Fantasyland and Mickey's Toon Town. With each area having building depicting the land, from Indian tents, to Arabian bazzars, to Princess castles, evereything is fantastic, the detail is superb. Nothing is impossibe to the Disney Imagineers. The street charectors shows are frequent and colorful. the fireworks at night are breathtaking. You may walk in an adult, but within minutes you are that _NUMBER_ year you mind always thinsk you are. A quick note, when you first walk in to Main St, look up at the Fire station. Walt used to live above it, so he could watch they joy his creation was and is still giveng to generations.\n",
            "100.0% I don't have much to say but Disneyland has to be the happiest place on earth. We went there with our family and enjoyed every moment. We found it even more enjoyable with the whole family to share the experience.\n",
            "100.0% We got a _NUMBER_ day hopper pass which we used on a Tuesday and Wednesday. The park was busy on both days (I can imagine that it   s never really quiet). A lot of rides and attractions were Christmas themed which was festive and nice   including    Its a Wonderful World    and    The Haunted Mansion    to name a few. Our favourite rides were Indiana Jones, Pirates of the Caribbean and Splash Mountain. When you enter the park there are maps everywhere, as well as at stations throughout the park. There are lots of eateries and merchandise shops throughout the park as well so there   s always something to see, do and eat. There are A LOT of small children there (from babies to teens) so if you   re not a fan of kids then you may not enjoy it. On the other hand, they have catered to families and have stroller parking, stations and family areas all around.The food within the park is quite expensive, we left the park at lunch time and ate at the restaurants close to the park which were cheaper, plus it gave us a break from the crowds. Highlights: the Teacups and New Orleans Square. Lowlight: the wait time in line for the rides. Recommendation: obtain a plastic jacket or wear something that can dry easily if you sit in the front seat of splash mountain because you WILL get soaked. I would go back to the happiest place on earth for sure   we loved our two days! \n",
            "100.0% Each night the fireworks are amazing. This place truly is the happiest place on earth!   Went on trip with girlfriend and had amazing time!\n",
            "==================================================\n",
            "Topic 1\n",
            "100.0% Loved Disneyland, loved the rides, loved the fast pass system. You must use the fast pass system when it is busy, saves you alot of time waiting around in lines. You scan you park ticket and a fast pass ticket prints out and you go back to the ride at the time it states on your ticket. My husband said he wouldnt have enjoyed Disneyland if it wasnt for the fast pass system. Unfortunately in April there were no parades which was a disappointment. However loved the rest of the park, enjoyed the fireworks and the Fantastic Show.\n",
            "100.0% To truly enjoy the park plan on spending more than one day, especially with young children. Expect there to be lines for most attractions, but if you plan it right you won't have to wait more than _NUMBER_ minutes for most rides. Take advantage of the fast pass for the rides with longer lines. Ask the cast members about the line waits for different times of day as proper planning can save you a lot of time.Young kids can ride most of the rides and attractions. Only the bigger rides, like Splash Mountain have a height requirement of _NUMBER_ inches. For families with small children the rider switch pass is a very nice option. Younger kids that meet the height requirement can go on twice (once with each parent), and you essentially don't have to wait in the line twice. Also, the rider switch pass is good for the whole day, so you can use your fast pass to go on the ride in the morning, and come back later on for the other person to go on the ride.There are entertainment options for all ages. It is a great place for young and old.\n",
            "100.0% This was our second trip within _NUMBER_ months, thanks in part to the low US   Canadian exchange rate.The first time we werent very happy with the Hotel Menage, this time we decided to stay elsewhere, and it was perfect! We stayed at the Marriott Residence Inn and it was perfect. The thing to remember with Disneyland, that unless you are willing to pay a premium and stay at either the Disneyland Hotel, Grand Californian (closest and practically inside California Adventure), or at Paradise Pier (the least expensive of the _NUMBER_), you are in for a bit of a walk. Parking on the other hand is fairly reasonable, and my favorite parking lot is the Toy Story lot. Comfortable shuttles take you to and from the park and operate constantly. We never had to wait for a shuttle, there was always one waiting.The thing to remember inside the park is to use the fast pass! It is free, and saves you slot of time, especially during peak park times. Do not miss the World of Colour, a free and amazing show in the California Adventure park. Note you will get wet, especially if you are in the yellow or red sections, and be prepared to stand for a long period of time, as they corral you in to the sections almost an hour ahead of the show, and there is no seating.Ariel's Grotto, which allows your child to meet the princesses, is overpriced, and the food is not good in my opinion. The face of my daughter however, priceless when the princesses interested with her, and on to Of a _CUR__NUMBER_ lunch the _CUR__NUMBER_ photo was still great, though it would have been nice to be included.The rides are the real attraction and both Disney and California Adventure does not disappoint. On the Disneyland side, my favorites (these are the ones I would ride more than once) are: Star Tours, Space Mountain, the Matterhorn Bobsleds, The Teacups, the Disney Railroad, Indiana Jones, Buzz Lightyear Blasters, Splash Mountain and Pirates of the Caribbean.In California Adventure: Toy story, Goofys sky school, Soaring over California ( the family favorite), the ferris wheel, Zeppelin, and Ariels undersea adventure. A tip for parents old enough to drink, there are the best margaritas served in California Adventure!\n",
            "100.0% I have been to Disneyland at least _NUMBER_ times during my lifetime and have come to the conclusion it is the most magical place on earth. My favorite time at Disneyland is nighttime. I love the way everything is lit up. Nighttime also provides a break from the heat of the day. We had small children with us that definitely slowed us down. My consolation was that we had _NUMBER_ day tickets, so I wasn't too concerned about doing everything in just one day. Food inside the park is yummy but a little on the expensive side. A quick walk outside the park provides several options for food. Denny's and McDonald's are both pretty much across the street. We rented strollers each day we were there. I recommend getting to Disneyland by _NUMBER_:_NUMBER_ _NUMBER_:_NUMBER_ to make sure there are still strollers to rent. Take water bottles and misting fans to deal with the heat. Guns and pocketknives are not allowed inside the park, so don't have these on your person when you arrive. My favorite attractions are: Pirates of the Caribbean, Jungle Cruise, The River Boat, and It's A Small World. There is an app available that shows what the wait time is for each attraction. This was invaluable to us. Learn how to use the  fast pass  feature at Disneyland. This will also save you some time. Plan to be at the park at night to see the fireworks. \n",
            "100.0% Use the Fast Pass system! We had no problems getting onto our favorite rides multiple times each day. However, the Radiator Springs Fast Pass (California Adventure) often  maxes out  before ten in the morning, so go there first. Also, if you want to see the  World of Color  show at night, get a picnic dinner from the nearby restaurant and preferred seating. The rest of the park pretty much closes down while the show is on, so don't think it is a great time to check out the other rides.\n",
            "100.0% Visited for the holidays with the family. Do yourself a favor and get the fast pass! Use the fast pass at the most historically busy ride First! The lines are almost always _NUMBER_ to _NUMBER_ minutes otherwise. The park is showing its age a little, but they are trying to update with newly renamed and remodeled rides. \n",
            "100.0% This year they are celebrating 60th Diamond Anniversary and the parade, fireworks, world of colour show are amazing. Rides are still fantastic and having use of the fast pass is so helpful.   Highly recommend a minimum of _NUMBER_ day park hopper.\n",
            "100.0% We have been to Disney parks in Orlando and Paris and this by far is the friendless so far, all members of staff we approached were friendly and helpful, we had a couple of issues which was dealt with in a efficient and agreeable way. There are only two parks which means the parks are busy unlike Orlando where the spread of guests would be greater as there are more parks, this does cause busy parks and long lines for rides, use the fast pass system effectively it shows you the time you can next get your fast pass use this to the maximum, (it   s usually available again after two hours but as the day goes on this time scale decreases), if the ride lines say 20mins etc double it and you won   t be disappointed on the wait, the fast pass lines take priority. Always check the weekly time documents for the park these are available at information as early hours and other attraction times do change daily and weekly if in doubt ask. We have used Disney parks a lot so we pretty much knew what to expect, if you love Disney you will love it here.\n",
            "100.0% Spent New Years eve at Disneyland   it was Awesome. Absolutely packed and don't expect to do a lot of the rides due to huge Queues. But a great experience for the atmosphere, the show and the fireworks. Loved our _NUMBER_ days at the Disney Parks, even though it was a really busy time of year to visit. Would definately recommend making the most of a Magic Morning pass to get through some of the rides, and use the Fast Pass system where you can.\n",
            "100.0% You need as least _NUMBER_  _NUMBER_ days to experience everyting in both parks. We had _NUMBER_ full days from morning to closing and still missed a few things. You need to use your fast pass regularly to save time and as Cars Land is new it is really busy. Make sure you line up for a fastpass for the Cars Racing Ride first up as this ride is the busiest and fast passes will sell out by early afternoon. We found the food at the park reasonably priced and bought lunch or dinner there, rather than wasing time to leave and come back. Make sure you see all of the night shows   Fireworks, World of Color and Mickey Mouse vs The Evil Queen. They are spectacular and I think the best attractions at both the parks. You can get a fastpass for the World of Color which will ensure you get a good viewing spot. Otherwise people start waiting in good viewing spots a _NUMBER_ hrs prior. \n",
            "==================================================\n"
          ]
        }
      ]
    },
    {
      "cell_type": "markdown",
      "source": [
        "Summary of each topic will be explained in detail in our report. We identified two topics as the best split after trial and error, and chose different n-gram ranges for each dataframe that helped us best identify the topic splits"
      ],
      "metadata": {
        "id": "O0tpU2mOVRkl"
      }
    }
  ],
  "metadata": {
    "colab": {
      "collapsed_sections": [],
      "name": "DSO560_Project.ipynb",
      "provenance": []
    },
    "kernelspec": {
      "display_name": "Python 3",
      "name": "python3"
    },
    "language_info": {
      "name": "python"
    }
  },
  "nbformat": 4,
  "nbformat_minor": 0
}